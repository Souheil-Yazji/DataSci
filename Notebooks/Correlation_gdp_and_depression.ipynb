{
  "nbformat": 4,
  "nbformat_minor": 0,
  "metadata": {
    "colab": {
      "name": "Correlation - gdp and depression",
      "provenance": [],
      "collapsed_sections": [],
      "toc_visible": true
    },
    "kernelspec": {
      "name": "python3",
      "display_name": "Python 3"
    },
    "language_info": {
      "name": "python"
    }
  },
  "cells": [
    {
      "cell_type": "code",
      "metadata": {
        "id": "y54y4WT4V60L"
      },
      "source": [
        "#import\n",
        "import pandas as pd\n",
        "import numpy as np\n",
        "import matplotlib.pyplot as plt"
      ],
      "execution_count": 49,
      "outputs": []
    },
    {
      "cell_type": "markdown",
      "metadata": {
        "id": "vPZ4f3fRV5-n"
      },
      "source": [
        "#Unify country names"
      ]
    },
    {
      "cell_type": "code",
      "metadata": {
        "id": "i0dMlFMdV07p"
      },
      "source": [
        "#function to unify country names\n",
        "country_name_changes = {'Venezuela, RB': 'Venezuela',\n",
        "'Viet Nam': 'Vietnam',\n",
        " 'United States of America': 'United States',\n",
        " 'United Republic of Tanzania': 'Tanzania',\n",
        " 'United Kingdom of Great Britain and Northern Ireland': 'United Kingdom',\n",
        " 'Slovakia': 'Slovak Republic',\n",
        " 'Saint Lucia': 'St. Lucia',\n",
        " 'Republic of Moldova': 'Moldova',\n",
        " \"Democratic People's Republic of Korea\":'Korea, Dem. People’s Rep.', \n",
        " 'Republic of Korea':'Korea, Rep.',\n",
        " 'Kyrgyzstan': 'Kyrgyz Republic',\n",
        " 'Iran (Islamic Republic of)': 'Iran, Islamic Rep.',\n",
        " 'Gambia': 'Gambia, The',\n",
        " 'Egypt': 'Egypt, Arab Rep.',\n",
        "  \"Côte d'Ivoire\": \"Cote d'Ivoire\",\n",
        " 'China, Hong Kong SAR': 'Hong Kong SAR, China',\n",
        " 'China, Macao SAR':'Macao SAR, China',\n",
        " 'China, mainland': 'China',\n",
        " 'Bolivia (Plurinational State of)':'Bolivia',\n",
        " 'Bahamas, The':'Bahamas',\n",
        " 'Virgin Islands (U.S.)': 'United States Virgin Islands',\n",
        " 'Yemen': 'Yemen, Rep.'\n",
        "}\n",
        "def change_to_match_name(name):\n",
        "    if name in country_name_changes.keys():\n",
        "        return country_name_changes[name]\n",
        "    else:\n",
        "        return name"
      ],
      "execution_count": 50,
      "outputs": []
    },
    {
      "cell_type": "markdown",
      "metadata": {
        "id": "CS8UAD-EopaR"
      },
      "source": [
        "#Get countries"
      ]
    },
    {
      "cell_type": "code",
      "metadata": {
        "colab": {
          "base_uri": "https://localhost:8080/",
          "height": 419
        },
        "id": "SBCZ3TEnop7k",
        "outputId": "b6d5e95c-6c1c-41c7-82b0-ee62acb518fb"
      },
      "source": [
        "#Obtain list of coutrnies from FAO\n",
        "countries = pd.read_csv(\"../raw data/FAO_Consumption.csv\")\n",
        "country_names = countries[[\"Country Name\"]].dropna().drop_duplicates()\n",
        "country_names"
      ],
      "execution_count": 51,
      "outputs": [
        {
          "output_type": "execute_result",
          "data": {
            "text/html": [
              "<div>\n",
              "<style scoped>\n",
              "    .dataframe tbody tr th:only-of-type {\n",
              "        vertical-align: middle;\n",
              "    }\n",
              "\n",
              "    .dataframe tbody tr th {\n",
              "        vertical-align: top;\n",
              "    }\n",
              "\n",
              "    .dataframe thead th {\n",
              "        text-align: right;\n",
              "    }\n",
              "</style>\n",
              "<table border=\"1\" class=\"dataframe\">\n",
              "  <thead>\n",
              "    <tr style=\"text-align: right;\">\n",
              "      <th></th>\n",
              "      <th>Country Name</th>\n",
              "    </tr>\n",
              "  </thead>\n",
              "  <tbody>\n",
              "    <tr>\n",
              "      <th>0</th>\n",
              "      <td>Afghanistan</td>\n",
              "    </tr>\n",
              "    <tr>\n",
              "      <th>5</th>\n",
              "      <td>Albania</td>\n",
              "    </tr>\n",
              "    <tr>\n",
              "      <th>10</th>\n",
              "      <td>Algeria</td>\n",
              "    </tr>\n",
              "    <tr>\n",
              "      <th>15</th>\n",
              "      <td>Angola</td>\n",
              "    </tr>\n",
              "    <tr>\n",
              "      <th>20</th>\n",
              "      <td>Antigua and Barbuda</td>\n",
              "    </tr>\n",
              "    <tr>\n",
              "      <th>...</th>\n",
              "      <td>...</td>\n",
              "    </tr>\n",
              "    <tr>\n",
              "      <th>845</th>\n",
              "      <td>Venezuela (Bolivarian Republic of)</td>\n",
              "    </tr>\n",
              "    <tr>\n",
              "      <th>850</th>\n",
              "      <td>Viet Nam</td>\n",
              "    </tr>\n",
              "    <tr>\n",
              "      <th>855</th>\n",
              "      <td>Yemen</td>\n",
              "    </tr>\n",
              "    <tr>\n",
              "      <th>860</th>\n",
              "      <td>Zambia</td>\n",
              "    </tr>\n",
              "    <tr>\n",
              "      <th>865</th>\n",
              "      <td>Zimbabwe</td>\n",
              "    </tr>\n",
              "  </tbody>\n",
              "</table>\n",
              "<p>174 rows × 1 columns</p>\n",
              "</div>"
            ],
            "text/plain": [
              "                           Country Name\n",
              "0                           Afghanistan\n",
              "5                               Albania\n",
              "10                              Algeria\n",
              "15                               Angola\n",
              "20                  Antigua and Barbuda\n",
              "..                                  ...\n",
              "845  Venezuela (Bolivarian Republic of)\n",
              "850                            Viet Nam\n",
              "855                               Yemen\n",
              "860                              Zambia\n",
              "865                            Zimbabwe\n",
              "\n",
              "[174 rows x 1 columns]"
            ]
          },
          "metadata": {
            "tags": []
          },
          "execution_count": 51
        }
      ]
    },
    {
      "cell_type": "code",
      "metadata": {
        "colab": {
          "base_uri": "https://localhost:8080/",
          "height": 419
        },
        "id": "2JEG88mJxkIm",
        "outputId": "e357a376-1f2a-44b7-865b-4dbad44b3f34"
      },
      "source": [
        "#Obtain the average country population from 2014-2019\n",
        "country_population = pd.read_csv(\"../raw data/country_population.csv\")\n",
        "country_population = country_population[['Country Name', '2014', '2015', '2016', '2017']]\n",
        "country_population['average'] = country_population[['2014', '2015', '2016', '2017']].mean(axis=1)\n",
        "country_population = country_population.drop(['2014', '2015', '2016', '2017'], axis=1)\n",
        "country_population"
      ],
      "execution_count": 52,
      "outputs": [
        {
          "output_type": "execute_result",
          "data": {
            "text/html": [
              "<div>\n",
              "<style scoped>\n",
              "    .dataframe tbody tr th:only-of-type {\n",
              "        vertical-align: middle;\n",
              "    }\n",
              "\n",
              "    .dataframe tbody tr th {\n",
              "        vertical-align: top;\n",
              "    }\n",
              "\n",
              "    .dataframe thead th {\n",
              "        text-align: right;\n",
              "    }\n",
              "</style>\n",
              "<table border=\"1\" class=\"dataframe\">\n",
              "  <thead>\n",
              "    <tr style=\"text-align: right;\">\n",
              "      <th></th>\n",
              "      <th>Country Name</th>\n",
              "      <th>average</th>\n",
              "    </tr>\n",
              "  </thead>\n",
              "  <tbody>\n",
              "    <tr>\n",
              "      <th>0</th>\n",
              "      <td>Aruba</td>\n",
              "      <td>104588.25</td>\n",
              "    </tr>\n",
              "    <tr>\n",
              "      <th>1</th>\n",
              "      <td>Afghanistan</td>\n",
              "      <td>34865981.25</td>\n",
              "    </tr>\n",
              "    <tr>\n",
              "      <th>2</th>\n",
              "      <td>Angola</td>\n",
              "      <td>28371348.00</td>\n",
              "    </tr>\n",
              "    <tr>\n",
              "      <th>3</th>\n",
              "      <td>Albania</td>\n",
              "      <td>2879841.25</td>\n",
              "    </tr>\n",
              "    <tr>\n",
              "      <th>4</th>\n",
              "      <td>Andorra</td>\n",
              "      <td>77880.50</td>\n",
              "    </tr>\n",
              "    <tr>\n",
              "      <th>...</th>\n",
              "      <td>...</td>\n",
              "      <td>...</td>\n",
              "    </tr>\n",
              "    <tr>\n",
              "      <th>263</th>\n",
              "      <td>Zimbabwe</td>\n",
              "      <td>13917111.25</td>\n",
              "    </tr>\n",
              "    <tr>\n",
              "      <th>264</th>\n",
              "      <td>Yemen, Rep.</td>\n",
              "      <td>26831101.25</td>\n",
              "    </tr>\n",
              "    <tr>\n",
              "      <th>265</th>\n",
              "      <td>South Africa</td>\n",
              "      <td>55784115.75</td>\n",
              "    </tr>\n",
              "    <tr>\n",
              "      <th>266</th>\n",
              "      <td>Zambia</td>\n",
              "      <td>16124077.25</td>\n",
              "    </tr>\n",
              "    <tr>\n",
              "      <th>267</th>\n",
              "      <td>Zimbabwe</td>\n",
              "      <td>13917111.25</td>\n",
              "    </tr>\n",
              "  </tbody>\n",
              "</table>\n",
              "<p>268 rows × 2 columns</p>\n",
              "</div>"
            ],
            "text/plain": [
              "     Country Name      average\n",
              "0           Aruba    104588.25\n",
              "1     Afghanistan  34865981.25\n",
              "2          Angola  28371348.00\n",
              "3         Albania   2879841.25\n",
              "4         Andorra     77880.50\n",
              "..            ...          ...\n",
              "263      Zimbabwe  13917111.25\n",
              "264   Yemen, Rep.  26831101.25\n",
              "265  South Africa  55784115.75\n",
              "266        Zambia  16124077.25\n",
              "267      Zimbabwe  13917111.25\n",
              "\n",
              "[268 rows x 2 columns]"
            ]
          },
          "metadata": {
            "tags": []
          },
          "execution_count": 52
        }
      ]
    },
    {
      "cell_type": "markdown",
      "metadata": {
        "id": "N5oKGLz6W4Xk"
      },
      "source": [
        "#Filter countries by gdp"
      ]
    },
    {
      "cell_type": "code",
      "metadata": {
        "colab": {
          "base_uri": "https://localhost:8080/",
          "height": 589
        },
        "id": "fqgzukf9W6O0",
        "outputId": "38da6cce-4a93-4c31-fee5-1d67db178c27"
      },
      "source": [
        "#Obtain gdp data\n",
        "gdp = pd.read_csv(\"../raw data/gdp.csv\")\n",
        "median_gdp = 6520.64991860447\n",
        "\n",
        "#Obtain average GDP from 2014-2017 \n",
        "gdp_filtered = gdp.melt(id_vars=[\"Unnamed: 0\", \"Country Name\", \"Country Code\"], var_name=\"Year\", value_name=\"GDP\")\n",
        "gdp_filtered = gdp_filtered.loc[gdp_filtered['Year'].isin(['2014', '2015', '2016', '2017'])]\n",
        "gdp_filtered = gdp_filtered.loc[(gdp_filtered['GDP'] != \"..\")]\n",
        "gdp_filtered = gdp_filtered[gdp_filtered['GDP'].notnull()].copy()\n",
        "gdp_filtered[\"GDP\"] = gdp_filtered[\"GDP\"].astype(float)\n",
        "gdp_filtered = gdp_filtered.groupby(['Country Name']).mean().reset_index()\n",
        "gdp_filtered = pd.merge(country_names, gdp_filtered, left_on=['Country Name'], right_on=['Country Name'], how='left')\n",
        "\n",
        "#Split data on GDP median\n",
        "gdp_filtered_above = gdp_filtered.loc[(gdp_filtered['GDP'] >= median_gdp)]\n",
        "gdp_filtered_below = gdp_filtered.loc[(gdp_filtered['GDP'] < median_gdp)]\n",
        "\n",
        "#Clean country names\n",
        "gdp_filtered_above[\"Country Name\"] = gdp_filtered_above[\"Country Name\"].apply(change_to_match_name)\n",
        "gdp_filtered_below[\"Country Name\"] = gdp_filtered_below[\"Country Name\"].apply(change_to_match_name)\n",
        "gdp_filtered_above = gdp_filtered_above.drop(['Unnamed: 0'], axis=1)\n",
        "gdp_filtered_below = gdp_filtered_below.drop(['Unnamed: 0'], axis=1)\n",
        "\n",
        "gdp_filtered_above\n"
      ],
      "execution_count": 53,
      "outputs": [
        {
          "output_type": "stream",
          "text": [
            "/usr/local/lib/python3.7/dist-packages/ipykernel_launcher.py:19: SettingWithCopyWarning: \n",
            "A value is trying to be set on a copy of a slice from a DataFrame.\n",
            "Try using .loc[row_indexer,col_indexer] = value instead\n",
            "\n",
            "See the caveats in the documentation: https://pandas.pydata.org/pandas-docs/stable/user_guide/indexing.html#returning-a-view-versus-a-copy\n",
            "/usr/local/lib/python3.7/dist-packages/ipykernel_launcher.py:20: SettingWithCopyWarning: \n",
            "A value is trying to be set on a copy of a slice from a DataFrame.\n",
            "Try using .loc[row_indexer,col_indexer] = value instead\n",
            "\n",
            "See the caveats in the documentation: https://pandas.pydata.org/pandas-docs/stable/user_guide/indexing.html#returning-a-view-versus-a-copy\n"
          ],
          "name": "stderr"
        },
        {
          "output_type": "execute_result",
          "data": {
            "text/html": [
              "<div>\n",
              "<style scoped>\n",
              "    .dataframe tbody tr th:only-of-type {\n",
              "        vertical-align: middle;\n",
              "    }\n",
              "\n",
              "    .dataframe tbody tr th {\n",
              "        vertical-align: top;\n",
              "    }\n",
              "\n",
              "    .dataframe thead th {\n",
              "        text-align: right;\n",
              "    }\n",
              "</style>\n",
              "<table border=\"1\" class=\"dataframe\">\n",
              "  <thead>\n",
              "    <tr style=\"text-align: right;\">\n",
              "      <th></th>\n",
              "      <th>Country Name</th>\n",
              "      <th>GDP</th>\n",
              "    </tr>\n",
              "  </thead>\n",
              "  <tbody>\n",
              "    <tr>\n",
              "      <th>4</th>\n",
              "      <td>Antigua and Barbuda</td>\n",
              "      <td>14592.176681</td>\n",
              "    </tr>\n",
              "    <tr>\n",
              "      <th>5</th>\n",
              "      <td>Argentina</td>\n",
              "      <td>13381.785742</td>\n",
              "    </tr>\n",
              "    <tr>\n",
              "      <th>7</th>\n",
              "      <td>Australia</td>\n",
              "      <td>55816.402789</td>\n",
              "    </tr>\n",
              "    <tr>\n",
              "      <th>8</th>\n",
              "      <td>Austria</td>\n",
              "      <td>47149.721678</td>\n",
              "    </tr>\n",
              "    <tr>\n",
              "      <th>12</th>\n",
              "      <td>Barbados</td>\n",
              "      <td>16826.434477</td>\n",
              "    </tr>\n",
              "    <tr>\n",
              "      <th>...</th>\n",
              "      <td>...</td>\n",
              "      <td>...</td>\n",
              "    </tr>\n",
              "    <tr>\n",
              "      <th>156</th>\n",
              "      <td>Trinidad and Tobago</td>\n",
              "      <td>17743.926068</td>\n",
              "    </tr>\n",
              "    <tr>\n",
              "      <th>158</th>\n",
              "      <td>Turkey</td>\n",
              "      <td>11162.595190</td>\n",
              "    </tr>\n",
              "    <tr>\n",
              "      <th>159</th>\n",
              "      <td>Turkmenistan</td>\n",
              "      <td>6842.889631</td>\n",
              "    </tr>\n",
              "    <tr>\n",
              "      <th>162</th>\n",
              "      <td>United Arab Emirates</td>\n",
              "      <td>40300.468374</td>\n",
              "    </tr>\n",
              "    <tr>\n",
              "      <th>166</th>\n",
              "      <td>Uruguay</td>\n",
              "      <td>16288.757159</td>\n",
              "    </tr>\n",
              "  </tbody>\n",
              "</table>\n",
              "<p>65 rows × 2 columns</p>\n",
              "</div>"
            ],
            "text/plain": [
              "             Country Name           GDP\n",
              "4     Antigua and Barbuda  14592.176681\n",
              "5               Argentina  13381.785742\n",
              "7               Australia  55816.402789\n",
              "8                 Austria  47149.721678\n",
              "12               Barbados  16826.434477\n",
              "..                    ...           ...\n",
              "156   Trinidad and Tobago  17743.926068\n",
              "158                Turkey  11162.595190\n",
              "159          Turkmenistan   6842.889631\n",
              "162  United Arab Emirates  40300.468374\n",
              "166               Uruguay  16288.757159\n",
              "\n",
              "[65 rows x 2 columns]"
            ]
          },
          "metadata": {
            "tags": []
          },
          "execution_count": 53
        }
      ]
    },
    {
      "cell_type": "code",
      "metadata": {
        "colab": {
          "base_uri": "https://localhost:8080/",
          "height": 419
        },
        "id": "ThpYP3mN1Gx4",
        "outputId": "5d55f97c-8f15-4860-ad67-00e9d3130654"
      },
      "source": [
        "gdp_filtered_below"
      ],
      "execution_count": 54,
      "outputs": [
        {
          "output_type": "execute_result",
          "data": {
            "text/html": [
              "<div>\n",
              "<style scoped>\n",
              "    .dataframe tbody tr th:only-of-type {\n",
              "        vertical-align: middle;\n",
              "    }\n",
              "\n",
              "    .dataframe tbody tr th {\n",
              "        vertical-align: top;\n",
              "    }\n",
              "\n",
              "    .dataframe thead th {\n",
              "        text-align: right;\n",
              "    }\n",
              "</style>\n",
              "<table border=\"1\" class=\"dataframe\">\n",
              "  <thead>\n",
              "    <tr style=\"text-align: right;\">\n",
              "      <th></th>\n",
              "      <th>Country Name</th>\n",
              "      <th>GDP</th>\n",
              "    </tr>\n",
              "  </thead>\n",
              "  <tbody>\n",
              "    <tr>\n",
              "      <th>0</th>\n",
              "      <td>Afghanistan</td>\n",
              "      <td>555.356619</td>\n",
              "    </tr>\n",
              "    <tr>\n",
              "      <th>1</th>\n",
              "      <td>Albania</td>\n",
              "      <td>4296.627435</td>\n",
              "    </tr>\n",
              "    <tr>\n",
              "      <th>2</th>\n",
              "      <td>Algeria</td>\n",
              "      <td>4434.659564</td>\n",
              "    </tr>\n",
              "    <tr>\n",
              "      <th>3</th>\n",
              "      <td>Angola</td>\n",
              "      <td>4294.319002</td>\n",
              "    </tr>\n",
              "    <tr>\n",
              "      <th>6</th>\n",
              "      <td>Armenia</td>\n",
              "      <td>3774.964716</td>\n",
              "    </tr>\n",
              "    <tr>\n",
              "      <th>...</th>\n",
              "      <td>...</td>\n",
              "      <td>...</td>\n",
              "    </tr>\n",
              "    <tr>\n",
              "      <th>161</th>\n",
              "      <td>Ukraine</td>\n",
              "      <td>2514.427928</td>\n",
              "    </tr>\n",
              "    <tr>\n",
              "      <th>167</th>\n",
              "      <td>Uzbekistan</td>\n",
              "      <td>2375.431976</td>\n",
              "    </tr>\n",
              "    <tr>\n",
              "      <th>168</th>\n",
              "      <td>Vanuatu</td>\n",
              "      <td>2965.601877</td>\n",
              "    </tr>\n",
              "    <tr>\n",
              "      <th>172</th>\n",
              "      <td>Zambia</td>\n",
              "      <td>1479.075839</td>\n",
              "    </tr>\n",
              "    <tr>\n",
              "      <th>173</th>\n",
              "      <td>Zimbabwe</td>\n",
              "      <td>1473.180997</td>\n",
              "    </tr>\n",
              "  </tbody>\n",
              "</table>\n",
              "<p>80 rows × 2 columns</p>\n",
              "</div>"
            ],
            "text/plain": [
              "    Country Name          GDP\n",
              "0    Afghanistan   555.356619\n",
              "1        Albania  4296.627435\n",
              "2        Algeria  4434.659564\n",
              "3         Angola  4294.319002\n",
              "6        Armenia  3774.964716\n",
              "..           ...          ...\n",
              "161      Ukraine  2514.427928\n",
              "167   Uzbekistan  2375.431976\n",
              "168      Vanuatu  2965.601877\n",
              "172       Zambia  1479.075839\n",
              "173     Zimbabwe  1473.180997\n",
              "\n",
              "[80 rows x 2 columns]"
            ]
          },
          "metadata": {
            "tags": []
          },
          "execution_count": 54
        }
      ]
    },
    {
      "cell_type": "markdown",
      "metadata": {
        "id": "OC6aQNA8X5hB"
      },
      "source": [
        "#Depression dataset"
      ]
    },
    {
      "cell_type": "code",
      "metadata": {
        "colab": {
          "base_uri": "https://localhost:8080/",
          "height": 419
        },
        "id": "sRhuBUjoX5w3",
        "outputId": "14142e42-e695-47a9-ff30-86fb0a8e9b63"
      },
      "source": [
        "#Obtain data on depression count\n",
        "depression = pd.read_csv(\"../raw data/depression.csv\")\n",
        "\n",
        "#Clean data to be from 2014-2017\n",
        "depression_filtered = depression.loc[depression['Year'].isin(['2014', '2015', '2016', '2017'])]\n",
        "depression_filtered = depression_filtered[depression_filtered['Year'].notnull()].copy()\n",
        "depression_filtered[\"Year\"] = depression_filtered[\"Year\"].astype(str)\n",
        "depression_filtered[\"Country Name\"] = depression_filtered[\"Country Name\"].apply(change_to_match_name)\n",
        "depression_filtered = depression_filtered.groupby(['Country Name']).mean().reset_index()\n",
        "depression_filtered = depression_filtered.drop(['Unnamed: 0'], axis=1)\n",
        "\n",
        "depression_filtered"
      ],
      "execution_count": 55,
      "outputs": [
        {
          "output_type": "execute_result",
          "data": {
            "text/html": [
              "<div>\n",
              "<style scoped>\n",
              "    .dataframe tbody tr th:only-of-type {\n",
              "        vertical-align: middle;\n",
              "    }\n",
              "\n",
              "    .dataframe tbody tr th {\n",
              "        vertical-align: top;\n",
              "    }\n",
              "\n",
              "    .dataframe thead th {\n",
              "        text-align: right;\n",
              "    }\n",
              "</style>\n",
              "<table border=\"1\" class=\"dataframe\">\n",
              "  <thead>\n",
              "    <tr style=\"text-align: right;\">\n",
              "      <th></th>\n",
              "      <th>Country Name</th>\n",
              "      <th>Depression Count</th>\n",
              "    </tr>\n",
              "  </thead>\n",
              "  <tbody>\n",
              "    <tr>\n",
              "      <th>0</th>\n",
              "      <td>Afghanistan</td>\n",
              "      <td>9.225020e+05</td>\n",
              "    </tr>\n",
              "    <tr>\n",
              "      <th>1</th>\n",
              "      <td>Albania</td>\n",
              "      <td>6.930178e+04</td>\n",
              "    </tr>\n",
              "    <tr>\n",
              "      <th>2</th>\n",
              "      <td>Algeria</td>\n",
              "      <td>1.362142e+06</td>\n",
              "    </tr>\n",
              "    <tr>\n",
              "      <th>3</th>\n",
              "      <td>American Samoa</td>\n",
              "      <td>1.463210e+03</td>\n",
              "    </tr>\n",
              "    <tr>\n",
              "      <th>4</th>\n",
              "      <td>Andean Latin America</td>\n",
              "      <td>1.449653e+06</td>\n",
              "    </tr>\n",
              "    <tr>\n",
              "      <th>...</th>\n",
              "      <td>...</td>\n",
              "      <td>...</td>\n",
              "    </tr>\n",
              "    <tr>\n",
              "      <th>226</th>\n",
              "      <td>Western Sub-Saharan Africa</td>\n",
              "      <td>1.091758e+07</td>\n",
              "    </tr>\n",
              "    <tr>\n",
              "      <th>227</th>\n",
              "      <td>World</td>\n",
              "      <td>2.584092e+08</td>\n",
              "    </tr>\n",
              "    <tr>\n",
              "      <th>228</th>\n",
              "      <td>Yemen, Rep.</td>\n",
              "      <td>9.131212e+05</td>\n",
              "    </tr>\n",
              "    <tr>\n",
              "      <th>229</th>\n",
              "      <td>Zambia</td>\n",
              "      <td>4.082987e+05</td>\n",
              "    </tr>\n",
              "    <tr>\n",
              "      <th>230</th>\n",
              "      <td>Zimbabwe</td>\n",
              "      <td>3.258312e+05</td>\n",
              "    </tr>\n",
              "  </tbody>\n",
              "</table>\n",
              "<p>231 rows × 2 columns</p>\n",
              "</div>"
            ],
            "text/plain": [
              "                   Country Name  Depression Count\n",
              "0                   Afghanistan      9.225020e+05\n",
              "1                       Albania      6.930178e+04\n",
              "2                       Algeria      1.362142e+06\n",
              "3                American Samoa      1.463210e+03\n",
              "4          Andean Latin America      1.449653e+06\n",
              "..                          ...               ...\n",
              "226  Western Sub-Saharan Africa      1.091758e+07\n",
              "227                       World      2.584092e+08\n",
              "228                 Yemen, Rep.      9.131212e+05\n",
              "229                      Zambia      4.082987e+05\n",
              "230                    Zimbabwe      3.258312e+05\n",
              "\n",
              "[231 rows x 2 columns]"
            ]
          },
          "metadata": {
            "tags": []
          },
          "execution_count": 55
        }
      ]
    },
    {
      "cell_type": "markdown",
      "metadata": {
        "id": "pMT7OKwBss74"
      },
      "source": [
        "#Clean depression df"
      ]
    },
    {
      "cell_type": "code",
      "metadata": {
        "colab": {
          "base_uri": "https://localhost:8080/",
          "height": 419
        },
        "id": "Sijz8_lrsyEz",
        "outputId": "967da43b-37af-44f1-a63e-78229daa235b"
      },
      "source": [
        "depression_filtered"
      ],
      "execution_count": 56,
      "outputs": [
        {
          "output_type": "execute_result",
          "data": {
            "text/html": [
              "<div>\n",
              "<style scoped>\n",
              "    .dataframe tbody tr th:only-of-type {\n",
              "        vertical-align: middle;\n",
              "    }\n",
              "\n",
              "    .dataframe tbody tr th {\n",
              "        vertical-align: top;\n",
              "    }\n",
              "\n",
              "    .dataframe thead th {\n",
              "        text-align: right;\n",
              "    }\n",
              "</style>\n",
              "<table border=\"1\" class=\"dataframe\">\n",
              "  <thead>\n",
              "    <tr style=\"text-align: right;\">\n",
              "      <th></th>\n",
              "      <th>Country Name</th>\n",
              "      <th>Depression Count</th>\n",
              "    </tr>\n",
              "  </thead>\n",
              "  <tbody>\n",
              "    <tr>\n",
              "      <th>0</th>\n",
              "      <td>Afghanistan</td>\n",
              "      <td>9.225020e+05</td>\n",
              "    </tr>\n",
              "    <tr>\n",
              "      <th>1</th>\n",
              "      <td>Albania</td>\n",
              "      <td>6.930178e+04</td>\n",
              "    </tr>\n",
              "    <tr>\n",
              "      <th>2</th>\n",
              "      <td>Algeria</td>\n",
              "      <td>1.362142e+06</td>\n",
              "    </tr>\n",
              "    <tr>\n",
              "      <th>3</th>\n",
              "      <td>American Samoa</td>\n",
              "      <td>1.463210e+03</td>\n",
              "    </tr>\n",
              "    <tr>\n",
              "      <th>4</th>\n",
              "      <td>Andean Latin America</td>\n",
              "      <td>1.449653e+06</td>\n",
              "    </tr>\n",
              "    <tr>\n",
              "      <th>...</th>\n",
              "      <td>...</td>\n",
              "      <td>...</td>\n",
              "    </tr>\n",
              "    <tr>\n",
              "      <th>226</th>\n",
              "      <td>Western Sub-Saharan Africa</td>\n",
              "      <td>1.091758e+07</td>\n",
              "    </tr>\n",
              "    <tr>\n",
              "      <th>227</th>\n",
              "      <td>World</td>\n",
              "      <td>2.584092e+08</td>\n",
              "    </tr>\n",
              "    <tr>\n",
              "      <th>228</th>\n",
              "      <td>Yemen, Rep.</td>\n",
              "      <td>9.131212e+05</td>\n",
              "    </tr>\n",
              "    <tr>\n",
              "      <th>229</th>\n",
              "      <td>Zambia</td>\n",
              "      <td>4.082987e+05</td>\n",
              "    </tr>\n",
              "    <tr>\n",
              "      <th>230</th>\n",
              "      <td>Zimbabwe</td>\n",
              "      <td>3.258312e+05</td>\n",
              "    </tr>\n",
              "  </tbody>\n",
              "</table>\n",
              "<p>231 rows × 2 columns</p>\n",
              "</div>"
            ],
            "text/plain": [
              "                   Country Name  Depression Count\n",
              "0                   Afghanistan      9.225020e+05\n",
              "1                       Albania      6.930178e+04\n",
              "2                       Algeria      1.362142e+06\n",
              "3                American Samoa      1.463210e+03\n",
              "4          Andean Latin America      1.449653e+06\n",
              "..                          ...               ...\n",
              "226  Western Sub-Saharan Africa      1.091758e+07\n",
              "227                       World      2.584092e+08\n",
              "228                 Yemen, Rep.      9.131212e+05\n",
              "229                      Zambia      4.082987e+05\n",
              "230                    Zimbabwe      3.258312e+05\n",
              "\n",
              "[231 rows x 2 columns]"
            ]
          },
          "metadata": {
            "tags": []
          },
          "execution_count": 56
        }
      ]
    },
    {
      "cell_type": "code",
      "metadata": {
        "colab": {
          "base_uri": "https://localhost:8080/",
          "height": 419
        },
        "id": "mobLI9Gcsyar",
        "outputId": "5f90856c-3c38-4965-b82e-f6716b1c87da"
      },
      "source": [
        "country_population"
      ],
      "execution_count": 57,
      "outputs": [
        {
          "output_type": "execute_result",
          "data": {
            "text/html": [
              "<div>\n",
              "<style scoped>\n",
              "    .dataframe tbody tr th:only-of-type {\n",
              "        vertical-align: middle;\n",
              "    }\n",
              "\n",
              "    .dataframe tbody tr th {\n",
              "        vertical-align: top;\n",
              "    }\n",
              "\n",
              "    .dataframe thead th {\n",
              "        text-align: right;\n",
              "    }\n",
              "</style>\n",
              "<table border=\"1\" class=\"dataframe\">\n",
              "  <thead>\n",
              "    <tr style=\"text-align: right;\">\n",
              "      <th></th>\n",
              "      <th>Country Name</th>\n",
              "      <th>average</th>\n",
              "    </tr>\n",
              "  </thead>\n",
              "  <tbody>\n",
              "    <tr>\n",
              "      <th>0</th>\n",
              "      <td>Aruba</td>\n",
              "      <td>104588.25</td>\n",
              "    </tr>\n",
              "    <tr>\n",
              "      <th>1</th>\n",
              "      <td>Afghanistan</td>\n",
              "      <td>34865981.25</td>\n",
              "    </tr>\n",
              "    <tr>\n",
              "      <th>2</th>\n",
              "      <td>Angola</td>\n",
              "      <td>28371348.00</td>\n",
              "    </tr>\n",
              "    <tr>\n",
              "      <th>3</th>\n",
              "      <td>Albania</td>\n",
              "      <td>2879841.25</td>\n",
              "    </tr>\n",
              "    <tr>\n",
              "      <th>4</th>\n",
              "      <td>Andorra</td>\n",
              "      <td>77880.50</td>\n",
              "    </tr>\n",
              "    <tr>\n",
              "      <th>...</th>\n",
              "      <td>...</td>\n",
              "      <td>...</td>\n",
              "    </tr>\n",
              "    <tr>\n",
              "      <th>263</th>\n",
              "      <td>Zimbabwe</td>\n",
              "      <td>13917111.25</td>\n",
              "    </tr>\n",
              "    <tr>\n",
              "      <th>264</th>\n",
              "      <td>Yemen, Rep.</td>\n",
              "      <td>26831101.25</td>\n",
              "    </tr>\n",
              "    <tr>\n",
              "      <th>265</th>\n",
              "      <td>South Africa</td>\n",
              "      <td>55784115.75</td>\n",
              "    </tr>\n",
              "    <tr>\n",
              "      <th>266</th>\n",
              "      <td>Zambia</td>\n",
              "      <td>16124077.25</td>\n",
              "    </tr>\n",
              "    <tr>\n",
              "      <th>267</th>\n",
              "      <td>Zimbabwe</td>\n",
              "      <td>13917111.25</td>\n",
              "    </tr>\n",
              "  </tbody>\n",
              "</table>\n",
              "<p>268 rows × 2 columns</p>\n",
              "</div>"
            ],
            "text/plain": [
              "     Country Name      average\n",
              "0           Aruba    104588.25\n",
              "1     Afghanistan  34865981.25\n",
              "2          Angola  28371348.00\n",
              "3         Albania   2879841.25\n",
              "4         Andorra     77880.50\n",
              "..            ...          ...\n",
              "263      Zimbabwe  13917111.25\n",
              "264   Yemen, Rep.  26831101.25\n",
              "265  South Africa  55784115.75\n",
              "266        Zambia  16124077.25\n",
              "267      Zimbabwe  13917111.25\n",
              "\n",
              "[268 rows x 2 columns]"
            ]
          },
          "metadata": {
            "tags": []
          },
          "execution_count": 57
        }
      ]
    },
    {
      "cell_type": "code",
      "metadata": {
        "colab": {
          "base_uri": "https://localhost:8080/",
          "height": 419
        },
        "id": "auZDJYXMzR0W",
        "outputId": "8850aec0-75b0-4606-c2f1-16be3c8a8cb5"
      },
      "source": [
        "#merge table columns\n",
        "temp_df = pd.merge(depression_filtered, country_population, right_on=['Country Name'], left_on=['Country Name'], how=\"left\")\n",
        "temp_df"
      ],
      "execution_count": 58,
      "outputs": [
        {
          "output_type": "execute_result",
          "data": {
            "text/html": [
              "<div>\n",
              "<style scoped>\n",
              "    .dataframe tbody tr th:only-of-type {\n",
              "        vertical-align: middle;\n",
              "    }\n",
              "\n",
              "    .dataframe tbody tr th {\n",
              "        vertical-align: top;\n",
              "    }\n",
              "\n",
              "    .dataframe thead th {\n",
              "        text-align: right;\n",
              "    }\n",
              "</style>\n",
              "<table border=\"1\" class=\"dataframe\">\n",
              "  <thead>\n",
              "    <tr style=\"text-align: right;\">\n",
              "      <th></th>\n",
              "      <th>Country Name</th>\n",
              "      <th>Depression Count</th>\n",
              "      <th>average</th>\n",
              "    </tr>\n",
              "  </thead>\n",
              "  <tbody>\n",
              "    <tr>\n",
              "      <th>0</th>\n",
              "      <td>Afghanistan</td>\n",
              "      <td>9.225020e+05</td>\n",
              "      <td>34865981.25</td>\n",
              "    </tr>\n",
              "    <tr>\n",
              "      <th>1</th>\n",
              "      <td>Albania</td>\n",
              "      <td>6.930178e+04</td>\n",
              "      <td>2879841.25</td>\n",
              "    </tr>\n",
              "    <tr>\n",
              "      <th>2</th>\n",
              "      <td>Algeria</td>\n",
              "      <td>1.362142e+06</td>\n",
              "      <td>40148078.50</td>\n",
              "    </tr>\n",
              "    <tr>\n",
              "      <th>3</th>\n",
              "      <td>American Samoa</td>\n",
              "      <td>1.463210e+03</td>\n",
              "      <td>55741.00</td>\n",
              "    </tr>\n",
              "    <tr>\n",
              "      <th>4</th>\n",
              "      <td>Andean Latin America</td>\n",
              "      <td>1.449653e+06</td>\n",
              "      <td>NaN</td>\n",
              "    </tr>\n",
              "    <tr>\n",
              "      <th>...</th>\n",
              "      <td>...</td>\n",
              "      <td>...</td>\n",
              "      <td>...</td>\n",
              "    </tr>\n",
              "    <tr>\n",
              "      <th>230</th>\n",
              "      <td>Yemen, Rep.</td>\n",
              "      <td>9.131212e+05</td>\n",
              "      <td>26831101.25</td>\n",
              "    </tr>\n",
              "    <tr>\n",
              "      <th>231</th>\n",
              "      <td>Zambia</td>\n",
              "      <td>4.082987e+05</td>\n",
              "      <td>16124077.25</td>\n",
              "    </tr>\n",
              "    <tr>\n",
              "      <th>232</th>\n",
              "      <td>Zambia</td>\n",
              "      <td>4.082987e+05</td>\n",
              "      <td>16124077.25</td>\n",
              "    </tr>\n",
              "    <tr>\n",
              "      <th>233</th>\n",
              "      <td>Zimbabwe</td>\n",
              "      <td>3.258312e+05</td>\n",
              "      <td>13917111.25</td>\n",
              "    </tr>\n",
              "    <tr>\n",
              "      <th>234</th>\n",
              "      <td>Zimbabwe</td>\n",
              "      <td>3.258312e+05</td>\n",
              "      <td>13917111.25</td>\n",
              "    </tr>\n",
              "  </tbody>\n",
              "</table>\n",
              "<p>235 rows × 3 columns</p>\n",
              "</div>"
            ],
            "text/plain": [
              "             Country Name  Depression Count      average\n",
              "0             Afghanistan      9.225020e+05  34865981.25\n",
              "1                 Albania      6.930178e+04   2879841.25\n",
              "2                 Algeria      1.362142e+06  40148078.50\n",
              "3          American Samoa      1.463210e+03     55741.00\n",
              "4    Andean Latin America      1.449653e+06          NaN\n",
              "..                    ...               ...          ...\n",
              "230           Yemen, Rep.      9.131212e+05  26831101.25\n",
              "231                Zambia      4.082987e+05  16124077.25\n",
              "232                Zambia      4.082987e+05  16124077.25\n",
              "233              Zimbabwe      3.258312e+05  13917111.25\n",
              "234              Zimbabwe      3.258312e+05  13917111.25\n",
              "\n",
              "[235 rows x 3 columns]"
            ]
          },
          "metadata": {
            "tags": []
          },
          "execution_count": 58
        }
      ]
    },
    {
      "cell_type": "code",
      "metadata": {
        "colab": {
          "base_uri": "https://localhost:8080/",
          "height": 419
        },
        "id": "OYFm_zH9t2QP",
        "outputId": "f815d5fe-a2a7-4068-d21c-83e83b1f7b36"
      },
      "source": [
        "#divide depression count by average pop\n",
        "depression_filtered['Depression Count'] = depression_filtered['Depression Count'].div(temp_df['average'], axis=0)\n",
        "depression_filtered"
      ],
      "execution_count": 59,
      "outputs": [
        {
          "output_type": "execute_result",
          "data": {
            "text/html": [
              "<div>\n",
              "<style scoped>\n",
              "    .dataframe tbody tr th:only-of-type {\n",
              "        vertical-align: middle;\n",
              "    }\n",
              "\n",
              "    .dataframe tbody tr th {\n",
              "        vertical-align: top;\n",
              "    }\n",
              "\n",
              "    .dataframe thead th {\n",
              "        text-align: right;\n",
              "    }\n",
              "</style>\n",
              "<table border=\"1\" class=\"dataframe\">\n",
              "  <thead>\n",
              "    <tr style=\"text-align: right;\">\n",
              "      <th></th>\n",
              "      <th>Country Name</th>\n",
              "      <th>Depression Count</th>\n",
              "    </tr>\n",
              "  </thead>\n",
              "  <tbody>\n",
              "    <tr>\n",
              "      <th>0</th>\n",
              "      <td>Afghanistan</td>\n",
              "      <td>0.026459</td>\n",
              "    </tr>\n",
              "    <tr>\n",
              "      <th>1</th>\n",
              "      <td>Albania</td>\n",
              "      <td>0.024064</td>\n",
              "    </tr>\n",
              "    <tr>\n",
              "      <th>2</th>\n",
              "      <td>Algeria</td>\n",
              "      <td>0.033928</td>\n",
              "    </tr>\n",
              "    <tr>\n",
              "      <th>3</th>\n",
              "      <td>American Samoa</td>\n",
              "      <td>0.026250</td>\n",
              "    </tr>\n",
              "    <tr>\n",
              "      <th>4</th>\n",
              "      <td>Andean Latin America</td>\n",
              "      <td>NaN</td>\n",
              "    </tr>\n",
              "    <tr>\n",
              "      <th>...</th>\n",
              "      <td>...</td>\n",
              "      <td>...</td>\n",
              "    </tr>\n",
              "    <tr>\n",
              "      <th>226</th>\n",
              "      <td>Western Sub-Saharan Africa</td>\n",
              "      <td>NaN</td>\n",
              "    </tr>\n",
              "    <tr>\n",
              "      <th>227</th>\n",
              "      <td>World</td>\n",
              "      <td>NaN</td>\n",
              "    </tr>\n",
              "    <tr>\n",
              "      <th>228</th>\n",
              "      <td>Yemen, Rep.</td>\n",
              "      <td>0.000124</td>\n",
              "    </tr>\n",
              "    <tr>\n",
              "      <th>229</th>\n",
              "      <td>Zambia</td>\n",
              "      <td>0.015217</td>\n",
              "    </tr>\n",
              "    <tr>\n",
              "      <th>230</th>\n",
              "      <td>Zimbabwe</td>\n",
              "      <td>0.012144</td>\n",
              "    </tr>\n",
              "  </tbody>\n",
              "</table>\n",
              "<p>231 rows × 2 columns</p>\n",
              "</div>"
            ],
            "text/plain": [
              "                   Country Name  Depression Count\n",
              "0                   Afghanistan          0.026459\n",
              "1                       Albania          0.024064\n",
              "2                       Algeria          0.033928\n",
              "3                American Samoa          0.026250\n",
              "4          Andean Latin America               NaN\n",
              "..                          ...               ...\n",
              "226  Western Sub-Saharan Africa               NaN\n",
              "227                       World               NaN\n",
              "228                 Yemen, Rep.          0.000124\n",
              "229                      Zambia          0.015217\n",
              "230                    Zimbabwe          0.012144\n",
              "\n",
              "[231 rows x 2 columns]"
            ]
          },
          "metadata": {
            "tags": []
          },
          "execution_count": 59
        }
      ]
    },
    {
      "cell_type": "code",
      "metadata": {
        "colab": {
          "base_uri": "https://localhost:8080/",
          "height": 419
        },
        "id": "v46PsyqHuvmR",
        "outputId": "a90a90c8-a41d-4f75-f647-69666f8c234d"
      },
      "source": [
        "#fill na with the mode\n",
        "depression_filtered.fillna(depression_filtered[\"Depression Count\"].mode()[0], inplace = True)\n",
        "depression_filtered"
      ],
      "execution_count": 60,
      "outputs": [
        {
          "output_type": "execute_result",
          "data": {
            "text/html": [
              "<div>\n",
              "<style scoped>\n",
              "    .dataframe tbody tr th:only-of-type {\n",
              "        vertical-align: middle;\n",
              "    }\n",
              "\n",
              "    .dataframe tbody tr th {\n",
              "        vertical-align: top;\n",
              "    }\n",
              "\n",
              "    .dataframe thead th {\n",
              "        text-align: right;\n",
              "    }\n",
              "</style>\n",
              "<table border=\"1\" class=\"dataframe\">\n",
              "  <thead>\n",
              "    <tr style=\"text-align: right;\">\n",
              "      <th></th>\n",
              "      <th>Country Name</th>\n",
              "      <th>Depression Count</th>\n",
              "    </tr>\n",
              "  </thead>\n",
              "  <tbody>\n",
              "    <tr>\n",
              "      <th>0</th>\n",
              "      <td>Afghanistan</td>\n",
              "      <td>0.026459</td>\n",
              "    </tr>\n",
              "    <tr>\n",
              "      <th>1</th>\n",
              "      <td>Albania</td>\n",
              "      <td>0.024064</td>\n",
              "    </tr>\n",
              "    <tr>\n",
              "      <th>2</th>\n",
              "      <td>Algeria</td>\n",
              "      <td>0.033928</td>\n",
              "    </tr>\n",
              "    <tr>\n",
              "      <th>3</th>\n",
              "      <td>American Samoa</td>\n",
              "      <td>0.026250</td>\n",
              "    </tr>\n",
              "    <tr>\n",
              "      <th>4</th>\n",
              "      <td>Andean Latin America</td>\n",
              "      <td>0.000011</td>\n",
              "    </tr>\n",
              "    <tr>\n",
              "      <th>...</th>\n",
              "      <td>...</td>\n",
              "      <td>...</td>\n",
              "    </tr>\n",
              "    <tr>\n",
              "      <th>226</th>\n",
              "      <td>Western Sub-Saharan Africa</td>\n",
              "      <td>0.000011</td>\n",
              "    </tr>\n",
              "    <tr>\n",
              "      <th>227</th>\n",
              "      <td>World</td>\n",
              "      <td>0.000011</td>\n",
              "    </tr>\n",
              "    <tr>\n",
              "      <th>228</th>\n",
              "      <td>Yemen, Rep.</td>\n",
              "      <td>0.000124</td>\n",
              "    </tr>\n",
              "    <tr>\n",
              "      <th>229</th>\n",
              "      <td>Zambia</td>\n",
              "      <td>0.015217</td>\n",
              "    </tr>\n",
              "    <tr>\n",
              "      <th>230</th>\n",
              "      <td>Zimbabwe</td>\n",
              "      <td>0.012144</td>\n",
              "    </tr>\n",
              "  </tbody>\n",
              "</table>\n",
              "<p>231 rows × 2 columns</p>\n",
              "</div>"
            ],
            "text/plain": [
              "                   Country Name  Depression Count\n",
              "0                   Afghanistan          0.026459\n",
              "1                       Albania          0.024064\n",
              "2                       Algeria          0.033928\n",
              "3                American Samoa          0.026250\n",
              "4          Andean Latin America          0.000011\n",
              "..                          ...               ...\n",
              "226  Western Sub-Saharan Africa          0.000011\n",
              "227                       World          0.000011\n",
              "228                 Yemen, Rep.          0.000124\n",
              "229                      Zambia          0.015217\n",
              "230                    Zimbabwe          0.012144\n",
              "\n",
              "[231 rows x 2 columns]"
            ]
          },
          "metadata": {
            "tags": []
          },
          "execution_count": 60
        }
      ]
    },
    {
      "cell_type": "markdown",
      "metadata": {
        "id": "eaGVa6GLf6TA"
      },
      "source": [
        "#Correlation for depression and gdp for countries above the average GDP"
      ]
    },
    {
      "cell_type": "code",
      "metadata": {
        "colab": {
          "base_uri": "https://localhost:8080/",
          "height": 419
        },
        "id": "0WV-JMn8ig_M",
        "outputId": "7c7e4f8e-9dc1-43d2-c5ca-0dd0eeef2e50"
      },
      "source": [
        "#Merge cleaned depression data with clean above median GDP data\n",
        "gdp_depress_above = pd.merge(gdp_filtered_above, depression_filtered, left_on=['Country Name'], right_on=['Country Name'], how=\"left\")\n",
        "gdp_depress_above"
      ],
      "execution_count": 61,
      "outputs": [
        {
          "output_type": "execute_result",
          "data": {
            "text/html": [
              "<div>\n",
              "<style scoped>\n",
              "    .dataframe tbody tr th:only-of-type {\n",
              "        vertical-align: middle;\n",
              "    }\n",
              "\n",
              "    .dataframe tbody tr th {\n",
              "        vertical-align: top;\n",
              "    }\n",
              "\n",
              "    .dataframe thead th {\n",
              "        text-align: right;\n",
              "    }\n",
              "</style>\n",
              "<table border=\"1\" class=\"dataframe\">\n",
              "  <thead>\n",
              "    <tr style=\"text-align: right;\">\n",
              "      <th></th>\n",
              "      <th>Country Name</th>\n",
              "      <th>GDP</th>\n",
              "      <th>Depression Count</th>\n",
              "    </tr>\n",
              "  </thead>\n",
              "  <tbody>\n",
              "    <tr>\n",
              "      <th>0</th>\n",
              "      <td>Antigua and Barbuda</td>\n",
              "      <td>14592.176681</td>\n",
              "      <td>0.025517</td>\n",
              "    </tr>\n",
              "    <tr>\n",
              "      <th>1</th>\n",
              "      <td>Argentina</td>\n",
              "      <td>13381.785742</td>\n",
              "      <td>0.035681</td>\n",
              "    </tr>\n",
              "    <tr>\n",
              "      <th>2</th>\n",
              "      <td>Australia</td>\n",
              "      <td>55816.402789</td>\n",
              "      <td>0.044393</td>\n",
              "    </tr>\n",
              "    <tr>\n",
              "      <th>3</th>\n",
              "      <td>Austria</td>\n",
              "      <td>47149.721678</td>\n",
              "      <td>0.036770</td>\n",
              "    </tr>\n",
              "    <tr>\n",
              "      <th>4</th>\n",
              "      <td>Barbados</td>\n",
              "      <td>16826.434477</td>\n",
              "      <td>0.032193</td>\n",
              "    </tr>\n",
              "    <tr>\n",
              "      <th>...</th>\n",
              "      <td>...</td>\n",
              "      <td>...</td>\n",
              "      <td>...</td>\n",
              "    </tr>\n",
              "    <tr>\n",
              "      <th>60</th>\n",
              "      <td>Trinidad and Tobago</td>\n",
              "      <td>17743.926068</td>\n",
              "      <td>0.484131</td>\n",
              "    </tr>\n",
              "    <tr>\n",
              "      <th>61</th>\n",
              "      <td>Turkey</td>\n",
              "      <td>11162.595190</td>\n",
              "      <td>0.264922</td>\n",
              "    </tr>\n",
              "    <tr>\n",
              "      <th>62</th>\n",
              "      <td>Turkmenistan</td>\n",
              "      <td>6842.889631</td>\n",
              "      <td>0.001575</td>\n",
              "    </tr>\n",
              "    <tr>\n",
              "      <th>63</th>\n",
              "      <td>United Arab Emirates</td>\n",
              "      <td>40300.468374</td>\n",
              "      <td>0.007079</td>\n",
              "    </tr>\n",
              "    <tr>\n",
              "      <th>64</th>\n",
              "      <td>Uruguay</td>\n",
              "      <td>16288.757159</td>\n",
              "      <td>0.000011</td>\n",
              "    </tr>\n",
              "  </tbody>\n",
              "</table>\n",
              "<p>65 rows × 3 columns</p>\n",
              "</div>"
            ],
            "text/plain": [
              "            Country Name           GDP  Depression Count\n",
              "0    Antigua and Barbuda  14592.176681          0.025517\n",
              "1              Argentina  13381.785742          0.035681\n",
              "2              Australia  55816.402789          0.044393\n",
              "3                Austria  47149.721678          0.036770\n",
              "4               Barbados  16826.434477          0.032193\n",
              "..                   ...           ...               ...\n",
              "60   Trinidad and Tobago  17743.926068          0.484131\n",
              "61                Turkey  11162.595190          0.264922\n",
              "62          Turkmenistan   6842.889631          0.001575\n",
              "63  United Arab Emirates  40300.468374          0.007079\n",
              "64               Uruguay  16288.757159          0.000011\n",
              "\n",
              "[65 rows x 3 columns]"
            ]
          },
          "metadata": {
            "tags": []
          },
          "execution_count": 61
        }
      ]
    },
    {
      "cell_type": "code",
      "metadata": {
        "colab": {
          "base_uri": "https://localhost:8080/",
          "height": 419
        },
        "id": "SwqxlWzSvJ6e",
        "outputId": "d3733cbd-78f3-4e2d-df20-93c2a459b27c"
      },
      "source": [
        "#Merge cleaned depression data with clean below median GDP data\n",
        "gdp_depress_below = pd.merge(gdp_filtered_below, depression_filtered, left_on=['Country Name'], right_on=['Country Name'], how=\"left\")\n",
        "gdp_depress_below"
      ],
      "execution_count": 62,
      "outputs": [
        {
          "output_type": "execute_result",
          "data": {
            "text/html": [
              "<div>\n",
              "<style scoped>\n",
              "    .dataframe tbody tr th:only-of-type {\n",
              "        vertical-align: middle;\n",
              "    }\n",
              "\n",
              "    .dataframe tbody tr th {\n",
              "        vertical-align: top;\n",
              "    }\n",
              "\n",
              "    .dataframe thead th {\n",
              "        text-align: right;\n",
              "    }\n",
              "</style>\n",
              "<table border=\"1\" class=\"dataframe\">\n",
              "  <thead>\n",
              "    <tr style=\"text-align: right;\">\n",
              "      <th></th>\n",
              "      <th>Country Name</th>\n",
              "      <th>GDP</th>\n",
              "      <th>Depression Count</th>\n",
              "    </tr>\n",
              "  </thead>\n",
              "  <tbody>\n",
              "    <tr>\n",
              "      <th>0</th>\n",
              "      <td>Afghanistan</td>\n",
              "      <td>555.356619</td>\n",
              "      <td>0.026459</td>\n",
              "    </tr>\n",
              "    <tr>\n",
              "      <th>1</th>\n",
              "      <td>Albania</td>\n",
              "      <td>4296.627435</td>\n",
              "      <td>0.024064</td>\n",
              "    </tr>\n",
              "    <tr>\n",
              "      <th>2</th>\n",
              "      <td>Algeria</td>\n",
              "      <td>4434.659564</td>\n",
              "      <td>0.033928</td>\n",
              "    </tr>\n",
              "    <tr>\n",
              "      <th>3</th>\n",
              "      <td>Angola</td>\n",
              "      <td>4294.319002</td>\n",
              "      <td>0.027714</td>\n",
              "    </tr>\n",
              "    <tr>\n",
              "      <th>4</th>\n",
              "      <td>Armenia</td>\n",
              "      <td>3774.964716</td>\n",
              "      <td>0.031653</td>\n",
              "    </tr>\n",
              "    <tr>\n",
              "      <th>...</th>\n",
              "      <td>...</td>\n",
              "      <td>...</td>\n",
              "      <td>...</td>\n",
              "    </tr>\n",
              "    <tr>\n",
              "      <th>75</th>\n",
              "      <td>Ukraine</td>\n",
              "      <td>2514.427928</td>\n",
              "      <td>0.058049</td>\n",
              "    </tr>\n",
              "    <tr>\n",
              "      <th>76</th>\n",
              "      <td>Uzbekistan</td>\n",
              "      <td>2375.431976</td>\n",
              "      <td>0.239217</td>\n",
              "    </tr>\n",
              "    <tr>\n",
              "      <th>77</th>\n",
              "      <td>Vanuatu</td>\n",
              "      <td>2965.601877</td>\n",
              "      <td>0.000222</td>\n",
              "    </tr>\n",
              "    <tr>\n",
              "      <th>78</th>\n",
              "      <td>Zambia</td>\n",
              "      <td>1479.075839</td>\n",
              "      <td>0.015217</td>\n",
              "    </tr>\n",
              "    <tr>\n",
              "      <th>79</th>\n",
              "      <td>Zimbabwe</td>\n",
              "      <td>1473.180997</td>\n",
              "      <td>0.012144</td>\n",
              "    </tr>\n",
              "  </tbody>\n",
              "</table>\n",
              "<p>80 rows × 3 columns</p>\n",
              "</div>"
            ],
            "text/plain": [
              "   Country Name          GDP  Depression Count\n",
              "0   Afghanistan   555.356619          0.026459\n",
              "1       Albania  4296.627435          0.024064\n",
              "2       Algeria  4434.659564          0.033928\n",
              "3        Angola  4294.319002          0.027714\n",
              "4       Armenia  3774.964716          0.031653\n",
              "..          ...          ...               ...\n",
              "75      Ukraine  2514.427928          0.058049\n",
              "76   Uzbekistan  2375.431976          0.239217\n",
              "77      Vanuatu  2965.601877          0.000222\n",
              "78       Zambia  1479.075839          0.015217\n",
              "79     Zimbabwe  1473.180997          0.012144\n",
              "\n",
              "[80 rows x 3 columns]"
            ]
          },
          "metadata": {
            "tags": []
          },
          "execution_count": 62
        }
      ]
    },
    {
      "cell_type": "markdown",
      "metadata": {
        "id": "x3QdsQgsvZBM"
      },
      "source": [
        "#Correlation for depression and GDP for countries above the average GDP"
      ]
    },
    {
      "cell_type": "markdown",
      "metadata": {
        "id": "lTokCJkewTHB"
      },
      "source": [
        "##Scatter plots"
      ]
    },
    {
      "cell_type": "code",
      "metadata": {
        "colab": {
          "base_uri": "https://localhost:8080/",
          "height": 279
        },
        "id": "o1LEaCCJwStN",
        "outputId": "fc96fccd-21c8-415e-e1dc-21fbff70a3af"
      },
      "source": [
        "#plot above GDP median and depression count\n",
        "ax1 = gdp_depress_above.plot.scatter(x='GDP', y='Depression Count', c='DarkBlue')"
      ],
      "execution_count": 63,
      "outputs": [
        {
          "output_type": "display_data",
          "data": {
            "image/png": "[encoded data removed]",
            "text/plain": [
              "<Figure size 432x288 with 1 Axes>"
            ]
          },
          "metadata": {
            "tags": [],
            "needs_background": "light"
          }
        }
      ]
    },
    {
      "cell_type": "code",
      "metadata": {
        "colab": {
          "base_uri": "https://localhost:8080/",
          "height": 282
        },
        "id": "2TERb5GaveRe",
        "outputId": "d29e3b0a-e60f-4719-8aae-49433e808fe0"
      },
      "source": [
        "#plot below GDP median and depression count\n",
        "ax2 = gdp_depress_below.plot.scatter(x='GDP', y='Depression Count', c='DarkBlue')"
      ],
      "execution_count": 64,
      "outputs": [
        {
          "output_type": "display_data",
          "data": {
            "image/png": "[encoded data removed]",
            "text/plain": [
              "<Figure size 432x288 with 1 Axes>"
            ]
          },
          "metadata": {
            "tags": [],
            "needs_background": "light"
          }
        }
      ]
    },
    {
      "cell_type": "markdown",
      "metadata": {
        "id": "QJ44DRGoztLc"
      },
      "source": [
        "##Correlation values"
      ]
    },
    {
      "cell_type": "code",
      "metadata": {
        "colab": {
          "base_uri": "https://localhost:8080/"
        },
        "id": "c36c2y_uxAs6",
        "outputId": "d279fe0c-5626-4e4d-ca34-bce54a32f3ef"
      },
      "source": [
        "#obtain correlation of above GDP median and depression count\n",
        "corr = gdp_depress_above.corr(method=\"spearman\")\n",
        "corr.loc['Depression Count']"
      ],
      "execution_count": 65,
      "outputs": [
        {
          "output_type": "execute_result",
          "data": {
            "text/plain": [
              "GDP                 0.446044\n",
              "Depression Count    1.000000\n",
              "Name: Depression Count, dtype: float64"
            ]
          },
          "metadata": {
            "tags": []
          },
          "execution_count": 65
        }
      ]
    },
    {
      "cell_type": "code",
      "metadata": {
        "colab": {
          "base_uri": "https://localhost:8080/"
        },
        "id": "mrAvvFRCveng",
        "outputId": "b92cf218-f0c5-466f-9f0e-724d659c1b59"
      },
      "source": [
        "#obtain correlation of below GDP median and depression count\n",
        "corr = gdp_depress_below.corr(method=\"spearman\")\n",
        "corr.loc['Depression Count']"
      ],
      "execution_count": 66,
      "outputs": [
        {
          "output_type": "execute_result",
          "data": {
            "text/plain": [
              "GDP                 0.293271\n",
              "Depression Count    1.000000\n",
              "Name: Depression Count, dtype: float64"
            ]
          },
          "metadata": {
            "tags": []
          },
          "execution_count": 66
        }
      ]
    }
  ]
}