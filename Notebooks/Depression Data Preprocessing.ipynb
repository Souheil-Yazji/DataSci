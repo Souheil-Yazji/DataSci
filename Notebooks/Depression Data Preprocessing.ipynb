{
 "cells": [
  {
   "cell_type": "code",
   "execution_count": 22,
   "id": "common-whale",
   "metadata": {},
   "outputs": [],
   "source": [
    "import pandas as pd\n",
    "\n",
    "df = pd.read_csv(\"number-with-depression-by-country.csv\")\n",
    "df.rename(columns={\"Entity\": \"Country Name\", \"Prevalence - Depressive disorders - Sex: Both - Age: All Ages (Number)\": \"Depression Count\"}, inplace=True)\n",
    "df.to_csv(path_or_buf=\"depression.csv\", columns=[\"Country Name\", \"Year\", \"Depression Count\"])"
   ]
  },
  {
   "cell_type": "code",
   "execution_count": null,
   "id": "advance-leader",
   "metadata": {},
   "outputs": [],
   "source": []
  }
 ],
 "metadata": {
  "kernelspec": {
   "display_name": "Python 3",
   "language": "python",
   "name": "python3"
  },
  "language_info": {
   "codemirror_mode": {
    "name": "ipython",
    "version": 3
   },
   "file_extension": ".py",
   "mimetype": "text/x-python",
   "name": "python",
   "nbconvert_exporter": "python",
   "pygments_lexer": "ipython3",
   "version": "3.8.1"
  }
 },
 "nbformat": 4,
 "nbformat_minor": 5
}
