{
 "cells": [
  {
   "cell_type": "code",
   "execution_count": 1,
   "metadata": {},
   "outputs": [],
   "source": [
    "import pandas as pd"
   ]
  },
  {
   "cell_type": "markdown",
   "metadata": {},
   "source": [
    "### Load dataset"
   ]
  },
  {
   "cell_type": "code",
   "execution_count": 2,
   "metadata": {},
   "outputs": [],
   "source": [
    "fao_domestic_supply = pd.read_csv('data/FAO_Domestic_Supply.csv')"
   ]
  },
  {
   "cell_type": "code",
   "execution_count": 3,
   "metadata": {},
   "outputs": [
    {
     "data": {
      "text/html": [
       "<div>\n",
       "<style scoped>\n",
       "    .dataframe tbody tr th:only-of-type {\n",
       "        vertical-align: middle;\n",
       "    }\n",
       "\n",
       "    .dataframe tbody tr th {\n",
       "        vertical-align: top;\n",
       "    }\n",
       "\n",
       "    .dataframe thead th {\n",
       "        text-align: right;\n",
       "    }\n",
       "</style>\n",
       "<table border=\"1\" class=\"dataframe\">\n",
       "  <thead>\n",
       "    <tr style=\"text-align: right;\">\n",
       "      <th></th>\n",
       "      <th>Domain Code</th>\n",
       "      <th>Domain</th>\n",
       "      <th>Area Code</th>\n",
       "      <th>Area</th>\n",
       "      <th>Element Code</th>\n",
       "      <th>Element</th>\n",
       "      <th>Item Code</th>\n",
       "      <th>Item</th>\n",
       "      <th>Year Code</th>\n",
       "      <th>Year</th>\n",
       "      <th>Unit</th>\n",
       "      <th>Value</th>\n",
       "      <th>Flag</th>\n",
       "      <th>Flag Description</th>\n",
       "    </tr>\n",
       "  </thead>\n",
       "  <tbody>\n",
       "    <tr>\n",
       "      <th>0</th>\n",
       "      <td>FBS</td>\n",
       "      <td>New Food Balances</td>\n",
       "      <td>2</td>\n",
       "      <td>Afghanistan</td>\n",
       "      <td>5301</td>\n",
       "      <td>Domestic supply quantity</td>\n",
       "      <td>2511</td>\n",
       "      <td>Wheat and products</td>\n",
       "      <td>2014</td>\n",
       "      <td>2014</td>\n",
       "      <td>1000 tonnes</td>\n",
       "      <td>6546.0</td>\n",
       "      <td>S</td>\n",
       "      <td>Standardized data</td>\n",
       "    </tr>\n",
       "    <tr>\n",
       "      <th>1</th>\n",
       "      <td>FBS</td>\n",
       "      <td>New Food Balances</td>\n",
       "      <td>2</td>\n",
       "      <td>Afghanistan</td>\n",
       "      <td>5301</td>\n",
       "      <td>Domestic supply quantity</td>\n",
       "      <td>2511</td>\n",
       "      <td>Wheat and products</td>\n",
       "      <td>2015</td>\n",
       "      <td>2015</td>\n",
       "      <td>1000 tonnes</td>\n",
       "      <td>6545.0</td>\n",
       "      <td>S</td>\n",
       "      <td>Standardized data</td>\n",
       "    </tr>\n",
       "    <tr>\n",
       "      <th>2</th>\n",
       "      <td>FBS</td>\n",
       "      <td>New Food Balances</td>\n",
       "      <td>2</td>\n",
       "      <td>Afghanistan</td>\n",
       "      <td>5301</td>\n",
       "      <td>Domestic supply quantity</td>\n",
       "      <td>2511</td>\n",
       "      <td>Wheat and products</td>\n",
       "      <td>2016</td>\n",
       "      <td>2016</td>\n",
       "      <td>1000 tonnes</td>\n",
       "      <td>7287.0</td>\n",
       "      <td>S</td>\n",
       "      <td>Standardized data</td>\n",
       "    </tr>\n",
       "    <tr>\n",
       "      <th>3</th>\n",
       "      <td>FBS</td>\n",
       "      <td>New Food Balances</td>\n",
       "      <td>2</td>\n",
       "      <td>Afghanistan</td>\n",
       "      <td>5301</td>\n",
       "      <td>Domestic supply quantity</td>\n",
       "      <td>2511</td>\n",
       "      <td>Wheat and products</td>\n",
       "      <td>2017</td>\n",
       "      <td>2017</td>\n",
       "      <td>1000 tonnes</td>\n",
       "      <td>7326.0</td>\n",
       "      <td>S</td>\n",
       "      <td>Standardized data</td>\n",
       "    </tr>\n",
       "    <tr>\n",
       "      <th>4</th>\n",
       "      <td>FBS</td>\n",
       "      <td>New Food Balances</td>\n",
       "      <td>2</td>\n",
       "      <td>Afghanistan</td>\n",
       "      <td>5301</td>\n",
       "      <td>Domestic supply quantity</td>\n",
       "      <td>2511</td>\n",
       "      <td>Wheat and products</td>\n",
       "      <td>2018</td>\n",
       "      <td>2018</td>\n",
       "      <td>1000 tonnes</td>\n",
       "      <td>6995.0</td>\n",
       "      <td>S</td>\n",
       "      <td>Standardized data</td>\n",
       "    </tr>\n",
       "  </tbody>\n",
       "</table>\n",
       "</div>"
      ],
      "text/plain": [
       "  Domain Code             Domain  Area Code         Area  Element Code  \\\n",
       "0         FBS  New Food Balances          2  Afghanistan          5301   \n",
       "1         FBS  New Food Balances          2  Afghanistan          5301   \n",
       "2         FBS  New Food Balances          2  Afghanistan          5301   \n",
       "3         FBS  New Food Balances          2  Afghanistan          5301   \n",
       "4         FBS  New Food Balances          2  Afghanistan          5301   \n",
       "\n",
       "                    Element  Item Code                Item  Year Code  Year  \\\n",
       "0  Domestic supply quantity       2511  Wheat and products       2014  2014   \n",
       "1  Domestic supply quantity       2511  Wheat and products       2015  2015   \n",
       "2  Domestic supply quantity       2511  Wheat and products       2016  2016   \n",
       "3  Domestic supply quantity       2511  Wheat and products       2017  2017   \n",
       "4  Domestic supply quantity       2511  Wheat and products       2018  2018   \n",
       "\n",
       "          Unit   Value Flag   Flag Description  \n",
       "0  1000 tonnes  6546.0    S  Standardized data  \n",
       "1  1000 tonnes  6545.0    S  Standardized data  \n",
       "2  1000 tonnes  7287.0    S  Standardized data  \n",
       "3  1000 tonnes  7326.0    S  Standardized data  \n",
       "4  1000 tonnes  6995.0    S  Standardized data  "
      ]
     },
     "execution_count": 3,
     "metadata": {},
     "output_type": "execute_result"
    }
   ],
   "source": [
    "fao_domestic_supply.head()"
   ]
  },
  {
   "cell_type": "markdown",
   "metadata": {},
   "source": [
    "### Group food items by food groups"
   ]
  },
  {
   "cell_type": "code",
   "execution_count": 4,
   "metadata": {},
   "outputs": [],
   "source": [
    "gbl = ['Wheat and products', 'Rice and products', 'Barley and products', \n",
    "       'Maize and products', 'Rye and products', 'Oats', 'Millet and products',\n",
    "       'Sorghum and products', 'Cereals, Other','Cassava and products', \n",
    "       'Beans', 'Pulses, Other and products','Nuts and products', 'Soyabeans',\n",
    "       'Groundnuts (Shelled Eq)', 'Sunflower seed',\n",
    "       'Rape and Mustardseed', 'Cottonseed', 'Peas', 'Sesame seed','Palm kernels','Oilcrops, Other',\n",
    "      'Cocoa Beans and products',\n",
    "      ]\n",
    "dairy = ['Butter, Ghee', 'Cream','Milk - Excluding Butter',]\n",
    "fruits = ['Coconuts - Incl Copra','Olives (including preserved)', 'Tomatoes and products'\n",
    "         'Oranges, Mandarines',\n",
    "       'Lemons, Limes and products', 'Grapefruit and products',\n",
    "       'Citrus, Other', 'Bananas', 'Plantains', 'Apples and products',\n",
    "       'Pineapples and products', 'Dates', 'Grapes and products (excl wine)','Fruits, Other',]\n",
    "meat = ['Bovine Meat',\n",
    "       'Mutton & Goat Meat', 'Pigmeat', 'Poultry Meat', 'Meat, Other',\n",
    "        'Offals, Edible','Fats, Animals, Raw', 'Eggs','Freshwater Fish',\n",
    "       'Demersal Fish',\n",
    "       'Pelagic Fish', 'Marine Fish, Other', 'Crustaceans']\n",
    "vegetables = ['Cassava and products', 'Potatoes and products', \n",
    "              'Sweet potatoes', 'Yams',\n",
    "             'Roots, Other', 'Onions',\n",
    "       'Vegetables, Other','Pepper', 'Pimento', 'Cloves',\n",
    "       'Spices, Other', ]\n",
    "confections = ['Sugar cane', 'Sugar beet',\n",
    "       'Sugar non-centrifugal', 'Sugar (Raw Equivalent)',\n",
    "              'Sweeteners, Other', 'Honey','Soyabean Oil', 'Groundnut Oil',\n",
    "       'Sunflowerseed Oil', 'Rape and Mustard Oil', 'Cottonseed Oil',\n",
    "       'Palmkernel Oil', 'Palm Oil', 'Coconut Oil', 'Sesameseed Oil',\n",
    "       'Olive Oil', 'Ricebran Oil', 'Maize Germ Oil',\n",
    "       'Oilcrops Oil, Other','Fish, Body Oil', 'Fish, Liver Oil',]\n",
    "caffeine = ['Coffee and products','Tea (including mate)']\n",
    "alcohol = ['Wine', 'Beer', 'Beverages, Fermented',\n",
    "       'Beverages, Alcoholic', 'Alcohol, Non-Food']"
   ]
  },
  {
   "cell_type": "code",
   "execution_count": 5,
   "metadata": {},
   "outputs": [],
   "source": [
    "fao_domestic_supply = fao_domestic_supply.rename(columns={'Area': 'Country Name'})"
   ]
  },
  {
   "cell_type": "markdown",
   "metadata": {},
   "source": [
    "### Filter rows by food groups"
   ]
  },
  {
   "cell_type": "code",
   "execution_count": 6,
   "metadata": {},
   "outputs": [],
   "source": [
    "gbl_df = fao_domestic_supply.loc[fao_domestic_supply['Item'].isin(gbl)]\n",
    "dairy_df = fao_domestic_supply.loc[fao_domestic_supply['Item'].isin(dairy)]\n",
    "fruits_df= fao_domestic_supply.loc[fao_domestic_supply['Item'].isin(fruits)]\n",
    "meat_df = fao_domestic_supply.loc[fao_domestic_supply['Item'].isin(meat)]\n",
    "vegetables_df = fao_domestic_supply.loc[fao_domestic_supply['Item'].isin(vegetables)]\n",
    "confections_df =fao_domestic_supply.loc[fao_domestic_supply['Item'].isin(confections)]\n",
    "caffeine_df = fao_domestic_supply.loc[fao_domestic_supply['Item'].isin(caffeine)]\n",
    "alcohol_df = fao_domestic_supply.loc[fao_domestic_supply['Item'].isin(alcohol)]"
   ]
  },
  {
   "cell_type": "markdown",
   "metadata": {},
   "source": [
    "### Sum food group values"
   ]
  },
  {
   "cell_type": "code",
   "execution_count": 7,
   "metadata": {},
   "outputs": [],
   "source": [
    "gbl_consumption = gbl_df.groupby(['Country Name', 'Year']).sum().reset_index()[['Country Name', 'Year', 'Value']].rename(columns={'Value': 'GBL Consumption'})"
   ]
  },
  {
   "cell_type": "code",
   "execution_count": 8,
   "metadata": {},
   "outputs": [],
   "source": [
    "def group_by_fg(df, name):\n",
    "    \"\"\"\n",
    "        Group by Country and Year for each food consumption dataframe and sum the values.\n",
    "    \"\"\"\n",
    "    return df.groupby(['Country Name', 'Year']).sum().reset_index()[['Country Name', 'Year', 'Value']].rename(columns={'Value': name})"
   ]
  },
  {
   "cell_type": "markdown",
   "metadata": {},
   "source": [
    "### Create the food consumption datasets"
   ]
  },
  {
   "cell_type": "code",
   "execution_count": 9,
   "metadata": {},
   "outputs": [],
   "source": [
    "dairy_consumption  = group_by_fg(dairy_df, 'Dairy Consumption')\n",
    "fruits_consumption = group_by_fg(fruits_df, 'Fruits Consumption')\n",
    "meat_consumption = group_by_fg(meat_df, 'Meat Consumption')\n",
    "vegetables_consumption = group_by_fg(vegetables_df, 'Vegetables Consumption')\n",
    "confections_consumption = group_by_fg(confections_df, 'Confections Consumption')\n",
    "caffeine_consumption = group_by_fg(caffeine_df, 'Caffeine Consumption')\n",
    "alcohol_consumption = group_by_fg(alcohol_df, 'Alcohol Consumption')"
   ]
  },
  {
   "cell_type": "markdown",
   "metadata": {},
   "source": [
    "### Merge the food group consumptions into a single CSV"
   ]
  },
  {
   "cell_type": "code",
   "execution_count": 10,
   "metadata": {},
   "outputs": [],
   "source": [
    "dataframes = [gbl_consumption,\n",
    "dairy_consumption,\n",
    "fruits_consumption,\n",
    "meat_consumption,\n",
    "vegetables_consumption,\n",
    "confections_consumption,\n",
    "caffeine_consumption,\n",
    "alcohol_consumption]"
   ]
  },
  {
   "cell_type": "code",
   "execution_count": 11,
   "metadata": {},
   "outputs": [],
   "source": [
    "from functools import reduce\n",
    "joined = reduce(lambda left,right: pd.merge(left,right,on=['Country Name', 'Year'],\n",
    "                                            how='inner'), dataframes)"
   ]
  },
  {
   "cell_type": "markdown",
   "metadata": {},
   "source": [
    "#### Result"
   ]
  },
  {
   "cell_type": "code",
   "execution_count": 12,
   "metadata": {},
   "outputs": [
    {
     "data": {
      "text/html": [
       "<div>\n",
       "<style scoped>\n",
       "    .dataframe tbody tr th:only-of-type {\n",
       "        vertical-align: middle;\n",
       "    }\n",
       "\n",
       "    .dataframe tbody tr th {\n",
       "        vertical-align: top;\n",
       "    }\n",
       "\n",
       "    .dataframe thead th {\n",
       "        text-align: right;\n",
       "    }\n",
       "</style>\n",
       "<table border=\"1\" class=\"dataframe\">\n",
       "  <thead>\n",
       "    <tr style=\"text-align: right;\">\n",
       "      <th></th>\n",
       "      <th>Country Name</th>\n",
       "      <th>Year</th>\n",
       "      <th>GBL Consumption</th>\n",
       "      <th>Dairy Consumption</th>\n",
       "      <th>Fruits Consumption</th>\n",
       "      <th>Meat Consumption</th>\n",
       "      <th>Vegetables Consumption</th>\n",
       "      <th>Confections Consumption</th>\n",
       "      <th>Caffeine Consumption</th>\n",
       "      <th>Alcohol Consumption</th>\n",
       "    </tr>\n",
       "  </thead>\n",
       "  <tbody>\n",
       "    <tr>\n",
       "      <th>0</th>\n",
       "      <td>Afghanistan</td>\n",
       "      <td>2014</td>\n",
       "      <td>8371.0</td>\n",
       "      <td>1897.0</td>\n",
       "      <td>1072.0</td>\n",
       "      <td>562.36</td>\n",
       "      <td>1873.0</td>\n",
       "      <td>684.0</td>\n",
       "      <td>110.0</td>\n",
       "      <td>1.0</td>\n",
       "    </tr>\n",
       "    <tr>\n",
       "      <th>1</th>\n",
       "      <td>Afghanistan</td>\n",
       "      <td>2015</td>\n",
       "      <td>8105.0</td>\n",
       "      <td>2263.0</td>\n",
       "      <td>1203.0</td>\n",
       "      <td>551.20</td>\n",
       "      <td>1871.0</td>\n",
       "      <td>676.0</td>\n",
       "      <td>82.0</td>\n",
       "      <td>0.0</td>\n",
       "    </tr>\n",
       "    <tr>\n",
       "      <th>2</th>\n",
       "      <td>Afghanistan</td>\n",
       "      <td>2016</td>\n",
       "      <td>8773.0</td>\n",
       "      <td>2273.0</td>\n",
       "      <td>1039.0</td>\n",
       "      <td>531.05</td>\n",
       "      <td>3154.0</td>\n",
       "      <td>628.0</td>\n",
       "      <td>51.0</td>\n",
       "      <td>30.0</td>\n",
       "    </tr>\n",
       "    <tr>\n",
       "      <th>3</th>\n",
       "      <td>Afghanistan</td>\n",
       "      <td>2017</td>\n",
       "      <td>8656.0</td>\n",
       "      <td>2221.0</td>\n",
       "      <td>1207.0</td>\n",
       "      <td>520.00</td>\n",
       "      <td>2405.0</td>\n",
       "      <td>712.0</td>\n",
       "      <td>79.0</td>\n",
       "      <td>0.0</td>\n",
       "    </tr>\n",
       "    <tr>\n",
       "      <th>4</th>\n",
       "      <td>Afghanistan</td>\n",
       "      <td>2018</td>\n",
       "      <td>8219.0</td>\n",
       "      <td>2220.0</td>\n",
       "      <td>831.0</td>\n",
       "      <td>509.00</td>\n",
       "      <td>1886.0</td>\n",
       "      <td>763.0</td>\n",
       "      <td>81.0</td>\n",
       "      <td>0.0</td>\n",
       "    </tr>\n",
       "  </tbody>\n",
       "</table>\n",
       "</div>"
      ],
      "text/plain": [
       "  Country Name  Year  GBL Consumption  Dairy Consumption  Fruits Consumption  \\\n",
       "0  Afghanistan  2014           8371.0             1897.0              1072.0   \n",
       "1  Afghanistan  2015           8105.0             2263.0              1203.0   \n",
       "2  Afghanistan  2016           8773.0             2273.0              1039.0   \n",
       "3  Afghanistan  2017           8656.0             2221.0              1207.0   \n",
       "4  Afghanistan  2018           8219.0             2220.0               831.0   \n",
       "\n",
       "   Meat Consumption  Vegetables Consumption  Confections Consumption  \\\n",
       "0            562.36                  1873.0                    684.0   \n",
       "1            551.20                  1871.0                    676.0   \n",
       "2            531.05                  3154.0                    628.0   \n",
       "3            520.00                  2405.0                    712.0   \n",
       "4            509.00                  1886.0                    763.0   \n",
       "\n",
       "   Caffeine Consumption  Alcohol Consumption  \n",
       "0                 110.0                  1.0  \n",
       "1                  82.0                  0.0  \n",
       "2                  51.0                 30.0  \n",
       "3                  79.0                  0.0  \n",
       "4                  81.0                  0.0  "
      ]
     },
     "execution_count": 12,
     "metadata": {},
     "output_type": "execute_result"
    }
   ],
   "source": [
    "joined.head()"
   ]
  },
  {
   "cell_type": "markdown",
   "metadata": {},
   "source": [
    "### Save File"
   ]
  },
  {
   "cell_type": "code",
   "execution_count": 13,
   "metadata": {},
   "outputs": [],
   "source": [
    "joined.to_csv('data/FAO_Consumption.csv')"
   ]
  }
 ],
 "metadata": {
  "kernelspec": {
   "display_name": "Python 3",
   "language": "python",
   "name": "python3"
  },
  "language_info": {
   "codemirror_mode": {
    "name": "ipython",
    "version": 3
   },
   "file_extension": ".py",
   "mimetype": "text/x-python",
   "name": "python",
   "nbconvert_exporter": "python",
   "pygments_lexer": "ipython3",
   "version": "3.7.7"
  }
 },
 "nbformat": 4,
 "nbformat_minor": 4
}
