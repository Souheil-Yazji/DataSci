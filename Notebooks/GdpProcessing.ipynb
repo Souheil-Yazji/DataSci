{
 "cells": [
  {
   "cell_type": "code",
   "execution_count": 2,
   "id": "varied-glossary",
   "metadata": {},
   "outputs": [
    {
     "name": "stdout",
     "output_type": "stream",
     "text": [
      "                                   Country Name Country Code  \\\n",
      "0                                   Afghanistan          AFG   \n",
      "1                                       Albania          ALB   \n",
      "2                                       Algeria          DZA   \n",
      "4                                       Andorra          AND   \n",
      "5                                        Angola          AGO   \n",
      "..                                          ...          ...   \n",
      "259                          Sub-Saharan Africa          SSF   \n",
      "260  Sub-Saharan Africa (excluding high income)          SSA   \n",
      "261   Sub-Saharan Africa (IDA & IBRD countries)          TSS   \n",
      "262                         Upper middle income          UMC   \n",
      "263                                       World          WLD   \n",
      "\n",
      "                 1990              2000              2011              2012  \\\n",
      "0                  ..                ..  591.162759035926  641.871479157538   \n",
      "1    617.230435515505  1126.68331762741  4437.14288515077  4247.62998374252   \n",
      "2    2408.68881482248  1765.02219817503  5462.26089723183  5591.21235322404   \n",
      "4    18878.5059692988  21854.2468030614  43335.3288618283  38686.4612635075   \n",
      "5    947.704182085371  556.836318086553  4615.46802807906  5100.09580809767   \n",
      "..                ...               ...               ...               ...   \n",
      "259  667.634184510417  601.722801307317  1740.05169855956  1781.69519959709   \n",
      "260  663.184859603525  594.890552117327  1728.55626857165  1770.42213587715   \n",
      "261  667.634184510417  601.722801307317  1740.05169855956  1781.69519959709   \n",
      "262  1225.69876091307  1878.61277482864  7227.93000984348  7680.99339696334   \n",
      "263  4285.28148676033  5499.15099970509  10490.0494136011  10607.4393002027   \n",
      "\n",
      "                 2013              2014              2015              2016  \\\n",
      "0    637.165523187024  613.856689167623  578.466352941708  509.218661332126   \n",
      "1    4413.06086120676   4578.6319939825  3952.80121524465  4124.05572595352   \n",
      "2    5498.78409497823   5494.3523360423  4187.50972747204  3945.48208133854   \n",
      "4    39538.7667220426  41303.9293714464   35762.523073758  37474.6654057245   \n",
      "5    5254.88233799616  5408.41049555432  4166.97968386501  3506.07288506966   \n",
      "..                ...               ...               ...               ...   \n",
      "259  1847.30355589383  1866.68337906814  1669.49676067978   1506.4297648563   \n",
      "260  1835.66225860166  1854.67644983729   1658.6306108481  1495.04976807102   \n",
      "261  1847.30355589383  1866.68337906814  1669.49676067978   1506.4297648563   \n",
      "262  8073.30764288659  8261.03272579343  7698.21106532105  7632.38192258686   \n",
      "263  10783.8576157634   10952.676429885  10249.0722666047  10286.3416441792   \n",
      "\n",
      "                 2017              2018              2019 2020  \n",
      "0    519.884773089339  493.750418116312  507.103431871987   ..  \n",
      "1    4531.02080555986  5284.38018438156   5353.2448564014   ..  \n",
      "2    4111.29411013269  4153.73397805915  3973.96407191565   ..  \n",
      "4    38962.8803536703  41793.0552583729  40886.3911648431   ..  \n",
      "5    4095.81294155857  3289.64666408633  2790.72661520665   ..  \n",
      "..                ...               ...               ...  ...  \n",
      "259  1563.36124041292  1596.14708318246  1596.21373862471   ..  \n",
      "260  1551.28375110909  1583.51305575096  1583.92606891839   ..  \n",
      "261  1563.36124041292  1596.14708318246  1596.21373862471   ..  \n",
      "262   8368.5004770471  8906.20354398557  9013.74996360071   ..  \n",
      "263  10827.6585821628  11385.5528697407  11433.2157212036   ..  \n",
      "\n",
      "[230 rows x 14 columns]\n"
     ]
    },
    {
     "ename": "FileNotFoundError",
     "evalue": "[Errno 2] No such file or directory: '../Proccesed Data/gdp.csv'",
     "output_type": "error",
     "traceback": [
      "\u001b[0;31m---------------------------------------------------------------------------\u001b[0m",
      "\u001b[0;31mFileNotFoundError\u001b[0m                         Traceback (most recent call last)",
      "\u001b[0;32m<ipython-input-2-4d9af1f85840>\u001b[0m in \u001b[0;36m<module>\u001b[0;34m\u001b[0m\n\u001b[1;32m     11\u001b[0m \u001b[0mdf\u001b[0m \u001b[0;34m=\u001b[0m \u001b[0mdf\u001b[0m\u001b[0;34m[\u001b[0m\u001b[0mdf\u001b[0m\u001b[0;34m[\u001b[0m\u001b[0;34m'2019'\u001b[0m\u001b[0;34m]\u001b[0m\u001b[0;34m.\u001b[0m\u001b[0mastype\u001b[0m\u001b[0;34m(\u001b[0m\u001b[0mstr\u001b[0m\u001b[0;34m)\u001b[0m \u001b[0;34m!=\u001b[0m \u001b[0;34m\"..\"\u001b[0m\u001b[0;34m]\u001b[0m\u001b[0;34m\u001b[0m\u001b[0;34m\u001b[0m\u001b[0m\n\u001b[1;32m     12\u001b[0m \u001b[0mprint\u001b[0m\u001b[0;34m(\u001b[0m\u001b[0mdf\u001b[0m\u001b[0;34m)\u001b[0m\u001b[0;34m\u001b[0m\u001b[0;34m\u001b[0m\u001b[0m\n\u001b[0;32m---> 13\u001b[0;31m \u001b[0mdf\u001b[0m\u001b[0;34m.\u001b[0m\u001b[0mto_csv\u001b[0m\u001b[0;34m(\u001b[0m\u001b[0;34m'../Proccesed Data/gdp.csv'\u001b[0m\u001b[0;34m)\u001b[0m\u001b[0;34m\u001b[0m\u001b[0;34m\u001b[0m\u001b[0m\n\u001b[0m",
      "\u001b[0;32m/usr/local/lib/python3.9/site-packages/pandas/core/generic.py\u001b[0m in \u001b[0;36mto_csv\u001b[0;34m(self, path_or_buf, sep, na_rep, float_format, columns, header, index, index_label, mode, encoding, compression, quoting, quotechar, line_terminator, chunksize, date_format, doublequote, escapechar, decimal, errors, storage_options)\u001b[0m\n\u001b[1;32m   3385\u001b[0m         )\n\u001b[1;32m   3386\u001b[0m \u001b[0;34m\u001b[0m\u001b[0m\n\u001b[0;32m-> 3387\u001b[0;31m         return DataFrameRenderer(formatter).to_csv(\n\u001b[0m\u001b[1;32m   3388\u001b[0m             \u001b[0mpath_or_buf\u001b[0m\u001b[0;34m,\u001b[0m\u001b[0;34m\u001b[0m\u001b[0;34m\u001b[0m\u001b[0m\n\u001b[1;32m   3389\u001b[0m             \u001b[0mline_terminator\u001b[0m\u001b[0;34m=\u001b[0m\u001b[0mline_terminator\u001b[0m\u001b[0;34m,\u001b[0m\u001b[0;34m\u001b[0m\u001b[0;34m\u001b[0m\u001b[0m\n",
      "\u001b[0;32m/usr/local/lib/python3.9/site-packages/pandas/io/formats/format.py\u001b[0m in \u001b[0;36mto_csv\u001b[0;34m(self, path_or_buf, encoding, sep, columns, index_label, mode, compression, quoting, quotechar, line_terminator, chunksize, date_format, doublequote, escapechar, errors, storage_options)\u001b[0m\n\u001b[1;32m   1081\u001b[0m             \u001b[0mformatter\u001b[0m\u001b[0;34m=\u001b[0m\u001b[0mself\u001b[0m\u001b[0;34m.\u001b[0m\u001b[0mfmt\u001b[0m\u001b[0;34m,\u001b[0m\u001b[0;34m\u001b[0m\u001b[0;34m\u001b[0m\u001b[0m\n\u001b[1;32m   1082\u001b[0m         )\n\u001b[0;32m-> 1083\u001b[0;31m         \u001b[0mcsv_formatter\u001b[0m\u001b[0;34m.\u001b[0m\u001b[0msave\u001b[0m\u001b[0;34m(\u001b[0m\u001b[0;34m)\u001b[0m\u001b[0;34m\u001b[0m\u001b[0;34m\u001b[0m\u001b[0m\n\u001b[0m\u001b[1;32m   1084\u001b[0m \u001b[0;34m\u001b[0m\u001b[0m\n\u001b[1;32m   1085\u001b[0m         \u001b[0;32mif\u001b[0m \u001b[0mcreated_buffer\u001b[0m\u001b[0;34m:\u001b[0m\u001b[0;34m\u001b[0m\u001b[0;34m\u001b[0m\u001b[0m\n",
      "\u001b[0;32m/usr/local/lib/python3.9/site-packages/pandas/io/formats/csvs.py\u001b[0m in \u001b[0;36msave\u001b[0;34m(self)\u001b[0m\n\u001b[1;32m    226\u001b[0m         \"\"\"\n\u001b[1;32m    227\u001b[0m         \u001b[0;31m# apply compression and byte/text conversion\u001b[0m\u001b[0;34m\u001b[0m\u001b[0;34m\u001b[0m\u001b[0;34m\u001b[0m\u001b[0m\n\u001b[0;32m--> 228\u001b[0;31m         with get_handle(\n\u001b[0m\u001b[1;32m    229\u001b[0m             \u001b[0mself\u001b[0m\u001b[0;34m.\u001b[0m\u001b[0mfilepath_or_buffer\u001b[0m\u001b[0;34m,\u001b[0m\u001b[0;34m\u001b[0m\u001b[0;34m\u001b[0m\u001b[0m\n\u001b[1;32m    230\u001b[0m             \u001b[0mself\u001b[0m\u001b[0;34m.\u001b[0m\u001b[0mmode\u001b[0m\u001b[0;34m,\u001b[0m\u001b[0;34m\u001b[0m\u001b[0;34m\u001b[0m\u001b[0m\n",
      "\u001b[0;32m/usr/local/lib/python3.9/site-packages/pandas/io/common.py\u001b[0m in \u001b[0;36mget_handle\u001b[0;34m(path_or_buf, mode, encoding, compression, memory_map, is_text, errors, storage_options)\u001b[0m\n\u001b[1;32m    640\u001b[0m                 \u001b[0merrors\u001b[0m \u001b[0;34m=\u001b[0m \u001b[0;34m\"replace\"\u001b[0m\u001b[0;34m\u001b[0m\u001b[0;34m\u001b[0m\u001b[0m\n\u001b[1;32m    641\u001b[0m             \u001b[0;31m# Encoding\u001b[0m\u001b[0;34m\u001b[0m\u001b[0;34m\u001b[0m\u001b[0;34m\u001b[0m\u001b[0m\n\u001b[0;32m--> 642\u001b[0;31m             handle = open(\n\u001b[0m\u001b[1;32m    643\u001b[0m                 \u001b[0mhandle\u001b[0m\u001b[0;34m,\u001b[0m\u001b[0;34m\u001b[0m\u001b[0;34m\u001b[0m\u001b[0m\n\u001b[1;32m    644\u001b[0m                 \u001b[0mioargs\u001b[0m\u001b[0;34m.\u001b[0m\u001b[0mmode\u001b[0m\u001b[0;34m,\u001b[0m\u001b[0;34m\u001b[0m\u001b[0;34m\u001b[0m\u001b[0m\n",
      "\u001b[0;31mFileNotFoundError\u001b[0m: [Errno 2] No such file or directory: '../Proccesed Data/gdp.csv'"
     ]
    }
   ],
   "source": [
    "import pandas\n",
    "\n",
    "df = pandas.read_csv('../Raw Data/GDP by Country.csv')\n",
    "df = df.dropna()\n",
    "df = df.drop(columns=['Series Name', 'Series Code'])\n",
    "df = df.rename(columns={'1990 [YR1990]':'1990', '2000 [YR2000]':'2000',\n",
    "       '2011 [YR2011]':'2011', '2012 [YR2012]':'2012', '2013 [YR2013]':'2013', '2014 [YR2014]':'2014',\n",
    "       '2015 [YR2015]':'2015', '2016 [YR2016]':'2016', '2017 [YR2017]':'2017', '2018 [YR2018]':'2018',\n",
    "       '2019 [YR2019]':'2019', '2020 [YR2020]':'2020'})\n",
    "\n",
    "df = df[df['2019'].astype(str) != \"..\"]\n",
    "print(df)\n",
    "df.to_csv('../Proccesed Data/gdp.csv')"
   ]
  },
  {
   "cell_type": "code",
   "execution_count": null,
   "id": "dependent-paradise",
   "metadata": {},
   "outputs": [],
   "source": []
  }
 ],
 "metadata": {
  "kernelspec": {
   "display_name": "Python 3",
   "language": "python",
   "name": "python3"
  },
  "language_info": {
   "codemirror_mode": {
    "name": "ipython",
    "version": 3
   },
   "file_extension": ".py",
   "mimetype": "text/x-python",
   "name": "python",
   "nbconvert_exporter": "python",
   "pygments_lexer": "ipython3",
   "version": "3.9.1"
  }
 },
 "nbformat": 4,
 "nbformat_minor": 5
}
