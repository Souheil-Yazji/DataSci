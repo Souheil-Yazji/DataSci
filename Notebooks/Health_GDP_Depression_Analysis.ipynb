{
 "cells": [
  {
   "cell_type": "code",
   "execution_count": 193,
   "metadata": {},
   "outputs": [],
   "source": [
    "import pandas as pd\n",
    "import numpy as np"
   ]
  },
  {
   "cell_type": "markdown",
   "metadata": {},
   "source": [
    "### Unify country names"
   ]
  },
  {
   "cell_type": "code",
   "execution_count": 194,
   "metadata": {},
   "outputs": [],
   "source": [
    "country_name_changes = {'Venezuela (Bolivarian Republic of)': 'Venezuela, RB',\n",
    "'Viet Nam': 'Vietnam',\n",
    " 'United States of America': 'United States',\n",
    " 'United Republic of Tanzania': 'Tanzania',\n",
    " 'United Kingdom of Great Britain and Northern Ireland': 'United Kingdom',\n",
    " 'Slovakia': 'Slovak Republic',\n",
    " 'Saint Lucia': 'St. Lucia',\n",
    " 'Republic of Moldova': 'Moldova',\n",
    " \"Democratic People's Republic of Korea\":'Korea, Dem. People’s Rep.', \n",
    " 'Republic of Korea':'Korea, Rep.',\n",
    " 'Kyrgyzstan': 'Kyrgyz Republic',\n",
    " 'Iran (Islamic Republic of)': 'Iran, Islamic Rep.',\n",
    " 'Gambia': 'Gambia, The',\n",
    " 'Egypt': 'Egypt, Arab Rep.',\n",
    "  \"Côte d'Ivoire\": \"Cote d'Ivoire\",\n",
    " 'China, Hong Kong SAR': 'Hong Kong SAR, China',\n",
    " 'China, Macao SAR':'Macao SAR, China',\n",
    " 'China, mainland': 'China',\n",
    " 'Bolivia (Plurinational State of)':'Bolivia',\n",
    " 'Bahamas':'Bahamas, The',\n",
    " 'Yemen': 'Yemen, Rep.'\n",
    "}\n",
    "def change_to_match_name(name):\n",
    "    if name in country_name_changes.keys():\n",
    "        return country_name_changes[name]\n",
    "    else:\n",
    "        return name"
   ]
  },
  {
   "cell_type": "markdown",
   "metadata": {},
   "source": [
    "### Get the country codes (from FAO_Consumption dataset)"
   ]
  },
  {
   "cell_type": "code",
   "execution_count": 195,
   "metadata": {},
   "outputs": [],
   "source": [
    "countries = pd.read_csv(\"FAO_Consumption.csv\")"
   ]
  },
  {
   "cell_type": "code",
   "execution_count": 196,
   "metadata": {},
   "outputs": [],
   "source": [
    "country_names = countries[[\"Country Name\"]].dropna().drop_duplicates()"
   ]
  },
  {
   "cell_type": "code",
   "execution_count": 197,
   "metadata": {
    "scrolled": true
   },
   "outputs": [
    {
     "data": {
      "text/html": [
       "<div>\n",
       "<style scoped>\n",
       "    .dataframe tbody tr th:only-of-type {\n",
       "        vertical-align: middle;\n",
       "    }\n",
       "\n",
       "    .dataframe tbody tr th {\n",
       "        vertical-align: top;\n",
       "    }\n",
       "\n",
       "    .dataframe thead th {\n",
       "        text-align: right;\n",
       "    }\n",
       "</style>\n",
       "<table border=\"1\" class=\"dataframe\">\n",
       "  <thead>\n",
       "    <tr style=\"text-align: right;\">\n",
       "      <th></th>\n",
       "      <th>Country Name</th>\n",
       "    </tr>\n",
       "  </thead>\n",
       "  <tbody>\n",
       "    <tr>\n",
       "      <th>0</th>\n",
       "      <td>Afghanistan</td>\n",
       "    </tr>\n",
       "    <tr>\n",
       "      <th>5</th>\n",
       "      <td>Albania</td>\n",
       "    </tr>\n",
       "    <tr>\n",
       "      <th>10</th>\n",
       "      <td>Algeria</td>\n",
       "    </tr>\n",
       "    <tr>\n",
       "      <th>15</th>\n",
       "      <td>Angola</td>\n",
       "    </tr>\n",
       "    <tr>\n",
       "      <th>20</th>\n",
       "      <td>Antigua and Barbuda</td>\n",
       "    </tr>\n",
       "    <tr>\n",
       "      <th>...</th>\n",
       "      <td>...</td>\n",
       "    </tr>\n",
       "    <tr>\n",
       "      <th>845</th>\n",
       "      <td>Venezuela (Bolivarian Republic of)</td>\n",
       "    </tr>\n",
       "    <tr>\n",
       "      <th>850</th>\n",
       "      <td>Viet Nam</td>\n",
       "    </tr>\n",
       "    <tr>\n",
       "      <th>855</th>\n",
       "      <td>Yemen</td>\n",
       "    </tr>\n",
       "    <tr>\n",
       "      <th>860</th>\n",
       "      <td>Zambia</td>\n",
       "    </tr>\n",
       "    <tr>\n",
       "      <th>865</th>\n",
       "      <td>Zimbabwe</td>\n",
       "    </tr>\n",
       "  </tbody>\n",
       "</table>\n",
       "<p>174 rows × 1 columns</p>\n",
       "</div>"
      ],
      "text/plain": [
       "                           Country Name\n",
       "0                           Afghanistan\n",
       "5                               Albania\n",
       "10                              Algeria\n",
       "15                               Angola\n",
       "20                  Antigua and Barbuda\n",
       "..                                  ...\n",
       "845  Venezuela (Bolivarian Republic of)\n",
       "850                            Viet Nam\n",
       "855                               Yemen\n",
       "860                              Zambia\n",
       "865                            Zimbabwe\n",
       "\n",
       "[174 rows x 1 columns]"
      ]
     },
     "execution_count": 197,
     "metadata": {},
     "output_type": "execute_result"
    }
   ],
   "source": [
    "country_names"
   ]
  },
  {
   "cell_type": "markdown",
   "metadata": {},
   "source": [
    "### Filter Country by GDP (Above average)"
   ]
  },
  {
   "cell_type": "code",
   "execution_count": 198,
   "metadata": {},
   "outputs": [],
   "source": [
    "gdp = pd.read_csv(\"gdp.csv\")\n",
    "average_gdp = 6520.64991860447"
   ]
  },
  {
   "cell_type": "code",
   "execution_count": 199,
   "metadata": {
    "scrolled": true
   },
   "outputs": [
    {
     "name": "stderr",
     "output_type": "stream",
     "text": [
      "<ipython-input-199-34f30bc2b31e>:13: SettingWithCopyWarning: \n",
      "A value is trying to be set on a copy of a slice from a DataFrame.\n",
      "Try using .loc[row_indexer,col_indexer] = value instead\n",
      "\n",
      "See the caveats in the documentation: https://pandas.pydata.org/pandas-docs/stable/user_guide/indexing.html#returning-a-view-versus-a-copy\n",
      "  gdp_filtered_above[\"Country Name\"] = gdp_filtered_above[\"Country Name\"].apply(change_to_match_name)\n",
      "<ipython-input-199-34f30bc2b31e>:14: SettingWithCopyWarning: \n",
      "A value is trying to be set on a copy of a slice from a DataFrame.\n",
      "Try using .loc[row_indexer,col_indexer] = value instead\n",
      "\n",
      "See the caveats in the documentation: https://pandas.pydata.org/pandas-docs/stable/user_guide/indexing.html#returning-a-view-versus-a-copy\n",
      "  gdp_filtered_below[\"Country Name\"] = gdp_filtered_below[\"Country Name\"].apply(change_to_match_name)\n"
     ]
    }
   ],
   "source": [
    "gdp_filtered = gdp.melt(id_vars=[\"Unnamed: 0\", \"Country Name\", \"Country Code\"], var_name=\"Year\", value_name=\"GDP\")\n",
    "gdp_filtered = gdp_filtered.loc[gdp_filtered['Year'].isin(['2014', '2015', '2016', '2017'])]\n",
    "gdp_filtered = gdp_filtered.loc[(gdp_filtered['GDP'] != \"..\")]\n",
    "gdp_filtered = gdp_filtered[gdp_filtered['GDP'].notnull()].copy()\n",
    "gdp_filtered[\"GDP\"] = gdp_filtered[\"GDP\"].astype(float)\n",
    "gdp_filtered = gdp_filtered.groupby(['Country Name']).mean().reset_index()\n",
    "gdp_filtered = pd.merge(country_names, gdp_filtered, left_on=['Country Name'], right_on=['Country Name'], how='left')\n",
    "\n",
    "gdp_filtered_above = gdp_filtered.loc[(gdp_filtered['GDP'] >= average_gdp)]\n",
    "gdp_filtered_below = gdp_filtered.loc[(gdp_filtered['GDP'] < average_gdp)]\n",
    "\n",
    "\n",
    "gdp_filtered_above[\"Country Name\"] = gdp_filtered_above[\"Country Name\"].apply(change_to_match_name)\n",
    "gdp_filtered_below[\"Country Name\"] = gdp_filtered_below[\"Country Name\"].apply(change_to_match_name)\n",
    "gdp_filtered_above = gdp_filtered_above.drop(['Unnamed: 0', 'GDP'], axis=1)\n",
    "gdp_filtered_below = gdp_filtered_below.drop(['Unnamed: 0', 'GDP'], axis=1)"
   ]
  },
  {
   "cell_type": "code",
   "execution_count": 200,
   "metadata": {},
   "outputs": [
    {
     "data": {
      "text/html": [
       "<div>\n",
       "<style scoped>\n",
       "    .dataframe tbody tr th:only-of-type {\n",
       "        vertical-align: middle;\n",
       "    }\n",
       "\n",
       "    .dataframe tbody tr th {\n",
       "        vertical-align: top;\n",
       "    }\n",
       "\n",
       "    .dataframe thead th {\n",
       "        text-align: right;\n",
       "    }\n",
       "</style>\n",
       "<table border=\"1\" class=\"dataframe\">\n",
       "  <thead>\n",
       "    <tr style=\"text-align: right;\">\n",
       "      <th></th>\n",
       "      <th>Country Name</th>\n",
       "    </tr>\n",
       "  </thead>\n",
       "  <tbody>\n",
       "    <tr>\n",
       "      <th>4</th>\n",
       "      <td>Antigua and Barbuda</td>\n",
       "    </tr>\n",
       "    <tr>\n",
       "      <th>5</th>\n",
       "      <td>Argentina</td>\n",
       "    </tr>\n",
       "    <tr>\n",
       "      <th>7</th>\n",
       "      <td>Australia</td>\n",
       "    </tr>\n",
       "    <tr>\n",
       "      <th>8</th>\n",
       "      <td>Austria</td>\n",
       "    </tr>\n",
       "    <tr>\n",
       "      <th>12</th>\n",
       "      <td>Barbados</td>\n",
       "    </tr>\n",
       "    <tr>\n",
       "      <th>...</th>\n",
       "      <td>...</td>\n",
       "    </tr>\n",
       "    <tr>\n",
       "      <th>156</th>\n",
       "      <td>Trinidad and Tobago</td>\n",
       "    </tr>\n",
       "    <tr>\n",
       "      <th>158</th>\n",
       "      <td>Turkey</td>\n",
       "    </tr>\n",
       "    <tr>\n",
       "      <th>159</th>\n",
       "      <td>Turkmenistan</td>\n",
       "    </tr>\n",
       "    <tr>\n",
       "      <th>162</th>\n",
       "      <td>United Arab Emirates</td>\n",
       "    </tr>\n",
       "    <tr>\n",
       "      <th>166</th>\n",
       "      <td>Uruguay</td>\n",
       "    </tr>\n",
       "  </tbody>\n",
       "</table>\n",
       "<p>65 rows × 1 columns</p>\n",
       "</div>"
      ],
      "text/plain": [
       "             Country Name\n",
       "4     Antigua and Barbuda\n",
       "5               Argentina\n",
       "7               Australia\n",
       "8                 Austria\n",
       "12               Barbados\n",
       "..                    ...\n",
       "156   Trinidad and Tobago\n",
       "158                Turkey\n",
       "159          Turkmenistan\n",
       "162  United Arab Emirates\n",
       "166               Uruguay\n",
       "\n",
       "[65 rows x 1 columns]"
      ]
     },
     "execution_count": 200,
     "metadata": {},
     "output_type": "execute_result"
    }
   ],
   "source": [
    "gdp_filtered_above"
   ]
  },
  {
   "cell_type": "markdown",
   "metadata": {},
   "source": [
    "### Health GDP dataset"
   ]
  },
  {
   "cell_type": "code",
   "execution_count": 201,
   "metadata": {},
   "outputs": [
    {
     "data": {
      "text/html": [
       "<div>\n",
       "<style scoped>\n",
       "    .dataframe tbody tr th:only-of-type {\n",
       "        vertical-align: middle;\n",
       "    }\n",
       "\n",
       "    .dataframe tbody tr th {\n",
       "        vertical-align: top;\n",
       "    }\n",
       "\n",
       "    .dataframe thead th {\n",
       "        text-align: right;\n",
       "    }\n",
       "</style>\n",
       "<table border=\"1\" class=\"dataframe\">\n",
       "  <thead>\n",
       "    <tr style=\"text-align: right;\">\n",
       "      <th></th>\n",
       "      <th>Country Name</th>\n",
       "      <th>2014</th>\n",
       "      <th>2015</th>\n",
       "      <th>2016</th>\n",
       "      <th>2017</th>\n",
       "    </tr>\n",
       "  </thead>\n",
       "  <tbody>\n",
       "    <tr>\n",
       "      <th>0</th>\n",
       "      <td>Algeria</td>\n",
       "      <td>360</td>\n",
       "      <td>292</td>\n",
       "      <td>261</td>\n",
       "      <td>258</td>\n",
       "    </tr>\n",
       "    <tr>\n",
       "      <th>1</th>\n",
       "      <td>Angola</td>\n",
       "      <td>132</td>\n",
       "      <td>109</td>\n",
       "      <td>95</td>\n",
       "      <td>114</td>\n",
       "    </tr>\n",
       "    <tr>\n",
       "      <th>2</th>\n",
       "      <td>Benin</td>\n",
       "      <td>34</td>\n",
       "      <td>31</td>\n",
       "      <td>30</td>\n",
       "      <td>30</td>\n",
       "    </tr>\n",
       "    <tr>\n",
       "      <th>3</th>\n",
       "      <td>Botswana</td>\n",
       "      <td>436</td>\n",
       "      <td>389</td>\n",
       "      <td>403</td>\n",
       "      <td>484</td>\n",
       "    </tr>\n",
       "    <tr>\n",
       "      <th>4</th>\n",
       "      <td>Burkina Faso</td>\n",
       "      <td>40</td>\n",
       "      <td>34</td>\n",
       "      <td>41</td>\n",
       "      <td>44</td>\n",
       "    </tr>\n",
       "    <tr>\n",
       "      <th>...</th>\n",
       "      <td>...</td>\n",
       "      <td>...</td>\n",
       "      <td>...</td>\n",
       "      <td>...</td>\n",
       "      <td>...</td>\n",
       "    </tr>\n",
       "    <tr>\n",
       "      <th>184</th>\n",
       "      <td>Solomon Islands</td>\n",
       "      <td>114</td>\n",
       "      <td>99</td>\n",
       "      <td>99</td>\n",
       "      <td>97</td>\n",
       "    </tr>\n",
       "    <tr>\n",
       "      <th>185</th>\n",
       "      <td>Tonga</td>\n",
       "      <td>226</td>\n",
       "      <td>187</td>\n",
       "      <td>215</td>\n",
       "      <td>233</td>\n",
       "    </tr>\n",
       "    <tr>\n",
       "      <th>186</th>\n",
       "      <td>Tuvalu</td>\n",
       "      <td>568</td>\n",
       "      <td>531</td>\n",
       "      <td>548</td>\n",
       "      <td>633</td>\n",
       "    </tr>\n",
       "    <tr>\n",
       "      <th>187</th>\n",
       "      <td>Vanuatu</td>\n",
       "      <td>107</td>\n",
       "      <td>116</td>\n",
       "      <td>82</td>\n",
       "      <td>85</td>\n",
       "    </tr>\n",
       "    <tr>\n",
       "      <th>188</th>\n",
       "      <td>Vietnam</td>\n",
       "      <td>117</td>\n",
       "      <td>118</td>\n",
       "      <td>124</td>\n",
       "      <td>140</td>\n",
       "    </tr>\n",
       "  </tbody>\n",
       "</table>\n",
       "<p>189 rows × 5 columns</p>\n",
       "</div>"
      ],
      "text/plain": [
       "        Country Name 2014 2015 2016 2017\n",
       "0            Algeria  360  292  261  258\n",
       "1             Angola  132  109   95  114\n",
       "2              Benin   34   31   30   30\n",
       "3           Botswana  436  389  403  484\n",
       "4       Burkina Faso   40   34   41   44\n",
       "..               ...  ...  ...  ...  ...\n",
       "184  Solomon Islands  114   99   99   97\n",
       "185            Tonga  226  187  215  233\n",
       "186           Tuvalu  568  531  548  633\n",
       "187          Vanuatu  107  116   82   85\n",
       "188          Vietnam  117  118  124  140\n",
       "\n",
       "[189 rows x 5 columns]"
      ]
     },
     "execution_count": 201,
     "metadata": {},
     "output_type": "execute_result"
    }
   ],
   "source": [
    "health_gdp = pd.read_csv(\"NHA indicators.csv\")\n",
    "health_gdp[\"Country Name\"] = health_gdp[\"Country Name\"].apply(change_to_match_name)\n",
    "health_gdp"
   ]
  },
  {
   "cell_type": "markdown",
   "metadata": {},
   "source": [
    "Filter the countries"
   ]
  },
  {
   "cell_type": "markdown",
   "metadata": {},
   "source": [
    "### Depression dataset"
   ]
  },
  {
   "cell_type": "code",
   "execution_count": 202,
   "metadata": {},
   "outputs": [],
   "source": [
    "depression = pd.read_csv(\"depression.csv\")"
   ]
  },
  {
   "cell_type": "code",
   "execution_count": 203,
   "metadata": {},
   "outputs": [],
   "source": [
    "country_population = pd.read_csv(\"country_population.csv\")\n",
    "country_population = country_population[['Country Name', '2014', '2015', '2016', '2017']]\n",
    "country_population['average'] = country_population[['2014', '2015', '2016', '2017']].mean(axis=1)"
   ]
  },
  {
   "cell_type": "code",
   "execution_count": 204,
   "metadata": {},
   "outputs": [],
   "source": [
    "depression_filtered = depression.loc[depression['Year'].isin(['2014', '2015', '2016', '2017'])]\n",
    "depression_filtered = depression_filtered[depression_filtered['Year'].notnull()].copy()\n",
    "depression_filtered[\"Year\"] = depression_filtered[\"Year\"].astype(str)\n",
    "depression_filtered[\"Country Name\"] = depression_filtered[\"Country Name\"].apply(change_to_match_name)"
   ]
  },
  {
   "cell_type": "code",
   "execution_count": 205,
   "metadata": {},
   "outputs": [],
   "source": [
    "depression_filtered = pd.merge(depression_filtered, country_population[['Country Name', 'average']], left_on=['Country Name'], right_on=['Country Name'], how='left').dropna().drop_duplicates(subset=['Country Name'])"
   ]
  },
  {
   "cell_type": "code",
   "execution_count": 206,
   "metadata": {},
   "outputs": [
    {
     "data": {
      "text/html": [
       "<div>\n",
       "<style scoped>\n",
       "    .dataframe tbody tr th:only-of-type {\n",
       "        vertical-align: middle;\n",
       "    }\n",
       "\n",
       "    .dataframe tbody tr th {\n",
       "        vertical-align: top;\n",
       "    }\n",
       "\n",
       "    .dataframe thead th {\n",
       "        text-align: right;\n",
       "    }\n",
       "</style>\n",
       "<table border=\"1\" class=\"dataframe\">\n",
       "  <thead>\n",
       "    <tr style=\"text-align: right;\">\n",
       "      <th></th>\n",
       "      <th>Unnamed: 0</th>\n",
       "      <th>Country Name</th>\n",
       "      <th>Year</th>\n",
       "      <th>Depression Count</th>\n",
       "      <th>average</th>\n",
       "    </tr>\n",
       "  </thead>\n",
       "  <tbody>\n",
       "    <tr>\n",
       "      <th>0</th>\n",
       "      <td>24</td>\n",
       "      <td>Afghanistan</td>\n",
       "      <td>2014</td>\n",
       "      <td>8.844047e+05</td>\n",
       "      <td>3.486598e+07</td>\n",
       "    </tr>\n",
       "    <tr>\n",
       "      <th>4</th>\n",
       "      <td>52</td>\n",
       "      <td>Albania</td>\n",
       "      <td>2014</td>\n",
       "      <td>6.897047e+04</td>\n",
       "      <td>2.879841e+06</td>\n",
       "    </tr>\n",
       "    <tr>\n",
       "      <th>8</th>\n",
       "      <td>80</td>\n",
       "      <td>Algeria</td>\n",
       "      <td>2014</td>\n",
       "      <td>1.319985e+06</td>\n",
       "      <td>4.014808e+07</td>\n",
       "    </tr>\n",
       "    <tr>\n",
       "      <th>12</th>\n",
       "      <td>108</td>\n",
       "      <td>American Samoa</td>\n",
       "      <td>2014</td>\n",
       "      <td>1.443743e+03</td>\n",
       "      <td>5.574100e+04</td>\n",
       "    </tr>\n",
       "    <tr>\n",
       "      <th>20</th>\n",
       "      <td>164</td>\n",
       "      <td>Andorra</td>\n",
       "      <td>2014</td>\n",
       "      <td>3.168901e+03</td>\n",
       "      <td>7.788050e+04</td>\n",
       "    </tr>\n",
       "    <tr>\n",
       "      <th>...</th>\n",
       "      <td>...</td>\n",
       "      <td>...</td>\n",
       "      <td>...</td>\n",
       "      <td>...</td>\n",
       "      <td>...</td>\n",
       "    </tr>\n",
       "    <tr>\n",
       "      <th>896</th>\n",
       "      <td>6268</td>\n",
       "      <td>Vietnam</td>\n",
       "      <td>2014</td>\n",
       "      <td>2.690256e+06</td>\n",
       "      <td>9.315676e+07</td>\n",
       "    </tr>\n",
       "    <tr>\n",
       "      <th>912</th>\n",
       "      <td>6380</td>\n",
       "      <td>World</td>\n",
       "      <td>2014</td>\n",
       "      <td>2.524223e+08</td>\n",
       "      <td>7.381638e+09</td>\n",
       "    </tr>\n",
       "    <tr>\n",
       "      <th>916</th>\n",
       "      <td>6408</td>\n",
       "      <td>Yemen, Rep.</td>\n",
       "      <td>2014</td>\n",
       "      <td>8.684233e+05</td>\n",
       "      <td>2.683110e+07</td>\n",
       "    </tr>\n",
       "    <tr>\n",
       "      <th>924</th>\n",
       "      <td>6436</td>\n",
       "      <td>Zambia</td>\n",
       "      <td>2014</td>\n",
       "      <td>3.798563e+05</td>\n",
       "      <td>1.612408e+07</td>\n",
       "    </tr>\n",
       "    <tr>\n",
       "      <th>932</th>\n",
       "      <td>6464</td>\n",
       "      <td>Zimbabwe</td>\n",
       "      <td>2014</td>\n",
       "      <td>3.116658e+05</td>\n",
       "      <td>1.391711e+07</td>\n",
       "    </tr>\n",
       "  </tbody>\n",
       "</table>\n",
       "<p>180 rows × 5 columns</p>\n",
       "</div>"
      ],
      "text/plain": [
       "     Unnamed: 0    Country Name  Year  Depression Count       average\n",
       "0            24     Afghanistan  2014      8.844047e+05  3.486598e+07\n",
       "4            52         Albania  2014      6.897047e+04  2.879841e+06\n",
       "8            80         Algeria  2014      1.319985e+06  4.014808e+07\n",
       "12          108  American Samoa  2014      1.443743e+03  5.574100e+04\n",
       "20          164         Andorra  2014      3.168901e+03  7.788050e+04\n",
       "..          ...             ...   ...               ...           ...\n",
       "896        6268         Vietnam  2014      2.690256e+06  9.315676e+07\n",
       "912        6380           World  2014      2.524223e+08  7.381638e+09\n",
       "916        6408     Yemen, Rep.  2014      8.684233e+05  2.683110e+07\n",
       "924        6436          Zambia  2014      3.798563e+05  1.612408e+07\n",
       "932        6464        Zimbabwe  2014      3.116658e+05  1.391711e+07\n",
       "\n",
       "[180 rows x 5 columns]"
      ]
     },
     "execution_count": 206,
     "metadata": {},
     "output_type": "execute_result"
    }
   ],
   "source": [
    "depression_filtered"
   ]
  },
  {
   "cell_type": "markdown",
   "metadata": {},
   "source": [
    "### Normalization by population"
   ]
  },
  {
   "cell_type": "code",
   "execution_count": 207,
   "metadata": {},
   "outputs": [],
   "source": [
    "normalized_values = depression_filtered[\"Depression Count\"].div(depression_filtered['average'], axis=0)"
   ]
  },
  {
   "cell_type": "code",
   "execution_count": 208,
   "metadata": {},
   "outputs": [
    {
     "data": {
      "text/plain": [
       "0      0.025366\n",
       "4      0.023949\n",
       "8      0.032878\n",
       "12     0.025901\n",
       "20     0.040689\n",
       "         ...   \n",
       "896    0.028879\n",
       "912    0.034196\n",
       "916    0.032366\n",
       "924    0.023558\n",
       "932    0.022394\n",
       "Length: 180, dtype: float64"
      ]
     },
     "execution_count": 208,
     "metadata": {},
     "output_type": "execute_result"
    }
   ],
   "source": [
    "normalized_values"
   ]
  },
  {
   "cell_type": "markdown",
   "metadata": {},
   "source": [
    "###### Actual update"
   ]
  },
  {
   "cell_type": "code",
   "execution_count": 209,
   "metadata": {},
   "outputs": [],
   "source": [
    "depression_filtered[\"Depression Count\"].update(normalized_values)\n",
    "depression_filtered = depression_filtered.drop(['Unnamed: 0', 'average'], axis=1)"
   ]
  },
  {
   "cell_type": "code",
   "execution_count": 210,
   "metadata": {},
   "outputs": [
    {
     "data": {
      "text/html": [
       "<div>\n",
       "<style scoped>\n",
       "    .dataframe tbody tr th:only-of-type {\n",
       "        vertical-align: middle;\n",
       "    }\n",
       "\n",
       "    .dataframe tbody tr th {\n",
       "        vertical-align: top;\n",
       "    }\n",
       "\n",
       "    .dataframe thead th {\n",
       "        text-align: right;\n",
       "    }\n",
       "</style>\n",
       "<table border=\"1\" class=\"dataframe\">\n",
       "  <thead>\n",
       "    <tr style=\"text-align: right;\">\n",
       "      <th></th>\n",
       "      <th>Country Name</th>\n",
       "      <th>Year</th>\n",
       "      <th>Depression Count</th>\n",
       "    </tr>\n",
       "  </thead>\n",
       "  <tbody>\n",
       "    <tr>\n",
       "      <th>0</th>\n",
       "      <td>Afghanistan</td>\n",
       "      <td>2014</td>\n",
       "      <td>0.025366</td>\n",
       "    </tr>\n",
       "    <tr>\n",
       "      <th>4</th>\n",
       "      <td>Albania</td>\n",
       "      <td>2014</td>\n",
       "      <td>0.023949</td>\n",
       "    </tr>\n",
       "    <tr>\n",
       "      <th>8</th>\n",
       "      <td>Algeria</td>\n",
       "      <td>2014</td>\n",
       "      <td>0.032878</td>\n",
       "    </tr>\n",
       "    <tr>\n",
       "      <th>12</th>\n",
       "      <td>American Samoa</td>\n",
       "      <td>2014</td>\n",
       "      <td>0.025901</td>\n",
       "    </tr>\n",
       "    <tr>\n",
       "      <th>20</th>\n",
       "      <td>Andorra</td>\n",
       "      <td>2014</td>\n",
       "      <td>0.040689</td>\n",
       "    </tr>\n",
       "    <tr>\n",
       "      <th>...</th>\n",
       "      <td>...</td>\n",
       "      <td>...</td>\n",
       "      <td>...</td>\n",
       "    </tr>\n",
       "    <tr>\n",
       "      <th>896</th>\n",
       "      <td>Vietnam</td>\n",
       "      <td>2014</td>\n",
       "      <td>0.028879</td>\n",
       "    </tr>\n",
       "    <tr>\n",
       "      <th>912</th>\n",
       "      <td>World</td>\n",
       "      <td>2014</td>\n",
       "      <td>0.034196</td>\n",
       "    </tr>\n",
       "    <tr>\n",
       "      <th>916</th>\n",
       "      <td>Yemen, Rep.</td>\n",
       "      <td>2014</td>\n",
       "      <td>0.032366</td>\n",
       "    </tr>\n",
       "    <tr>\n",
       "      <th>924</th>\n",
       "      <td>Zambia</td>\n",
       "      <td>2014</td>\n",
       "      <td>0.023558</td>\n",
       "    </tr>\n",
       "    <tr>\n",
       "      <th>932</th>\n",
       "      <td>Zimbabwe</td>\n",
       "      <td>2014</td>\n",
       "      <td>0.022394</td>\n",
       "    </tr>\n",
       "  </tbody>\n",
       "</table>\n",
       "<p>180 rows × 3 columns</p>\n",
       "</div>"
      ],
      "text/plain": [
       "       Country Name  Year  Depression Count\n",
       "0       Afghanistan  2014          0.025366\n",
       "4           Albania  2014          0.023949\n",
       "8           Algeria  2014          0.032878\n",
       "12   American Samoa  2014          0.025901\n",
       "20          Andorra  2014          0.040689\n",
       "..              ...   ...               ...\n",
       "896         Vietnam  2014          0.028879\n",
       "912           World  2014          0.034196\n",
       "916     Yemen, Rep.  2014          0.032366\n",
       "924          Zambia  2014          0.023558\n",
       "932        Zimbabwe  2014          0.022394\n",
       "\n",
       "[180 rows x 3 columns]"
      ]
     },
     "execution_count": 210,
     "metadata": {},
     "output_type": "execute_result"
    }
   ],
   "source": [
    "depression_filtered"
   ]
  },
  {
   "cell_type": "markdown",
   "metadata": {},
   "source": [
    "## Correlation for depression and health GDP for countries above the average GDP"
   ]
  },
  {
   "cell_type": "code",
   "execution_count": 211,
   "metadata": {},
   "outputs": [],
   "source": [
    "health_gdp_filtered_above = pd.merge(gdp_filtered_above, health_gdp, left_on=['Country Name'], right_on=['Country Name'], how='left')"
   ]
  },
  {
   "cell_type": "code",
   "execution_count": 212,
   "metadata": {},
   "outputs": [],
   "source": [
    "health_gdp_filtered_above = health_gdp_filtered_above.melt(id_vars=[\"Country Name\"], var_name=\"Year\", value_name=\"Health GDP\")"
   ]
  },
  {
   "cell_type": "code",
   "execution_count": 213,
   "metadata": {},
   "outputs": [
    {
     "data": {
      "text/html": [
       "<div>\n",
       "<style scoped>\n",
       "    .dataframe tbody tr th:only-of-type {\n",
       "        vertical-align: middle;\n",
       "    }\n",
       "\n",
       "    .dataframe tbody tr th {\n",
       "        vertical-align: top;\n",
       "    }\n",
       "\n",
       "    .dataframe thead th {\n",
       "        text-align: right;\n",
       "    }\n",
       "</style>\n",
       "<table border=\"1\" class=\"dataframe\">\n",
       "  <thead>\n",
       "    <tr style=\"text-align: right;\">\n",
       "      <th></th>\n",
       "      <th>Country Name</th>\n",
       "      <th>Year</th>\n",
       "      <th>Health GDP</th>\n",
       "    </tr>\n",
       "  </thead>\n",
       "  <tbody>\n",
       "    <tr>\n",
       "      <th>0</th>\n",
       "      <td>Antigua and Barbuda</td>\n",
       "      <td>2014</td>\n",
       "      <td>793</td>\n",
       "    </tr>\n",
       "    <tr>\n",
       "      <th>1</th>\n",
       "      <td>Argentina</td>\n",
       "      <td>2014</td>\n",
       "      <td>1,286</td>\n",
       "    </tr>\n",
       "    <tr>\n",
       "      <th>2</th>\n",
       "      <td>Australia</td>\n",
       "      <td>2014</td>\n",
       "      <td>5,608</td>\n",
       "    </tr>\n",
       "    <tr>\n",
       "      <th>3</th>\n",
       "      <td>Austria</td>\n",
       "      <td>2014</td>\n",
       "      <td>5,394</td>\n",
       "    </tr>\n",
       "    <tr>\n",
       "      <th>4</th>\n",
       "      <td>Barbados</td>\n",
       "      <td>2014</td>\n",
       "      <td>1,154</td>\n",
       "    </tr>\n",
       "    <tr>\n",
       "      <th>...</th>\n",
       "      <td>...</td>\n",
       "      <td>...</td>\n",
       "      <td>...</td>\n",
       "    </tr>\n",
       "    <tr>\n",
       "      <th>255</th>\n",
       "      <td>Trinidad and Tobago</td>\n",
       "      <td>2017</td>\n",
       "      <td>1,129</td>\n",
       "    </tr>\n",
       "    <tr>\n",
       "      <th>256</th>\n",
       "      <td>Turkey</td>\n",
       "      <td>2017</td>\n",
       "      <td>443</td>\n",
       "    </tr>\n",
       "    <tr>\n",
       "      <th>257</th>\n",
       "      <td>Turkmenistan</td>\n",
       "      <td>2017</td>\n",
       "      <td>457</td>\n",
       "    </tr>\n",
       "    <tr>\n",
       "      <th>258</th>\n",
       "      <td>United Arab Emirates</td>\n",
       "      <td>2017</td>\n",
       "      <td>1,650</td>\n",
       "    </tr>\n",
       "    <tr>\n",
       "      <th>259</th>\n",
       "      <td>Uruguay</td>\n",
       "      <td>2017</td>\n",
       "      <td>1,649</td>\n",
       "    </tr>\n",
       "  </tbody>\n",
       "</table>\n",
       "<p>260 rows × 3 columns</p>\n",
       "</div>"
      ],
      "text/plain": [
       "             Country Name  Year Health GDP\n",
       "0     Antigua and Barbuda  2014        793\n",
       "1               Argentina  2014      1,286\n",
       "2               Australia  2014      5,608\n",
       "3                 Austria  2014      5,394\n",
       "4                Barbados  2014      1,154\n",
       "..                    ...   ...        ...\n",
       "255   Trinidad and Tobago  2017      1,129\n",
       "256                Turkey  2017        443\n",
       "257          Turkmenistan  2017        457\n",
       "258  United Arab Emirates  2017      1,650\n",
       "259               Uruguay  2017      1,649\n",
       "\n",
       "[260 rows x 3 columns]"
      ]
     },
     "execution_count": 213,
     "metadata": {},
     "output_type": "execute_result"
    }
   ],
   "source": [
    "health_gdp_filtered_above"
   ]
  },
  {
   "cell_type": "markdown",
   "metadata": {},
   "source": [
    "### Merge health GDP and depression datasets on Country and Year"
   ]
  },
  {
   "cell_type": "code",
   "execution_count": 214,
   "metadata": {},
   "outputs": [],
   "source": [
    "health_gdp_depression_above = depression_filtered.merge(health_gdp_filtered_above, left_on=['Country Name', 'Year'], right_on=['Country Name', 'Year'], how='right')"
   ]
  },
  {
   "cell_type": "code",
   "execution_count": 215,
   "metadata": {
    "scrolled": true
   },
   "outputs": [
    {
     "data": {
      "text/html": [
       "<div>\n",
       "<style scoped>\n",
       "    .dataframe tbody tr th:only-of-type {\n",
       "        vertical-align: middle;\n",
       "    }\n",
       "\n",
       "    .dataframe tbody tr th {\n",
       "        vertical-align: top;\n",
       "    }\n",
       "\n",
       "    .dataframe thead th {\n",
       "        text-align: right;\n",
       "    }\n",
       "</style>\n",
       "<table border=\"1\" class=\"dataframe\">\n",
       "  <thead>\n",
       "    <tr style=\"text-align: right;\">\n",
       "      <th></th>\n",
       "      <th>Country Name</th>\n",
       "      <th>Year</th>\n",
       "      <th>Depression Count</th>\n",
       "      <th>Health GDP</th>\n",
       "    </tr>\n",
       "  </thead>\n",
       "  <tbody>\n",
       "    <tr>\n",
       "      <th>0</th>\n",
       "      <td>Antigua and Barbuda</td>\n",
       "      <td>2014</td>\n",
       "      <td>0.025005</td>\n",
       "      <td>793</td>\n",
       "    </tr>\n",
       "    <tr>\n",
       "      <th>1</th>\n",
       "      <td>Argentina</td>\n",
       "      <td>2014</td>\n",
       "      <td>0.035006</td>\n",
       "      <td>1,286</td>\n",
       "    </tr>\n",
       "    <tr>\n",
       "      <th>2</th>\n",
       "      <td>Australia</td>\n",
       "      <td>2014</td>\n",
       "      <td>0.043898</td>\n",
       "      <td>5,608</td>\n",
       "    </tr>\n",
       "    <tr>\n",
       "      <th>3</th>\n",
       "      <td>Austria</td>\n",
       "      <td>2014</td>\n",
       "      <td>0.036325</td>\n",
       "      <td>5,394</td>\n",
       "    </tr>\n",
       "    <tr>\n",
       "      <th>4</th>\n",
       "      <td>Barbados</td>\n",
       "      <td>2014</td>\n",
       "      <td>0.031529</td>\n",
       "      <td>1,154</td>\n",
       "    </tr>\n",
       "    <tr>\n",
       "      <th>...</th>\n",
       "      <td>...</td>\n",
       "      <td>...</td>\n",
       "      <td>...</td>\n",
       "      <td>...</td>\n",
       "    </tr>\n",
       "    <tr>\n",
       "      <th>255</th>\n",
       "      <td>Trinidad and Tobago</td>\n",
       "      <td>2017</td>\n",
       "      <td>NaN</td>\n",
       "      <td>1,129</td>\n",
       "    </tr>\n",
       "    <tr>\n",
       "      <th>256</th>\n",
       "      <td>Turkey</td>\n",
       "      <td>2017</td>\n",
       "      <td>NaN</td>\n",
       "      <td>443</td>\n",
       "    </tr>\n",
       "    <tr>\n",
       "      <th>257</th>\n",
       "      <td>Turkmenistan</td>\n",
       "      <td>2017</td>\n",
       "      <td>NaN</td>\n",
       "      <td>457</td>\n",
       "    </tr>\n",
       "    <tr>\n",
       "      <th>258</th>\n",
       "      <td>United Arab Emirates</td>\n",
       "      <td>2017</td>\n",
       "      <td>NaN</td>\n",
       "      <td>1,650</td>\n",
       "    </tr>\n",
       "    <tr>\n",
       "      <th>259</th>\n",
       "      <td>Uruguay</td>\n",
       "      <td>2017</td>\n",
       "      <td>NaN</td>\n",
       "      <td>1,649</td>\n",
       "    </tr>\n",
       "  </tbody>\n",
       "</table>\n",
       "<p>260 rows × 4 columns</p>\n",
       "</div>"
      ],
      "text/plain": [
       "             Country Name  Year  Depression Count Health GDP\n",
       "0     Antigua and Barbuda  2014          0.025005        793\n",
       "1               Argentina  2014          0.035006      1,286\n",
       "2               Australia  2014          0.043898      5,608\n",
       "3                 Austria  2014          0.036325      5,394\n",
       "4                Barbados  2014          0.031529      1,154\n",
       "..                    ...   ...               ...        ...\n",
       "255   Trinidad and Tobago  2017               NaN      1,129\n",
       "256                Turkey  2017               NaN        443\n",
       "257          Turkmenistan  2017               NaN        457\n",
       "258  United Arab Emirates  2017               NaN      1,650\n",
       "259               Uruguay  2017               NaN      1,649\n",
       "\n",
       "[260 rows x 4 columns]"
      ]
     },
     "execution_count": 215,
     "metadata": {},
     "output_type": "execute_result"
    }
   ],
   "source": [
    "health_gdp_depression_above"
   ]
  },
  {
   "cell_type": "code",
   "execution_count": 216,
   "metadata": {},
   "outputs": [
    {
     "data": {
      "text/plain": [
       "Index(['Country Name', 'Year', 'Depression Count', 'Health GDP'], dtype='object')"
      ]
     },
     "execution_count": 216,
     "metadata": {},
     "output_type": "execute_result"
    }
   ],
   "source": [
    "health_gdp_depression_above[\"Health GDP\"] = health_gdp_depression_above[\"Health GDP\"].apply(pd.to_numeric,errors='coerce')\n",
    "health_gdp_depression_above = health_gdp_depression_above[health_gdp_depression_above['Health GDP'].notnull()].copy()\n",
    "health_gdp_depression_above[\"Health GDP\"] = health_gdp_depression_above[\"Health GDP\"].astype(float)\n",
    "health_gdp_depression_above.columns"
   ]
  },
  {
   "cell_type": "code",
   "execution_count": 217,
   "metadata": {},
   "outputs": [],
   "source": [
    "health_gdp_depression_above_by_country = health_gdp_depression_above.groupby(['Country Name']).mean().reset_index()"
   ]
  },
  {
   "cell_type": "code",
   "execution_count": 218,
   "metadata": {
    "scrolled": true
   },
   "outputs": [
    {
     "data": {
      "text/plain": [
       "Index(['Country Name', 'Depression Count', 'Health GDP'], dtype='object')"
      ]
     },
     "execution_count": 218,
     "metadata": {},
     "output_type": "execute_result"
    }
   ],
   "source": [
    "health_gdp_depression_above_by_country.columns"
   ]
  },
  {
   "cell_type": "code",
   "execution_count": 219,
   "metadata": {},
   "outputs": [],
   "source": [
    "health_gdp_depression_above_by_country.fillna(health_gdp_depression_above_by_country[\"Depression Count\"].mode()[0], inplace = True)"
   ]
  },
  {
   "cell_type": "code",
   "execution_count": 220,
   "metadata": {},
   "outputs": [
    {
     "data": {
      "text/html": [
       "<div>\n",
       "<style scoped>\n",
       "    .dataframe tbody tr th:only-of-type {\n",
       "        vertical-align: middle;\n",
       "    }\n",
       "\n",
       "    .dataframe tbody tr th {\n",
       "        vertical-align: top;\n",
       "    }\n",
       "\n",
       "    .dataframe thead th {\n",
       "        text-align: right;\n",
       "    }\n",
       "</style>\n",
       "<table border=\"1\" class=\"dataframe\">\n",
       "  <thead>\n",
       "    <tr style=\"text-align: right;\">\n",
       "      <th></th>\n",
       "      <th>Country Name</th>\n",
       "      <th>Depression Count</th>\n",
       "      <th>Health GDP</th>\n",
       "    </tr>\n",
       "  </thead>\n",
       "  <tbody>\n",
       "    <tr>\n",
       "      <th>0</th>\n",
       "      <td>Antigua and Barbuda</td>\n",
       "      <td>0.025005</td>\n",
       "      <td>780.250000</td>\n",
       "    </tr>\n",
       "    <tr>\n",
       "      <th>1</th>\n",
       "      <td>Botswana</td>\n",
       "      <td>0.034836</td>\n",
       "      <td>428.000000</td>\n",
       "    </tr>\n",
       "    <tr>\n",
       "      <th>2</th>\n",
       "      <td>Brazil</td>\n",
       "      <td>0.021671</td>\n",
       "      <td>839.333333</td>\n",
       "    </tr>\n",
       "    <tr>\n",
       "      <th>3</th>\n",
       "      <td>Bulgaria</td>\n",
       "      <td>0.033185</td>\n",
       "      <td>576.750000</td>\n",
       "    </tr>\n",
       "    <tr>\n",
       "      <th>4</th>\n",
       "      <td>China</td>\n",
       "      <td>0.039959</td>\n",
       "      <td>395.250000</td>\n",
       "    </tr>\n",
       "    <tr>\n",
       "      <th>5</th>\n",
       "      <td>Colombia</td>\n",
       "      <td>0.021671</td>\n",
       "      <td>495.000000</td>\n",
       "    </tr>\n",
       "    <tr>\n",
       "      <th>6</th>\n",
       "      <td>Costa Rica</td>\n",
       "      <td>0.026910</td>\n",
       "      <td>863.750000</td>\n",
       "    </tr>\n",
       "    <tr>\n",
       "      <th>7</th>\n",
       "      <td>Croatia</td>\n",
       "      <td>0.035903</td>\n",
       "      <td>862.250000</td>\n",
       "    </tr>\n",
       "    <tr>\n",
       "      <th>8</th>\n",
       "      <td>Cuba</td>\n",
       "      <td>0.039284</td>\n",
       "      <td>946.000000</td>\n",
       "    </tr>\n",
       "    <tr>\n",
       "      <th>9</th>\n",
       "      <td>Dominica</td>\n",
       "      <td>0.026617</td>\n",
       "      <td>398.500000</td>\n",
       "    </tr>\n",
       "    <tr>\n",
       "      <th>10</th>\n",
       "      <td>Dominican Republic</td>\n",
       "      <td>0.028024</td>\n",
       "      <td>412.000000</td>\n",
       "    </tr>\n",
       "    <tr>\n",
       "      <th>11</th>\n",
       "      <td>Gabon</td>\n",
       "      <td>0.028458</td>\n",
       "      <td>214.500000</td>\n",
       "    </tr>\n",
       "    <tr>\n",
       "      <th>12</th>\n",
       "      <td>Grenada</td>\n",
       "      <td>0.029071</td>\n",
       "      <td>429.500000</td>\n",
       "    </tr>\n",
       "    <tr>\n",
       "      <th>13</th>\n",
       "      <td>Hungary</td>\n",
       "      <td>0.021671</td>\n",
       "      <td>922.000000</td>\n",
       "    </tr>\n",
       "    <tr>\n",
       "      <th>14</th>\n",
       "      <td>Kazakhstan</td>\n",
       "      <td>0.033104</td>\n",
       "      <td>311.250000</td>\n",
       "    </tr>\n",
       "    <tr>\n",
       "      <th>15</th>\n",
       "      <td>Latvia</td>\n",
       "      <td>0.045001</td>\n",
       "      <td>860.250000</td>\n",
       "    </tr>\n",
       "    <tr>\n",
       "      <th>16</th>\n",
       "      <td>Lebanon</td>\n",
       "      <td>0.041687</td>\n",
       "      <td>615.500000</td>\n",
       "    </tr>\n",
       "    <tr>\n",
       "      <th>17</th>\n",
       "      <td>Lithuania</td>\n",
       "      <td>0.021671</td>\n",
       "      <td>954.500000</td>\n",
       "    </tr>\n",
       "    <tr>\n",
       "      <th>18</th>\n",
       "      <td>Malaysia</td>\n",
       "      <td>0.030838</td>\n",
       "      <td>387.750000</td>\n",
       "    </tr>\n",
       "    <tr>\n",
       "      <th>19</th>\n",
       "      <td>Maldives</td>\n",
       "      <td>0.025297</td>\n",
       "      <td>822.250000</td>\n",
       "    </tr>\n",
       "    <tr>\n",
       "      <th>20</th>\n",
       "      <td>Mauritius</td>\n",
       "      <td>0.039196</td>\n",
       "      <td>560.000000</td>\n",
       "    </tr>\n",
       "    <tr>\n",
       "      <th>21</th>\n",
       "      <td>Mexico</td>\n",
       "      <td>0.025555</td>\n",
       "      <td>543.750000</td>\n",
       "    </tr>\n",
       "    <tr>\n",
       "      <th>22</th>\n",
       "      <td>Oman</td>\n",
       "      <td>0.030755</td>\n",
       "      <td>660.750000</td>\n",
       "    </tr>\n",
       "    <tr>\n",
       "      <th>23</th>\n",
       "      <td>Panama</td>\n",
       "      <td>0.023643</td>\n",
       "      <td>907.000000</td>\n",
       "    </tr>\n",
       "    <tr>\n",
       "      <th>24</th>\n",
       "      <td>Poland</td>\n",
       "      <td>0.027197</td>\n",
       "      <td>859.500000</td>\n",
       "    </tr>\n",
       "    <tr>\n",
       "      <th>25</th>\n",
       "      <td>Romania</td>\n",
       "      <td>0.028912</td>\n",
       "      <td>494.000000</td>\n",
       "    </tr>\n",
       "    <tr>\n",
       "      <th>26</th>\n",
       "      <td>Russian Federation</td>\n",
       "      <td>0.021671</td>\n",
       "      <td>570.250000</td>\n",
       "    </tr>\n",
       "    <tr>\n",
       "      <th>27</th>\n",
       "      <td>Suriname</td>\n",
       "      <td>0.039803</td>\n",
       "      <td>419.500000</td>\n",
       "    </tr>\n",
       "    <tr>\n",
       "      <th>28</th>\n",
       "      <td>Turkey</td>\n",
       "      <td>0.036748</td>\n",
       "      <td>472.250000</td>\n",
       "    </tr>\n",
       "    <tr>\n",
       "      <th>29</th>\n",
       "      <td>Turkmenistan</td>\n",
       "      <td>0.021799</td>\n",
       "      <td>430.750000</td>\n",
       "    </tr>\n",
       "  </tbody>\n",
       "</table>\n",
       "</div>"
      ],
      "text/plain": [
       "           Country Name  Depression Count  Health GDP\n",
       "0   Antigua and Barbuda          0.025005  780.250000\n",
       "1              Botswana          0.034836  428.000000\n",
       "2                Brazil          0.021671  839.333333\n",
       "3              Bulgaria          0.033185  576.750000\n",
       "4                 China          0.039959  395.250000\n",
       "5              Colombia          0.021671  495.000000\n",
       "6            Costa Rica          0.026910  863.750000\n",
       "7               Croatia          0.035903  862.250000\n",
       "8                  Cuba          0.039284  946.000000\n",
       "9              Dominica          0.026617  398.500000\n",
       "10   Dominican Republic          0.028024  412.000000\n",
       "11                Gabon          0.028458  214.500000\n",
       "12              Grenada          0.029071  429.500000\n",
       "13              Hungary          0.021671  922.000000\n",
       "14           Kazakhstan          0.033104  311.250000\n",
       "15               Latvia          0.045001  860.250000\n",
       "16              Lebanon          0.041687  615.500000\n",
       "17            Lithuania          0.021671  954.500000\n",
       "18             Malaysia          0.030838  387.750000\n",
       "19             Maldives          0.025297  822.250000\n",
       "20            Mauritius          0.039196  560.000000\n",
       "21               Mexico          0.025555  543.750000\n",
       "22                 Oman          0.030755  660.750000\n",
       "23               Panama          0.023643  907.000000\n",
       "24               Poland          0.027197  859.500000\n",
       "25              Romania          0.028912  494.000000\n",
       "26   Russian Federation          0.021671  570.250000\n",
       "27             Suriname          0.039803  419.500000\n",
       "28               Turkey          0.036748  472.250000\n",
       "29         Turkmenistan          0.021799  430.750000"
      ]
     },
     "execution_count": 220,
     "metadata": {},
     "output_type": "execute_result"
    }
   ],
   "source": [
    "health_gdp_depression_above_by_country"
   ]
  },
  {
   "cell_type": "markdown",
   "metadata": {},
   "source": [
    "### Scatter plots"
   ]
  },
  {
   "cell_type": "code",
   "execution_count": 221,
   "metadata": {},
   "outputs": [
    {
     "data": {
      "image/png": "[encoded data removed]",
      "text/plain": [
       "<Figure size 432x288 with 1 Axes>"
      ]
     },
     "metadata": {
      "needs_background": "light"
     },
     "output_type": "display_data"
    }
   ],
   "source": [
    "import matplotlib.pyplot as plt\n",
    "import pandas as pd\n",
    "import numpy as np\n",
    "\n",
    "\n",
    "ax1 = health_gdp_depression_above_by_country.plot.scatter(x='Health GDP', y='Depression Count', c='DarkBlue')"
   ]
  },
  {
   "cell_type": "markdown",
   "metadata": {},
   "source": [
    "### Correlation Coefficient"
   ]
  },
  {
   "cell_type": "code",
   "execution_count": 222,
   "metadata": {},
   "outputs": [
    {
     "data": {
      "text/plain": [
       "Depression Count    1.00000\n",
       "Health GDP         -0.24504\n",
       "Name: Depression Count, dtype: float64"
      ]
     },
     "execution_count": 222,
     "metadata": {},
     "output_type": "execute_result"
    }
   ],
   "source": [
    "# calculate the correlation matrix\n",
    "corr = health_gdp_depression_above_by_country.corr(method=\"spearman\")\n",
    "corr.loc['Depression Count']"
   ]
  },
  {
   "cell_type": "markdown",
   "metadata": {},
   "source": [
    "## Correlation for depression and health GDP for countries above the below GDP"
   ]
  },
  {
   "cell_type": "code",
   "execution_count": 223,
   "metadata": {},
   "outputs": [],
   "source": [
    "health_gdp_filtered_below = pd.merge(gdp_filtered_below, health_gdp, left_on=['Country Name'], right_on=['Country Name'], how='left')"
   ]
  },
  {
   "cell_type": "code",
   "execution_count": 224,
   "metadata": {},
   "outputs": [],
   "source": [
    "health_gdp_filtered_below = health_gdp_filtered_below.melt(id_vars=[\"Country Name\"], var_name=\"Year\", value_name=\"Health GDP\")"
   ]
  },
  {
   "cell_type": "code",
   "execution_count": 225,
   "metadata": {},
   "outputs": [
    {
     "data": {
      "text/html": [
       "<div>\n",
       "<style scoped>\n",
       "    .dataframe tbody tr th:only-of-type {\n",
       "        vertical-align: middle;\n",
       "    }\n",
       "\n",
       "    .dataframe tbody tr th {\n",
       "        vertical-align: top;\n",
       "    }\n",
       "\n",
       "    .dataframe thead th {\n",
       "        text-align: right;\n",
       "    }\n",
       "</style>\n",
       "<table border=\"1\" class=\"dataframe\">\n",
       "  <thead>\n",
       "    <tr style=\"text-align: right;\">\n",
       "      <th></th>\n",
       "      <th>Country Name</th>\n",
       "      <th>Year</th>\n",
       "      <th>Health GDP</th>\n",
       "    </tr>\n",
       "  </thead>\n",
       "  <tbody>\n",
       "    <tr>\n",
       "      <th>0</th>\n",
       "      <td>Afghanistan</td>\n",
       "      <td>2014</td>\n",
       "      <td>59</td>\n",
       "    </tr>\n",
       "    <tr>\n",
       "      <th>1</th>\n",
       "      <td>Albania</td>\n",
       "      <td>2014</td>\n",
       "      <td>251</td>\n",
       "    </tr>\n",
       "    <tr>\n",
       "      <th>2</th>\n",
       "      <td>Algeria</td>\n",
       "      <td>2014</td>\n",
       "      <td>360</td>\n",
       "    </tr>\n",
       "    <tr>\n",
       "      <th>3</th>\n",
       "      <td>Angola</td>\n",
       "      <td>2014</td>\n",
       "      <td>132</td>\n",
       "    </tr>\n",
       "    <tr>\n",
       "      <th>4</th>\n",
       "      <td>Armenia</td>\n",
       "      <td>2014</td>\n",
       "      <td>406</td>\n",
       "    </tr>\n",
       "    <tr>\n",
       "      <th>...</th>\n",
       "      <td>...</td>\n",
       "      <td>...</td>\n",
       "      <td>...</td>\n",
       "    </tr>\n",
       "    <tr>\n",
       "      <th>315</th>\n",
       "      <td>Ukraine</td>\n",
       "      <td>2017</td>\n",
       "      <td>187</td>\n",
       "    </tr>\n",
       "    <tr>\n",
       "      <th>316</th>\n",
       "      <td>Uzbekistan</td>\n",
       "      <td>2017</td>\n",
       "      <td>93</td>\n",
       "    </tr>\n",
       "    <tr>\n",
       "      <th>317</th>\n",
       "      <td>Vanuatu</td>\n",
       "      <td>2017</td>\n",
       "      <td>85</td>\n",
       "    </tr>\n",
       "    <tr>\n",
       "      <th>318</th>\n",
       "      <td>Zambia</td>\n",
       "      <td>2017</td>\n",
       "      <td>68</td>\n",
       "    </tr>\n",
       "    <tr>\n",
       "      <th>319</th>\n",
       "      <td>Zimbabwe</td>\n",
       "      <td>2017</td>\n",
       "      <td>113</td>\n",
       "    </tr>\n",
       "  </tbody>\n",
       "</table>\n",
       "<p>320 rows × 3 columns</p>\n",
       "</div>"
      ],
      "text/plain": [
       "    Country Name  Year Health GDP\n",
       "0    Afghanistan  2014         59\n",
       "1        Albania  2014        251\n",
       "2        Algeria  2014        360\n",
       "3         Angola  2014        132\n",
       "4        Armenia  2014        406\n",
       "..           ...   ...        ...\n",
       "315      Ukraine  2017        187\n",
       "316   Uzbekistan  2017         93\n",
       "317      Vanuatu  2017         85\n",
       "318       Zambia  2017         68\n",
       "319     Zimbabwe  2017        113\n",
       "\n",
       "[320 rows x 3 columns]"
      ]
     },
     "execution_count": 225,
     "metadata": {},
     "output_type": "execute_result"
    }
   ],
   "source": [
    "health_gdp_filtered_below"
   ]
  },
  {
   "cell_type": "markdown",
   "metadata": {},
   "source": [
    "### Merge health GDP and depression datasets on Country and Year"
   ]
  },
  {
   "cell_type": "code",
   "execution_count": 226,
   "metadata": {},
   "outputs": [],
   "source": [
    "health_gdp_depression_below = depression_filtered.merge(health_gdp_filtered_below, left_on=['Country Name', 'Year'], right_on=['Country Name', 'Year'], how='right')"
   ]
  },
  {
   "cell_type": "code",
   "execution_count": 227,
   "metadata": {
    "scrolled": true
   },
   "outputs": [
    {
     "data": {
      "text/html": [
       "<div>\n",
       "<style scoped>\n",
       "    .dataframe tbody tr th:only-of-type {\n",
       "        vertical-align: middle;\n",
       "    }\n",
       "\n",
       "    .dataframe tbody tr th {\n",
       "        vertical-align: top;\n",
       "    }\n",
       "\n",
       "    .dataframe thead th {\n",
       "        text-align: right;\n",
       "    }\n",
       "</style>\n",
       "<table border=\"1\" class=\"dataframe\">\n",
       "  <thead>\n",
       "    <tr style=\"text-align: right;\">\n",
       "      <th></th>\n",
       "      <th>Country Name</th>\n",
       "      <th>Year</th>\n",
       "      <th>Depression Count</th>\n",
       "      <th>Health GDP</th>\n",
       "    </tr>\n",
       "  </thead>\n",
       "  <tbody>\n",
       "    <tr>\n",
       "      <th>0</th>\n",
       "      <td>Afghanistan</td>\n",
       "      <td>2014</td>\n",
       "      <td>0.025366</td>\n",
       "      <td>59</td>\n",
       "    </tr>\n",
       "    <tr>\n",
       "      <th>1</th>\n",
       "      <td>Albania</td>\n",
       "      <td>2014</td>\n",
       "      <td>0.023949</td>\n",
       "      <td>251</td>\n",
       "    </tr>\n",
       "    <tr>\n",
       "      <th>2</th>\n",
       "      <td>Algeria</td>\n",
       "      <td>2014</td>\n",
       "      <td>0.032878</td>\n",
       "      <td>360</td>\n",
       "    </tr>\n",
       "    <tr>\n",
       "      <th>3</th>\n",
       "      <td>Angola</td>\n",
       "      <td>2014</td>\n",
       "      <td>0.026131</td>\n",
       "      <td>132</td>\n",
       "    </tr>\n",
       "    <tr>\n",
       "      <th>4</th>\n",
       "      <td>Armenia</td>\n",
       "      <td>2014</td>\n",
       "      <td>0.031593</td>\n",
       "      <td>406</td>\n",
       "    </tr>\n",
       "    <tr>\n",
       "      <th>...</th>\n",
       "      <td>...</td>\n",
       "      <td>...</td>\n",
       "      <td>...</td>\n",
       "      <td>...</td>\n",
       "    </tr>\n",
       "    <tr>\n",
       "      <th>315</th>\n",
       "      <td>Ukraine</td>\n",
       "      <td>2017</td>\n",
       "      <td>NaN</td>\n",
       "      <td>187</td>\n",
       "    </tr>\n",
       "    <tr>\n",
       "      <th>316</th>\n",
       "      <td>Uzbekistan</td>\n",
       "      <td>2017</td>\n",
       "      <td>NaN</td>\n",
       "      <td>93</td>\n",
       "    </tr>\n",
       "    <tr>\n",
       "      <th>317</th>\n",
       "      <td>Vanuatu</td>\n",
       "      <td>2017</td>\n",
       "      <td>NaN</td>\n",
       "      <td>85</td>\n",
       "    </tr>\n",
       "    <tr>\n",
       "      <th>318</th>\n",
       "      <td>Zambia</td>\n",
       "      <td>2017</td>\n",
       "      <td>NaN</td>\n",
       "      <td>68</td>\n",
       "    </tr>\n",
       "    <tr>\n",
       "      <th>319</th>\n",
       "      <td>Zimbabwe</td>\n",
       "      <td>2017</td>\n",
       "      <td>NaN</td>\n",
       "      <td>113</td>\n",
       "    </tr>\n",
       "  </tbody>\n",
       "</table>\n",
       "<p>320 rows × 4 columns</p>\n",
       "</div>"
      ],
      "text/plain": [
       "    Country Name  Year  Depression Count Health GDP\n",
       "0    Afghanistan  2014          0.025366         59\n",
       "1        Albania  2014          0.023949        251\n",
       "2        Algeria  2014          0.032878        360\n",
       "3         Angola  2014          0.026131        132\n",
       "4        Armenia  2014          0.031593        406\n",
       "..           ...   ...               ...        ...\n",
       "315      Ukraine  2017               NaN        187\n",
       "316   Uzbekistan  2017               NaN         93\n",
       "317      Vanuatu  2017               NaN         85\n",
       "318       Zambia  2017               NaN         68\n",
       "319     Zimbabwe  2017               NaN        113\n",
       "\n",
       "[320 rows x 4 columns]"
      ]
     },
     "execution_count": 227,
     "metadata": {},
     "output_type": "execute_result"
    }
   ],
   "source": [
    "health_gdp_depression_below"
   ]
  },
  {
   "cell_type": "code",
   "execution_count": 228,
   "metadata": {},
   "outputs": [
    {
     "data": {
      "text/plain": [
       "Index(['Country Name', 'Year', 'Depression Count', 'Health GDP'], dtype='object')"
      ]
     },
     "execution_count": 228,
     "metadata": {},
     "output_type": "execute_result"
    }
   ],
   "source": [
    "health_gdp_depression_below[\"Health GDP\"] = health_gdp_depression_below[\"Health GDP\"].apply(pd.to_numeric,errors='coerce')\n",
    "health_gdp_depression_below = health_gdp_depression_below[health_gdp_depression_below['Health GDP'].notnull()].copy()\n",
    "health_gdp_depression_below[\"Health GDP\"] = health_gdp_depression_below[\"Health GDP\"].astype(float)\n",
    "health_gdp_depression_below.columns"
   ]
  },
  {
   "cell_type": "code",
   "execution_count": 229,
   "metadata": {},
   "outputs": [],
   "source": [
    "health_gdp_depression_below_by_country = health_gdp_depression_below.groupby(['Country Name']).mean().reset_index()"
   ]
  },
  {
   "cell_type": "code",
   "execution_count": 230,
   "metadata": {
    "scrolled": true
   },
   "outputs": [
    {
     "data": {
      "text/plain": [
       "Index(['Country Name', 'Depression Count', 'Health GDP'], dtype='object')"
      ]
     },
     "execution_count": 230,
     "metadata": {},
     "output_type": "execute_result"
    }
   ],
   "source": [
    "health_gdp_depression_below_by_country.columns"
   ]
  },
  {
   "cell_type": "code",
   "execution_count": 231,
   "metadata": {},
   "outputs": [],
   "source": [
    "health_gdp_depression_below_by_country.fillna(health_gdp_depression_below_by_country[\"Depression Count\"].mode()[0], inplace = True)"
   ]
  },
  {
   "cell_type": "code",
   "execution_count": 232,
   "metadata": {},
   "outputs": [
    {
     "data": {
      "text/html": [
       "<div>\n",
       "<style scoped>\n",
       "    .dataframe tbody tr th:only-of-type {\n",
       "        vertical-align: middle;\n",
       "    }\n",
       "\n",
       "    .dataframe tbody tr th {\n",
       "        vertical-align: top;\n",
       "    }\n",
       "\n",
       "    .dataframe thead th {\n",
       "        text-align: right;\n",
       "    }\n",
       "</style>\n",
       "<table border=\"1\" class=\"dataframe\">\n",
       "  <thead>\n",
       "    <tr style=\"text-align: right;\">\n",
       "      <th></th>\n",
       "      <th>Country Name</th>\n",
       "      <th>Depression Count</th>\n",
       "      <th>Health GDP</th>\n",
       "    </tr>\n",
       "  </thead>\n",
       "  <tbody>\n",
       "    <tr>\n",
       "      <th>0</th>\n",
       "      <td>Afghanistan</td>\n",
       "      <td>0.025366</td>\n",
       "      <td>61.00</td>\n",
       "    </tr>\n",
       "    <tr>\n",
       "      <th>1</th>\n",
       "      <td>Albania</td>\n",
       "      <td>0.023949</td>\n",
       "      <td>218.00</td>\n",
       "    </tr>\n",
       "    <tr>\n",
       "      <th>2</th>\n",
       "      <td>Algeria</td>\n",
       "      <td>0.032878</td>\n",
       "      <td>292.75</td>\n",
       "    </tr>\n",
       "    <tr>\n",
       "      <th>3</th>\n",
       "      <td>Angola</td>\n",
       "      <td>0.026131</td>\n",
       "      <td>112.50</td>\n",
       "    </tr>\n",
       "    <tr>\n",
       "      <th>4</th>\n",
       "      <td>Armenia</td>\n",
       "      <td>0.031593</td>\n",
       "      <td>383.50</td>\n",
       "    </tr>\n",
       "    <tr>\n",
       "      <th>...</th>\n",
       "      <td>...</td>\n",
       "      <td>...</td>\n",
       "      <td>...</td>\n",
       "    </tr>\n",
       "    <tr>\n",
       "      <th>73</th>\n",
       "      <td>Ukraine</td>\n",
       "      <td>0.050836</td>\n",
       "      <td>179.00</td>\n",
       "    </tr>\n",
       "    <tr>\n",
       "      <th>74</th>\n",
       "      <td>Uzbekistan</td>\n",
       "      <td>0.025189</td>\n",
       "      <td>118.00</td>\n",
       "    </tr>\n",
       "    <tr>\n",
       "      <th>75</th>\n",
       "      <td>Vanuatu</td>\n",
       "      <td>0.024741</td>\n",
       "      <td>97.50</td>\n",
       "    </tr>\n",
       "    <tr>\n",
       "      <th>76</th>\n",
       "      <td>Zambia</td>\n",
       "      <td>0.023558</td>\n",
       "      <td>62.75</td>\n",
       "    </tr>\n",
       "    <tr>\n",
       "      <th>77</th>\n",
       "      <td>Zimbabwe</td>\n",
       "      <td>0.022394</td>\n",
       "      <td>112.75</td>\n",
       "    </tr>\n",
       "  </tbody>\n",
       "</table>\n",
       "<p>78 rows × 3 columns</p>\n",
       "</div>"
      ],
      "text/plain": [
       "   Country Name  Depression Count  Health GDP\n",
       "0   Afghanistan          0.025366       61.00\n",
       "1       Albania          0.023949      218.00\n",
       "2       Algeria          0.032878      292.75\n",
       "3        Angola          0.026131      112.50\n",
       "4       Armenia          0.031593      383.50\n",
       "..          ...               ...         ...\n",
       "73      Ukraine          0.050836      179.00\n",
       "74   Uzbekistan          0.025189      118.00\n",
       "75      Vanuatu          0.024741       97.50\n",
       "76       Zambia          0.023558       62.75\n",
       "77     Zimbabwe          0.022394      112.75\n",
       "\n",
       "[78 rows x 3 columns]"
      ]
     },
     "execution_count": 232,
     "metadata": {},
     "output_type": "execute_result"
    }
   ],
   "source": [
    "health_gdp_depression_below_by_country"
   ]
  },
  {
   "cell_type": "markdown",
   "metadata": {},
   "source": [
    "### Scatter plots"
   ]
  },
  {
   "cell_type": "code",
   "execution_count": 233,
   "metadata": {},
   "outputs": [
    {
     "data": {
      "image/png": "[encoded data removed]",
      "text/plain": [
       "<Figure size 432x288 with 1 Axes>"
      ]
     },
     "metadata": {
      "needs_background": "light"
     },
     "output_type": "display_data"
    }
   ],
   "source": [
    "import matplotlib.pyplot as plt\n",
    "import pandas as pd\n",
    "import numpy as np\n",
    "\n",
    "\n",
    "ax1 = health_gdp_depression_below_by_country.plot.scatter(x='Health GDP', y='Depression Count', c='DarkBlue')"
   ]
  },
  {
   "cell_type": "markdown",
   "metadata": {},
   "source": [
    "### Correlation Coefficient"
   ]
  },
  {
   "cell_type": "code",
   "execution_count": 234,
   "metadata": {},
   "outputs": [
    {
     "data": {
      "text/plain": [
       "Depression Count    1.000000\n",
       "Health GDP          0.371495\n",
       "Name: Depression Count, dtype: float64"
      ]
     },
     "execution_count": 234,
     "metadata": {},
     "output_type": "execute_result"
    }
   ],
   "source": [
    "# calculate the correlation matrix\n",
    "corr = health_gdp_depression_below_by_country.corr(method=\"spearman\")\n",
    "corr.loc['Depression Count']"
   ]
  }
 ],
 "metadata": {
  "kernelspec": {
   "display_name": "Python 3",
   "language": "python",
   "name": "python3"
  },
  "language_info": {
   "codemirror_mode": {
    "name": "ipython",
    "version": 3
   },
   "file_extension": ".py",
   "mimetype": "text/x-python",
   "name": "python",
   "nbconvert_exporter": "python",
   "pygments_lexer": "ipython3",
   "version": "3.8.1"
  }
 },
 "nbformat": 4,
 "nbformat_minor": 4
}
