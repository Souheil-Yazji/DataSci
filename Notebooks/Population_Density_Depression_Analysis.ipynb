{
 "cells": [
  {
   "cell_type": "code",
   "execution_count": 65,
   "metadata": {},
   "outputs": [],
   "source": [
    "import pandas as pd\n",
    "import numpy as np"
   ]
  },
  {
   "cell_type": "markdown",
   "metadata": {},
   "source": [
    "### Unify country names"
   ]
  },
  {
   "cell_type": "code",
   "execution_count": 66,
   "metadata": {},
   "outputs": [],
   "source": [
    "country_name_changes = {'Venezuela (Bolivarian Republic of)': 'Venezuela, RB',\n",
    "'Viet Nam': 'Vietnam',\n",
    " 'United States of America': 'United States',\n",
    " 'United Republic of Tanzania': 'Tanzania',\n",
    " 'United Kingdom of Great Britain and Northern Ireland': 'United Kingdom',\n",
    " 'Slovakia': 'Slovak Republic',\n",
    " 'Saint Lucia': 'St. Lucia',\n",
    " 'Republic of Moldova': 'Moldova',\n",
    " \"Democratic People's Republic of Korea\":'Korea, Dem. People’s Rep.', \n",
    " 'Republic of Korea':'Korea, Rep.',\n",
    " 'Kyrgyzstan': 'Kyrgyz Republic',\n",
    " 'Iran (Islamic Republic of)': 'Iran, Islamic Rep.',\n",
    " 'Gambia': 'Gambia, The',\n",
    " 'Egypt': 'Egypt, Arab Rep.',\n",
    "  \"Côte d'Ivoire\": \"Cote d'Ivoire\",\n",
    " 'China, Hong Kong SAR': 'Hong Kong SAR, China',\n",
    " 'China, Macao SAR':'Macao SAR, China',\n",
    " 'China, mainland': 'China',\n",
    " 'Bolivia (Plurinational State of)':'Bolivia',\n",
    " 'Bahamas':'Bahamas, The',\n",
    " 'Yemen': 'Yemen, Rep.'\n",
    "}\n",
    "def change_to_match_name(name):\n",
    "    if name in country_name_changes.keys():\n",
    "        return country_name_changes[name]\n",
    "    else:\n",
    "        return name"
   ]
  },
  {
   "cell_type": "markdown",
   "metadata": {},
   "source": [
    "### Get the country codes (from FAO_Consumption dataset)"
   ]
  },
  {
   "cell_type": "code",
   "execution_count": 67,
   "metadata": {},
   "outputs": [],
   "source": [
    "countries = pd.read_csv(\"FAO_Consumption.csv\")"
   ]
  },
  {
   "cell_type": "code",
   "execution_count": 68,
   "metadata": {},
   "outputs": [],
   "source": [
    "country_names = countries[[\"Country Name\"]].dropna().drop_duplicates()"
   ]
  },
  {
   "cell_type": "code",
   "execution_count": 69,
   "metadata": {
    "scrolled": true
   },
   "outputs": [
    {
     "data": {
      "text/html": [
       "<div>\n",
       "<style scoped>\n",
       "    .dataframe tbody tr th:only-of-type {\n",
       "        vertical-align: middle;\n",
       "    }\n",
       "\n",
       "    .dataframe tbody tr th {\n",
       "        vertical-align: top;\n",
       "    }\n",
       "\n",
       "    .dataframe thead th {\n",
       "        text-align: right;\n",
       "    }\n",
       "</style>\n",
       "<table border=\"1\" class=\"dataframe\">\n",
       "  <thead>\n",
       "    <tr style=\"text-align: right;\">\n",
       "      <th></th>\n",
       "      <th>Country Name</th>\n",
       "    </tr>\n",
       "  </thead>\n",
       "  <tbody>\n",
       "    <tr>\n",
       "      <th>0</th>\n",
       "      <td>Afghanistan</td>\n",
       "    </tr>\n",
       "    <tr>\n",
       "      <th>5</th>\n",
       "      <td>Albania</td>\n",
       "    </tr>\n",
       "    <tr>\n",
       "      <th>10</th>\n",
       "      <td>Algeria</td>\n",
       "    </tr>\n",
       "    <tr>\n",
       "      <th>15</th>\n",
       "      <td>Angola</td>\n",
       "    </tr>\n",
       "    <tr>\n",
       "      <th>20</th>\n",
       "      <td>Antigua and Barbuda</td>\n",
       "    </tr>\n",
       "    <tr>\n",
       "      <th>...</th>\n",
       "      <td>...</td>\n",
       "    </tr>\n",
       "    <tr>\n",
       "      <th>845</th>\n",
       "      <td>Venezuela (Bolivarian Republic of)</td>\n",
       "    </tr>\n",
       "    <tr>\n",
       "      <th>850</th>\n",
       "      <td>Viet Nam</td>\n",
       "    </tr>\n",
       "    <tr>\n",
       "      <th>855</th>\n",
       "      <td>Yemen</td>\n",
       "    </tr>\n",
       "    <tr>\n",
       "      <th>860</th>\n",
       "      <td>Zambia</td>\n",
       "    </tr>\n",
       "    <tr>\n",
       "      <th>865</th>\n",
       "      <td>Zimbabwe</td>\n",
       "    </tr>\n",
       "  </tbody>\n",
       "</table>\n",
       "<p>174 rows × 1 columns</p>\n",
       "</div>"
      ],
      "text/plain": [
       "                           Country Name\n",
       "0                           Afghanistan\n",
       "5                               Albania\n",
       "10                              Algeria\n",
       "15                               Angola\n",
       "20                  Antigua and Barbuda\n",
       "..                                  ...\n",
       "845  Venezuela (Bolivarian Republic of)\n",
       "850                            Viet Nam\n",
       "855                               Yemen\n",
       "860                              Zambia\n",
       "865                            Zimbabwe\n",
       "\n",
       "[174 rows x 1 columns]"
      ]
     },
     "execution_count": 69,
     "metadata": {},
     "output_type": "execute_result"
    }
   ],
   "source": [
    "country_names"
   ]
  },
  {
   "cell_type": "markdown",
   "metadata": {},
   "source": [
    "### Filter Country by GDP (Above average)"
   ]
  },
  {
   "cell_type": "code",
   "execution_count": 70,
   "metadata": {},
   "outputs": [],
   "source": [
    "gdp = pd.read_csv(\"gdp.csv\")\n",
    "average_gdp = 14874.942844032059"
   ]
  },
  {
   "cell_type": "code",
   "execution_count": 71,
   "metadata": {
    "scrolled": true
   },
   "outputs": [
    {
     "name": "stderr",
     "output_type": "stream",
     "text": [
      "<ipython-input-71-fffceea5c530>:12: SettingWithCopyWarning: \n",
      "A value is trying to be set on a copy of a slice from a DataFrame.\n",
      "Try using .loc[row_indexer,col_indexer] = value instead\n",
      "\n",
      "See the caveats in the documentation: https://pandas.pydata.org/pandas-docs/stable/user_guide/indexing.html#returning-a-view-versus-a-copy\n",
      "  gdp_filtered_above[\"Country Name\"] = gdp_filtered_above[\"Country Name\"].apply(change_to_match_name)\n",
      "<ipython-input-71-fffceea5c530>:13: SettingWithCopyWarning: \n",
      "A value is trying to be set on a copy of a slice from a DataFrame.\n",
      "Try using .loc[row_indexer,col_indexer] = value instead\n",
      "\n",
      "See the caveats in the documentation: https://pandas.pydata.org/pandas-docs/stable/user_guide/indexing.html#returning-a-view-versus-a-copy\n",
      "  gdp_filtered_below[\"Country Name\"] = gdp_filtered_below[\"Country Name\"].apply(change_to_match_name)\n"
     ]
    }
   ],
   "source": [
    "gdp_filtered = gdp.melt(id_vars=[\"Unnamed: 0\", \"Country Name\", \"Country Code\"], var_name=\"Year\", value_name=\"GDP\")\n",
    "gdp_filtered = gdp_filtered.loc[gdp_filtered['Year'].isin(['2014', '2015', '2016', '2017'])]\n",
    "gdp_filtered = gdp_filtered.loc[(gdp_filtered['GDP'] != \"..\")]\n",
    "gdp_filtered = gdp_filtered[gdp_filtered['GDP'].notnull()].copy()\n",
    "gdp_filtered[\"GDP\"] = gdp_filtered[\"GDP\"].astype(float)\n",
    "gdp_filtered = gdp_filtered.groupby(['Country Name']).mean().reset_index()\n",
    "\n",
    "gdp_filtered_above = gdp_filtered.loc[(gdp_filtered['GDP'] >= average_gdp)]\n",
    "gdp_filtered_below = gdp_filtered.loc[(gdp_filtered['GDP'] < average_gdp)]\n",
    "\n",
    "\n",
    "gdp_filtered_above[\"Country Name\"] = gdp_filtered_above[\"Country Name\"].apply(change_to_match_name)\n",
    "gdp_filtered_below[\"Country Name\"] = gdp_filtered_below[\"Country Name\"].apply(change_to_match_name)\n",
    "gdp_filtered_above = gdp_filtered_above.drop(['Unnamed: 0', 'GDP'], axis=1)\n",
    "gdp_filtered_below = gdp_filtered_below.drop(['Unnamed: 0', 'GDP'], axis=1)"
   ]
  },
  {
   "cell_type": "markdown",
   "metadata": {},
   "source": [
    "### Population density dataset"
   ]
  },
  {
   "cell_type": "code",
   "execution_count": 72,
   "metadata": {},
   "outputs": [
    {
     "data": {
      "text/html": [
       "<div>\n",
       "<style scoped>\n",
       "    .dataframe tbody tr th:only-of-type {\n",
       "        vertical-align: middle;\n",
       "    }\n",
       "\n",
       "    .dataframe tbody tr th {\n",
       "        vertical-align: top;\n",
       "    }\n",
       "\n",
       "    .dataframe thead th {\n",
       "        text-align: right;\n",
       "    }\n",
       "</style>\n",
       "<table border=\"1\" class=\"dataframe\">\n",
       "  <thead>\n",
       "    <tr style=\"text-align: right;\">\n",
       "      <th></th>\n",
       "      <th>Unnamed: 0</th>\n",
       "      <th>Country Name</th>\n",
       "      <th>2014</th>\n",
       "      <th>2015</th>\n",
       "      <th>2016</th>\n",
       "      <th>2017</th>\n",
       "    </tr>\n",
       "  </thead>\n",
       "  <tbody>\n",
       "    <tr>\n",
       "      <th>0</th>\n",
       "      <td>0</td>\n",
       "      <td>Aruba</td>\n",
       "      <td>576.522222</td>\n",
       "      <td>579.672222</td>\n",
       "      <td>582.622222</td>\n",
       "      <td>585.366667</td>\n",
       "    </tr>\n",
       "    <tr>\n",
       "      <th>1</th>\n",
       "      <td>1</td>\n",
       "      <td>Afghanistan</td>\n",
       "      <td>51.114778</td>\n",
       "      <td>52.712071</td>\n",
       "      <td>54.197114</td>\n",
       "      <td>55.595993</td>\n",
       "    </tr>\n",
       "    <tr>\n",
       "      <th>2</th>\n",
       "      <td>2</td>\n",
       "      <td>Angola</td>\n",
       "      <td>21.610475</td>\n",
       "      <td>22.366553</td>\n",
       "      <td>23.135064</td>\n",
       "      <td>23.916538</td>\n",
       "    </tr>\n",
       "    <tr>\n",
       "      <th>3</th>\n",
       "      <td>3</td>\n",
       "      <td>Albania</td>\n",
       "      <td>105.441752</td>\n",
       "      <td>105.135146</td>\n",
       "      <td>104.967190</td>\n",
       "      <td>104.870693</td>\n",
       "    </tr>\n",
       "    <tr>\n",
       "      <th>4</th>\n",
       "      <td>4</td>\n",
       "      <td>Andorra</td>\n",
       "      <td>168.538298</td>\n",
       "      <td>165.980851</td>\n",
       "      <td>164.461702</td>\n",
       "      <td>163.831915</td>\n",
       "    </tr>\n",
       "    <tr>\n",
       "      <th>...</th>\n",
       "      <td>...</td>\n",
       "      <td>...</td>\n",
       "      <td>...</td>\n",
       "      <td>...</td>\n",
       "      <td>...</td>\n",
       "      <td>...</td>\n",
       "    </tr>\n",
       "    <tr>\n",
       "      <th>258</th>\n",
       "      <td>259</td>\n",
       "      <td>Kosovo</td>\n",
       "      <td>166.507853</td>\n",
       "      <td>164.250574</td>\n",
       "      <td>163.273353</td>\n",
       "      <td>164.508404</td>\n",
       "    </tr>\n",
       "    <tr>\n",
       "      <th>259</th>\n",
       "      <td>260</td>\n",
       "      <td>Yemen, Rep.</td>\n",
       "      <td>48.910895</td>\n",
       "      <td>50.188247</td>\n",
       "      <td>51.457867</td>\n",
       "      <td>52.720459</td>\n",
       "    </tr>\n",
       "    <tr>\n",
       "      <th>260</th>\n",
       "      <td>261</td>\n",
       "      <td>South Africa</td>\n",
       "      <td>44.964505</td>\n",
       "      <td>45.657261</td>\n",
       "      <td>46.330985</td>\n",
       "      <td>46.987817</td>\n",
       "    </tr>\n",
       "    <tr>\n",
       "      <th>261</th>\n",
       "      <td>262</td>\n",
       "      <td>Zambia</td>\n",
       "      <td>20.715577</td>\n",
       "      <td>21.360741</td>\n",
       "      <td>22.012009</td>\n",
       "      <td>22.671395</td>\n",
       "    </tr>\n",
       "    <tr>\n",
       "      <th>262</th>\n",
       "      <td>263</td>\n",
       "      <td>Zimbabwe</td>\n",
       "      <td>35.121316</td>\n",
       "      <td>35.710557</td>\n",
       "      <td>36.268295</td>\n",
       "      <td>36.801719</td>\n",
       "    </tr>\n",
       "  </tbody>\n",
       "</table>\n",
       "<p>263 rows × 6 columns</p>\n",
       "</div>"
      ],
      "text/plain": [
       "     Unnamed: 0  Country Name        2014        2015        2016        2017\n",
       "0             0         Aruba  576.522222  579.672222  582.622222  585.366667\n",
       "1             1   Afghanistan   51.114778   52.712071   54.197114   55.595993\n",
       "2             2        Angola   21.610475   22.366553   23.135064   23.916538\n",
       "3             3       Albania  105.441752  105.135146  104.967190  104.870693\n",
       "4             4       Andorra  168.538298  165.980851  164.461702  163.831915\n",
       "..          ...           ...         ...         ...         ...         ...\n",
       "258         259        Kosovo  166.507853  164.250574  163.273353  164.508404\n",
       "259         260   Yemen, Rep.   48.910895   50.188247   51.457867   52.720459\n",
       "260         261  South Africa   44.964505   45.657261   46.330985   46.987817\n",
       "261         262        Zambia   20.715577   21.360741   22.012009   22.671395\n",
       "262         263      Zimbabwe   35.121316   35.710557   36.268295   36.801719\n",
       "\n",
       "[263 rows x 6 columns]"
      ]
     },
     "execution_count": 72,
     "metadata": {},
     "output_type": "execute_result"
    }
   ],
   "source": [
    "pop_dens = pd.read_csv(\"pop_dens_2014_2017.csv\")\n",
    "pop_dens"
   ]
  },
  {
   "cell_type": "markdown",
   "metadata": {},
   "source": [
    "Filter the countries"
   ]
  },
  {
   "cell_type": "markdown",
   "metadata": {},
   "source": [
    "### Depression dataset"
   ]
  },
  {
   "cell_type": "code",
   "execution_count": 73,
   "metadata": {},
   "outputs": [],
   "source": [
    "depression = pd.read_csv(\"depression.csv\")"
   ]
  },
  {
   "cell_type": "code",
   "execution_count": 74,
   "metadata": {},
   "outputs": [],
   "source": [
    "depression_filtered = depression.loc[depression['Year'].isin(['2014', '2015', '2016', '2017'])]\n",
    "depression_filtered = depression_filtered[depression_filtered['Year'].notnull()].copy()\n",
    "depression_filtered[\"Year\"] = depression_filtered[\"Year\"].astype(str)\n",
    "depression_filtered[\"Country Name\"] = depression_filtered[\"Country Name\"].apply(change_to_match_name)"
   ]
  },
  {
   "cell_type": "code",
   "execution_count": 75,
   "metadata": {},
   "outputs": [
    {
     "data": {
      "text/html": [
       "<div>\n",
       "<style scoped>\n",
       "    .dataframe tbody tr th:only-of-type {\n",
       "        vertical-align: middle;\n",
       "    }\n",
       "\n",
       "    .dataframe tbody tr th {\n",
       "        vertical-align: top;\n",
       "    }\n",
       "\n",
       "    .dataframe thead th {\n",
       "        text-align: right;\n",
       "    }\n",
       "</style>\n",
       "<table border=\"1\" class=\"dataframe\">\n",
       "  <thead>\n",
       "    <tr style=\"text-align: right;\">\n",
       "      <th></th>\n",
       "      <th>Unnamed: 0</th>\n",
       "      <th>Country Name</th>\n",
       "      <th>Year</th>\n",
       "      <th>Depression Count</th>\n",
       "    </tr>\n",
       "  </thead>\n",
       "  <tbody>\n",
       "    <tr>\n",
       "      <th>24</th>\n",
       "      <td>24</td>\n",
       "      <td>Afghanistan</td>\n",
       "      <td>2014</td>\n",
       "      <td>884404.683172</td>\n",
       "    </tr>\n",
       "    <tr>\n",
       "      <th>25</th>\n",
       "      <td>25</td>\n",
       "      <td>Afghanistan</td>\n",
       "      <td>2015</td>\n",
       "      <td>906133.433945</td>\n",
       "    </tr>\n",
       "    <tr>\n",
       "      <th>26</th>\n",
       "      <td>26</td>\n",
       "      <td>Afghanistan</td>\n",
       "      <td>2016</td>\n",
       "      <td>932188.730746</td>\n",
       "    </tr>\n",
       "    <tr>\n",
       "      <th>27</th>\n",
       "      <td>27</td>\n",
       "      <td>Afghanistan</td>\n",
       "      <td>2017</td>\n",
       "      <td>967281.203243</td>\n",
       "    </tr>\n",
       "    <tr>\n",
       "      <th>52</th>\n",
       "      <td>52</td>\n",
       "      <td>Albania</td>\n",
       "      <td>2014</td>\n",
       "      <td>68970.473430</td>\n",
       "    </tr>\n",
       "    <tr>\n",
       "      <th>...</th>\n",
       "      <td>...</td>\n",
       "      <td>...</td>\n",
       "      <td>...</td>\n",
       "      <td>...</td>\n",
       "    </tr>\n",
       "    <tr>\n",
       "      <th>6439</th>\n",
       "      <td>6439</td>\n",
       "      <td>Zambia</td>\n",
       "      <td>2017</td>\n",
       "      <td>438079.199268</td>\n",
       "    </tr>\n",
       "    <tr>\n",
       "      <th>6464</th>\n",
       "      <td>6464</td>\n",
       "      <td>Zimbabwe</td>\n",
       "      <td>2014</td>\n",
       "      <td>311665.769283</td>\n",
       "    </tr>\n",
       "    <tr>\n",
       "      <th>6465</th>\n",
       "      <td>6465</td>\n",
       "      <td>Zimbabwe</td>\n",
       "      <td>2015</td>\n",
       "      <td>320638.507158</td>\n",
       "    </tr>\n",
       "    <tr>\n",
       "      <th>6466</th>\n",
       "      <td>6466</td>\n",
       "      <td>Zimbabwe</td>\n",
       "      <td>2016</td>\n",
       "      <td>330437.353798</td>\n",
       "    </tr>\n",
       "    <tr>\n",
       "      <th>6467</th>\n",
       "      <td>6467</td>\n",
       "      <td>Zimbabwe</td>\n",
       "      <td>2017</td>\n",
       "      <td>340583.157405</td>\n",
       "    </tr>\n",
       "  </tbody>\n",
       "</table>\n",
       "<p>924 rows × 4 columns</p>\n",
       "</div>"
      ],
      "text/plain": [
       "      Unnamed: 0 Country Name  Year  Depression Count\n",
       "24            24  Afghanistan  2014     884404.683172\n",
       "25            25  Afghanistan  2015     906133.433945\n",
       "26            26  Afghanistan  2016     932188.730746\n",
       "27            27  Afghanistan  2017     967281.203243\n",
       "52            52      Albania  2014      68970.473430\n",
       "...          ...          ...   ...               ...\n",
       "6439        6439       Zambia  2017     438079.199268\n",
       "6464        6464     Zimbabwe  2014     311665.769283\n",
       "6465        6465     Zimbabwe  2015     320638.507158\n",
       "6466        6466     Zimbabwe  2016     330437.353798\n",
       "6467        6467     Zimbabwe  2017     340583.157405\n",
       "\n",
       "[924 rows x 4 columns]"
      ]
     },
     "execution_count": 75,
     "metadata": {},
     "output_type": "execute_result"
    }
   ],
   "source": [
    "depression_filtered"
   ]
  },
  {
   "cell_type": "markdown",
   "metadata": {},
   "source": [
    "## Correlation for depression and population density for countries above the average GDP"
   ]
  },
  {
   "cell_type": "code",
   "execution_count": 76,
   "metadata": {},
   "outputs": [],
   "source": [
    "pop_dens_filtered_above = pd.merge(gdp_filtered_above, pop_dens, left_on=['Country Name'], right_on=['Country Name'], how='left')"
   ]
  },
  {
   "cell_type": "code",
   "execution_count": 77,
   "metadata": {},
   "outputs": [],
   "source": [
    "pop_dens_filtered_above = pop_dens_filtered_above.melt(id_vars=[\"Unnamed: 0\", \"Country Name\"], var_name=\"Year\", value_name=\"Density\")"
   ]
  },
  {
   "cell_type": "code",
   "execution_count": 78,
   "metadata": {},
   "outputs": [
    {
     "data": {
      "text/html": [
       "<div>\n",
       "<style scoped>\n",
       "    .dataframe tbody tr th:only-of-type {\n",
       "        vertical-align: middle;\n",
       "    }\n",
       "\n",
       "    .dataframe tbody tr th {\n",
       "        vertical-align: top;\n",
       "    }\n",
       "\n",
       "    .dataframe thead th {\n",
       "        text-align: right;\n",
       "    }\n",
       "</style>\n",
       "<table border=\"1\" class=\"dataframe\">\n",
       "  <thead>\n",
       "    <tr style=\"text-align: right;\">\n",
       "      <th></th>\n",
       "      <th>Unnamed: 0</th>\n",
       "      <th>Country Name</th>\n",
       "      <th>Year</th>\n",
       "      <th>Density</th>\n",
       "    </tr>\n",
       "  </thead>\n",
       "  <tbody>\n",
       "    <tr>\n",
       "      <th>0</th>\n",
       "      <td>4</td>\n",
       "      <td>Andorra</td>\n",
       "      <td>2014</td>\n",
       "      <td>168.538298</td>\n",
       "    </tr>\n",
       "    <tr>\n",
       "      <th>1</th>\n",
       "      <td>0</td>\n",
       "      <td>Aruba</td>\n",
       "      <td>2014</td>\n",
       "      <td>576.522222</td>\n",
       "    </tr>\n",
       "    <tr>\n",
       "      <th>2</th>\n",
       "      <td>11</td>\n",
       "      <td>Australia</td>\n",
       "      <td>2014</td>\n",
       "      <td>3.055815</td>\n",
       "    </tr>\n",
       "    <tr>\n",
       "      <th>3</th>\n",
       "      <td>12</td>\n",
       "      <td>Austria</td>\n",
       "      <td>2014</td>\n",
       "      <td>103.563322</td>\n",
       "    </tr>\n",
       "    <tr>\n",
       "      <th>4</th>\n",
       "      <td>21</td>\n",
       "      <td>Bahamas, The</td>\n",
       "      <td>2014</td>\n",
       "      <td>37.026274</td>\n",
       "    </tr>\n",
       "    <tr>\n",
       "      <th>...</th>\n",
       "      <td>...</td>\n",
       "      <td>...</td>\n",
       "      <td>...</td>\n",
       "      <td>...</td>\n",
       "    </tr>\n",
       "    <tr>\n",
       "      <th>291</th>\n",
       "      <td>79</td>\n",
       "      <td>United Kingdom</td>\n",
       "      <td>2017</td>\n",
       "      <td>273.049473</td>\n",
       "    </tr>\n",
       "    <tr>\n",
       "      <th>292</th>\n",
       "      <td>249</td>\n",
       "      <td>United States</td>\n",
       "      <td>2017</td>\n",
       "      <td>35.527563</td>\n",
       "    </tr>\n",
       "    <tr>\n",
       "      <th>293</th>\n",
       "      <td>248</td>\n",
       "      <td>Uruguay</td>\n",
       "      <td>2017</td>\n",
       "      <td>19.635733</td>\n",
       "    </tr>\n",
       "    <tr>\n",
       "      <th>294</th>\n",
       "      <td>252</td>\n",
       "      <td>Venezuela, RB</td>\n",
       "      <td>2017</td>\n",
       "      <td>33.320570</td>\n",
       "    </tr>\n",
       "    <tr>\n",
       "      <th>295</th>\n",
       "      <td>254</td>\n",
       "      <td>Virgin Islands (U.S.)</td>\n",
       "      <td>2017</td>\n",
       "      <td>306.480000</td>\n",
       "    </tr>\n",
       "  </tbody>\n",
       "</table>\n",
       "<p>296 rows × 4 columns</p>\n",
       "</div>"
      ],
      "text/plain": [
       "     Unnamed: 0           Country Name  Year     Density\n",
       "0             4                Andorra  2014  168.538298\n",
       "1             0                  Aruba  2014  576.522222\n",
       "2            11              Australia  2014    3.055815\n",
       "3            12                Austria  2014  103.563322\n",
       "4            21           Bahamas, The  2014   37.026274\n",
       "..          ...                    ...   ...         ...\n",
       "291          79         United Kingdom  2017  273.049473\n",
       "292         249          United States  2017   35.527563\n",
       "293         248                Uruguay  2017   19.635733\n",
       "294         252          Venezuela, RB  2017   33.320570\n",
       "295         254  Virgin Islands (U.S.)  2017  306.480000\n",
       "\n",
       "[296 rows x 4 columns]"
      ]
     },
     "execution_count": 78,
     "metadata": {},
     "output_type": "execute_result"
    }
   ],
   "source": [
    "pop_dens_filtered_above"
   ]
  },
  {
   "cell_type": "markdown",
   "metadata": {},
   "source": [
    "### Merge population density and depression datasets on Country and Year"
   ]
  },
  {
   "cell_type": "code",
   "execution_count": 79,
   "metadata": {},
   "outputs": [],
   "source": [
    "pop_dens_depression_above = depression_filtered.merge(pop_dens_filtered_above, left_on=['Country Name', 'Year'], right_on=['Country Name', 'Year'], how='right')"
   ]
  },
  {
   "cell_type": "code",
   "execution_count": 80,
   "metadata": {
    "scrolled": true
   },
   "outputs": [
    {
     "data": {
      "text/html": [
       "<div>\n",
       "<style scoped>\n",
       "    .dataframe tbody tr th:only-of-type {\n",
       "        vertical-align: middle;\n",
       "    }\n",
       "\n",
       "    .dataframe tbody tr th {\n",
       "        vertical-align: top;\n",
       "    }\n",
       "\n",
       "    .dataframe thead th {\n",
       "        text-align: right;\n",
       "    }\n",
       "</style>\n",
       "<table border=\"1\" class=\"dataframe\">\n",
       "  <thead>\n",
       "    <tr style=\"text-align: right;\">\n",
       "      <th></th>\n",
       "      <th>Unnamed: 0_x</th>\n",
       "      <th>Country Name</th>\n",
       "      <th>Year</th>\n",
       "      <th>Depression Count</th>\n",
       "      <th>Unnamed: 0_y</th>\n",
       "      <th>Density</th>\n",
       "    </tr>\n",
       "  </thead>\n",
       "  <tbody>\n",
       "    <tr>\n",
       "      <th>0</th>\n",
       "      <td>164.0</td>\n",
       "      <td>Andorra</td>\n",
       "      <td>2014</td>\n",
       "      <td>3.168901e+03</td>\n",
       "      <td>4</td>\n",
       "      <td>168.538298</td>\n",
       "    </tr>\n",
       "    <tr>\n",
       "      <th>1</th>\n",
       "      <td>165.0</td>\n",
       "      <td>Andorra</td>\n",
       "      <td>2015</td>\n",
       "      <td>3.216876e+03</td>\n",
       "      <td>4</td>\n",
       "      <td>165.980851</td>\n",
       "    </tr>\n",
       "    <tr>\n",
       "      <th>2</th>\n",
       "      <td>166.0</td>\n",
       "      <td>Andorra</td>\n",
       "      <td>2016</td>\n",
       "      <td>3.245706e+03</td>\n",
       "      <td>4</td>\n",
       "      <td>164.461702</td>\n",
       "    </tr>\n",
       "    <tr>\n",
       "      <th>3</th>\n",
       "      <td>167.0</td>\n",
       "      <td>Andorra</td>\n",
       "      <td>2017</td>\n",
       "      <td>3.339036e+03</td>\n",
       "      <td>4</td>\n",
       "      <td>163.831915</td>\n",
       "    </tr>\n",
       "    <tr>\n",
       "      <th>4</th>\n",
       "      <td>332.0</td>\n",
       "      <td>Australia</td>\n",
       "      <td>2014</td>\n",
       "      <td>1.054482e+06</td>\n",
       "      <td>11</td>\n",
       "      <td>3.055815</td>\n",
       "    </tr>\n",
       "    <tr>\n",
       "      <th>...</th>\n",
       "      <td>...</td>\n",
       "      <td>...</td>\n",
       "      <td>...</td>\n",
       "      <td>...</td>\n",
       "      <td>...</td>\n",
       "      <td>...</td>\n",
       "    </tr>\n",
       "    <tr>\n",
       "      <th>291</th>\n",
       "      <td>NaN</td>\n",
       "      <td>Sint Maarten (Dutch part)</td>\n",
       "      <td>2017</td>\n",
       "      <td>NaN</td>\n",
       "      <td>223</td>\n",
       "      <td>1193.352941</td>\n",
       "    </tr>\n",
       "    <tr>\n",
       "      <th>292</th>\n",
       "      <td>NaN</td>\n",
       "      <td>St. Kitts and Nevis</td>\n",
       "      <td>2017</td>\n",
       "      <td>NaN</td>\n",
       "      <td>123</td>\n",
       "      <td>200.138462</td>\n",
       "    </tr>\n",
       "    <tr>\n",
       "      <th>293</th>\n",
       "      <td>NaN</td>\n",
       "      <td>Turks and Caicos Islands</td>\n",
       "      <td>2017</td>\n",
       "      <td>NaN</td>\n",
       "      <td>226</td>\n",
       "      <td>39.068421</td>\n",
       "    </tr>\n",
       "    <tr>\n",
       "      <th>294</th>\n",
       "      <td>NaN</td>\n",
       "      <td>Venezuela, RB</td>\n",
       "      <td>2017</td>\n",
       "      <td>NaN</td>\n",
       "      <td>252</td>\n",
       "      <td>33.320570</td>\n",
       "    </tr>\n",
       "    <tr>\n",
       "      <th>295</th>\n",
       "      <td>NaN</td>\n",
       "      <td>Virgin Islands (U.S.)</td>\n",
       "      <td>2017</td>\n",
       "      <td>NaN</td>\n",
       "      <td>254</td>\n",
       "      <td>306.480000</td>\n",
       "    </tr>\n",
       "  </tbody>\n",
       "</table>\n",
       "<p>296 rows × 6 columns</p>\n",
       "</div>"
      ],
      "text/plain": [
       "     Unnamed: 0_x               Country Name  Year  Depression Count  \\\n",
       "0           164.0                    Andorra  2014      3.168901e+03   \n",
       "1           165.0                    Andorra  2015      3.216876e+03   \n",
       "2           166.0                    Andorra  2016      3.245706e+03   \n",
       "3           167.0                    Andorra  2017      3.339036e+03   \n",
       "4           332.0                  Australia  2014      1.054482e+06   \n",
       "..            ...                        ...   ...               ...   \n",
       "291           NaN  Sint Maarten (Dutch part)  2017               NaN   \n",
       "292           NaN        St. Kitts and Nevis  2017               NaN   \n",
       "293           NaN   Turks and Caicos Islands  2017               NaN   \n",
       "294           NaN              Venezuela, RB  2017               NaN   \n",
       "295           NaN      Virgin Islands (U.S.)  2017               NaN   \n",
       "\n",
       "     Unnamed: 0_y      Density  \n",
       "0               4   168.538298  \n",
       "1               4   165.980851  \n",
       "2               4   164.461702  \n",
       "3               4   163.831915  \n",
       "4              11     3.055815  \n",
       "..            ...          ...  \n",
       "291           223  1193.352941  \n",
       "292           123   200.138462  \n",
       "293           226    39.068421  \n",
       "294           252    33.320570  \n",
       "295           254   306.480000  \n",
       "\n",
       "[296 rows x 6 columns]"
      ]
     },
     "execution_count": 80,
     "metadata": {},
     "output_type": "execute_result"
    }
   ],
   "source": [
    "pop_dens_depression_above"
   ]
  },
  {
   "cell_type": "code",
   "execution_count": 81,
   "metadata": {},
   "outputs": [],
   "source": [
    "pop_dens_depression_above = pop_dens_depression_above.drop(['Unnamed: 0_x', 'Unnamed: 0_y'], axis=1)"
   ]
  },
  {
   "cell_type": "code",
   "execution_count": 82,
   "metadata": {},
   "outputs": [
    {
     "data": {
      "text/plain": [
       "Index(['Country Name', 'Year', 'Depression Count', 'Density'], dtype='object')"
      ]
     },
     "execution_count": 82,
     "metadata": {},
     "output_type": "execute_result"
    }
   ],
   "source": [
    "pop_dens_depression_above.columns"
   ]
  },
  {
   "cell_type": "code",
   "execution_count": 83,
   "metadata": {},
   "outputs": [],
   "source": [
    "pop_dens_depression_above_by_country = pop_dens_depression_above.groupby(['Country Name']).mean().reset_index()"
   ]
  },
  {
   "cell_type": "code",
   "execution_count": 84,
   "metadata": {
    "scrolled": true
   },
   "outputs": [
    {
     "data": {
      "text/plain": [
       "Index(['Country Name', 'Depression Count', 'Density'], dtype='object')"
      ]
     },
     "execution_count": 84,
     "metadata": {},
     "output_type": "execute_result"
    }
   ],
   "source": [
    "pop_dens_depression_above_by_country.columns"
   ]
  },
  {
   "cell_type": "code",
   "execution_count": 85,
   "metadata": {},
   "outputs": [],
   "source": [
    "pop_dens_depression_above_by_country.fillna(pop_dens_depression_above_by_country[\"Depression Count\"].mode()[0], inplace = True)"
   ]
  },
  {
   "cell_type": "code",
   "execution_count": 86,
   "metadata": {},
   "outputs": [
    {
     "data": {
      "text/html": [
       "<div>\n",
       "<style scoped>\n",
       "    .dataframe tbody tr th:only-of-type {\n",
       "        vertical-align: middle;\n",
       "    }\n",
       "\n",
       "    .dataframe tbody tr th {\n",
       "        vertical-align: top;\n",
       "    }\n",
       "\n",
       "    .dataframe thead th {\n",
       "        text-align: right;\n",
       "    }\n",
       "</style>\n",
       "<table border=\"1\" class=\"dataframe\">\n",
       "  <thead>\n",
       "    <tr style=\"text-align: right;\">\n",
       "      <th></th>\n",
       "      <th>Country Name</th>\n",
       "      <th>Depression Count</th>\n",
       "      <th>Density</th>\n",
       "    </tr>\n",
       "  </thead>\n",
       "  <tbody>\n",
       "    <tr>\n",
       "      <th>0</th>\n",
       "      <td>Andorra</td>\n",
       "      <td>3.242630e+03</td>\n",
       "      <td>165.703192</td>\n",
       "    </tr>\n",
       "    <tr>\n",
       "      <th>1</th>\n",
       "      <td>Aruba</td>\n",
       "      <td>1.574117e+03</td>\n",
       "      <td>581.045833</td>\n",
       "    </tr>\n",
       "    <tr>\n",
       "      <th>2</th>\n",
       "      <td>Australia</td>\n",
       "      <td>1.066378e+06</td>\n",
       "      <td>3.124806</td>\n",
       "    </tr>\n",
       "    <tr>\n",
       "      <th>3</th>\n",
       "      <td>Austria</td>\n",
       "      <td>3.191915e+05</td>\n",
       "      <td>105.195644</td>\n",
       "    </tr>\n",
       "    <tr>\n",
       "      <th>4</th>\n",
       "      <td>Bahamas, The</td>\n",
       "      <td>9.898780e+03</td>\n",
       "      <td>37.575699</td>\n",
       "    </tr>\n",
       "    <tr>\n",
       "      <th>...</th>\n",
       "      <td>...</td>\n",
       "      <td>...</td>\n",
       "      <td>...</td>\n",
       "    </tr>\n",
       "    <tr>\n",
       "      <th>69</th>\n",
       "      <td>United Kingdom</td>\n",
       "      <td>2.878980e+06</td>\n",
       "      <td>270.108057</td>\n",
       "    </tr>\n",
       "    <tr>\n",
       "      <th>70</th>\n",
       "      <td>United States</td>\n",
       "      <td>1.524408e+07</td>\n",
       "      <td>35.170109</td>\n",
       "    </tr>\n",
       "    <tr>\n",
       "      <th>71</th>\n",
       "      <td>Uruguay</td>\n",
       "      <td>1.234121e+05</td>\n",
       "      <td>19.530941</td>\n",
       "    </tr>\n",
       "    <tr>\n",
       "      <th>72</th>\n",
       "      <td>Venezuela, RB</td>\n",
       "      <td>1.574117e+03</td>\n",
       "      <td>33.831288</td>\n",
       "    </tr>\n",
       "    <tr>\n",
       "      <th>73</th>\n",
       "      <td>Virgin Islands (U.S.)</td>\n",
       "      <td>1.574117e+03</td>\n",
       "      <td>307.408571</td>\n",
       "    </tr>\n",
       "  </tbody>\n",
       "</table>\n",
       "<p>74 rows × 3 columns</p>\n",
       "</div>"
      ],
      "text/plain": [
       "             Country Name  Depression Count     Density\n",
       "0                 Andorra      3.242630e+03  165.703192\n",
       "1                   Aruba      1.574117e+03  581.045833\n",
       "2               Australia      1.066378e+06    3.124806\n",
       "3                 Austria      3.191915e+05  105.195644\n",
       "4            Bahamas, The      9.898780e+03   37.575699\n",
       "..                    ...               ...         ...\n",
       "69         United Kingdom      2.878980e+06  270.108057\n",
       "70          United States      1.524408e+07   35.170109\n",
       "71                Uruguay      1.234121e+05   19.530941\n",
       "72          Venezuela, RB      1.574117e+03   33.831288\n",
       "73  Virgin Islands (U.S.)      1.574117e+03  307.408571\n",
       "\n",
       "[74 rows x 3 columns]"
      ]
     },
     "execution_count": 86,
     "metadata": {},
     "output_type": "execute_result"
    }
   ],
   "source": [
    "pop_dens_depression_above_by_country"
   ]
  },
  {
   "cell_type": "markdown",
   "metadata": {},
   "source": [
    "### Scatter plots"
   ]
  },
  {
   "cell_type": "code",
   "execution_count": 87,
   "metadata": {},
   "outputs": [
    {
     "data": {
      "image/png": "[encoded data removed]",
      "text/plain": [
       "<Figure size 432x288 with 1 Axes>"
      ]
     },
     "metadata": {
      "needs_background": "light"
     },
     "output_type": "display_data"
    }
   ],
   "source": [
    "import matplotlib.pyplot as plt\n",
    "import pandas as pd\n",
    "import numpy as np\n",
    "\n",
    "\n",
    "ax1 = pop_dens_depression_above_by_country.plot.scatter(x='Density', y='Depression Count', c='DarkBlue')"
   ]
  },
  {
   "cell_type": "markdown",
   "metadata": {},
   "source": [
    "### Correlation Coefficient"
   ]
  },
  {
   "cell_type": "code",
   "execution_count": 88,
   "metadata": {},
   "outputs": [
    {
     "data": {
      "text/plain": [
       "Depression Count    1.000000\n",
       "Density            -0.075224\n",
       "Name: Depression Count, dtype: float64"
      ]
     },
     "execution_count": 88,
     "metadata": {},
     "output_type": "execute_result"
    }
   ],
   "source": [
    "# calculate the correlation matrix\n",
    "corr = pop_dens_depression_above_by_country.corr()\n",
    "corr.loc['Depression Count']"
   ]
  },
  {
   "cell_type": "markdown",
   "metadata": {},
   "source": [
    "## Correlation for depression and population density for countries below the average GDP"
   ]
  },
  {
   "cell_type": "code",
   "execution_count": 89,
   "metadata": {},
   "outputs": [],
   "source": [
    "pop_dens_filtered_below = pd.merge(gdp_filtered_below, pop_dens, left_on=['Country Name'], right_on=['Country Name'], how='left')"
   ]
  },
  {
   "cell_type": "code",
   "execution_count": 90,
   "metadata": {},
   "outputs": [],
   "source": [
    "pop_dens_filtered_below = pop_dens_filtered_below.melt(id_vars=[\"Unnamed: 0\", \"Country Name\"], var_name=\"Year\", value_name=\"Density\")"
   ]
  },
  {
   "cell_type": "code",
   "execution_count": 91,
   "metadata": {},
   "outputs": [
    {
     "data": {
      "text/html": [
       "<div>\n",
       "<style scoped>\n",
       "    .dataframe tbody tr th:only-of-type {\n",
       "        vertical-align: middle;\n",
       "    }\n",
       "\n",
       "    .dataframe tbody tr th {\n",
       "        vertical-align: top;\n",
       "    }\n",
       "\n",
       "    .dataframe thead th {\n",
       "        text-align: right;\n",
       "    }\n",
       "</style>\n",
       "<table border=\"1\" class=\"dataframe\">\n",
       "  <thead>\n",
       "    <tr style=\"text-align: right;\">\n",
       "      <th></th>\n",
       "      <th>Unnamed: 0</th>\n",
       "      <th>Country Name</th>\n",
       "      <th>Year</th>\n",
       "      <th>Density</th>\n",
       "    </tr>\n",
       "  </thead>\n",
       "  <tbody>\n",
       "    <tr>\n",
       "      <th>0</th>\n",
       "      <td>1</td>\n",
       "      <td>Afghanistan</td>\n",
       "      <td>2014</td>\n",
       "      <td>51.114778</td>\n",
       "    </tr>\n",
       "    <tr>\n",
       "      <th>1</th>\n",
       "      <td>3</td>\n",
       "      <td>Albania</td>\n",
       "      <td>2014</td>\n",
       "      <td>105.441752</td>\n",
       "    </tr>\n",
       "    <tr>\n",
       "      <th>2</th>\n",
       "      <td>58</td>\n",
       "      <td>Algeria</td>\n",
       "      <td>2014</td>\n",
       "      <td>16.342542</td>\n",
       "    </tr>\n",
       "    <tr>\n",
       "      <th>3</th>\n",
       "      <td>9</td>\n",
       "      <td>American Samoa</td>\n",
       "      <td>2014</td>\n",
       "      <td>278.955000</td>\n",
       "    </tr>\n",
       "    <tr>\n",
       "      <th>4</th>\n",
       "      <td>2</td>\n",
       "      <td>Angola</td>\n",
       "      <td>2014</td>\n",
       "      <td>21.610475</td>\n",
       "    </tr>\n",
       "    <tr>\n",
       "      <th>...</th>\n",
       "      <td>...</td>\n",
       "      <td>...</td>\n",
       "      <td>...</td>\n",
       "      <td>...</td>\n",
       "    </tr>\n",
       "    <tr>\n",
       "      <th>711</th>\n",
       "      <td>194</td>\n",
       "      <td>West Bank and Gaza</td>\n",
       "      <td>2017</td>\n",
       "      <td>740.000831</td>\n",
       "    </tr>\n",
       "    <tr>\n",
       "      <th>712</th>\n",
       "      <td>257</td>\n",
       "      <td>World</td>\n",
       "      <td>2017</td>\n",
       "      <td>57.781638</td>\n",
       "    </tr>\n",
       "    <tr>\n",
       "      <th>713</th>\n",
       "      <td>260</td>\n",
       "      <td>Yemen, Rep.</td>\n",
       "      <td>2017</td>\n",
       "      <td>52.720459</td>\n",
       "    </tr>\n",
       "    <tr>\n",
       "      <th>714</th>\n",
       "      <td>262</td>\n",
       "      <td>Zambia</td>\n",
       "      <td>2017</td>\n",
       "      <td>22.671395</td>\n",
       "    </tr>\n",
       "    <tr>\n",
       "      <th>715</th>\n",
       "      <td>263</td>\n",
       "      <td>Zimbabwe</td>\n",
       "      <td>2017</td>\n",
       "      <td>36.801719</td>\n",
       "    </tr>\n",
       "  </tbody>\n",
       "</table>\n",
       "<p>716 rows × 4 columns</p>\n",
       "</div>"
      ],
      "text/plain": [
       "     Unnamed: 0        Country Name  Year     Density\n",
       "0             1         Afghanistan  2014   51.114778\n",
       "1             3             Albania  2014  105.441752\n",
       "2            58             Algeria  2014   16.342542\n",
       "3             9      American Samoa  2014  278.955000\n",
       "4             2              Angola  2014   21.610475\n",
       "..          ...                 ...   ...         ...\n",
       "711         194  West Bank and Gaza  2017  740.000831\n",
       "712         257               World  2017   57.781638\n",
       "713         260         Yemen, Rep.  2017   52.720459\n",
       "714         262              Zambia  2017   22.671395\n",
       "715         263            Zimbabwe  2017   36.801719\n",
       "\n",
       "[716 rows x 4 columns]"
      ]
     },
     "execution_count": 91,
     "metadata": {},
     "output_type": "execute_result"
    }
   ],
   "source": [
    "pop_dens_filtered_below"
   ]
  },
  {
   "cell_type": "markdown",
   "metadata": {},
   "source": [
    "### Merge population density and depression datasets on Country and Year"
   ]
  },
  {
   "cell_type": "code",
   "execution_count": 92,
   "metadata": {},
   "outputs": [],
   "source": [
    "pop_dens_depression_below = depression_filtered.merge(pop_dens_filtered_below, left_on=['Country Name', 'Year'], right_on=['Country Name', 'Year'], how='right')"
   ]
  },
  {
   "cell_type": "code",
   "execution_count": 93,
   "metadata": {
    "scrolled": true
   },
   "outputs": [
    {
     "data": {
      "text/html": [
       "<div>\n",
       "<style scoped>\n",
       "    .dataframe tbody tr th:only-of-type {\n",
       "        vertical-align: middle;\n",
       "    }\n",
       "\n",
       "    .dataframe tbody tr th {\n",
       "        vertical-align: top;\n",
       "    }\n",
       "\n",
       "    .dataframe thead th {\n",
       "        text-align: right;\n",
       "    }\n",
       "</style>\n",
       "<table border=\"1\" class=\"dataframe\">\n",
       "  <thead>\n",
       "    <tr style=\"text-align: right;\">\n",
       "      <th></th>\n",
       "      <th>Unnamed: 0_x</th>\n",
       "      <th>Country Name</th>\n",
       "      <th>Year</th>\n",
       "      <th>Depression Count</th>\n",
       "      <th>Unnamed: 0_y</th>\n",
       "      <th>Density</th>\n",
       "    </tr>\n",
       "  </thead>\n",
       "  <tbody>\n",
       "    <tr>\n",
       "      <th>0</th>\n",
       "      <td>24.0</td>\n",
       "      <td>Afghanistan</td>\n",
       "      <td>2014</td>\n",
       "      <td>884404.683172</td>\n",
       "      <td>1</td>\n",
       "      <td>51.114778</td>\n",
       "    </tr>\n",
       "    <tr>\n",
       "      <th>1</th>\n",
       "      <td>25.0</td>\n",
       "      <td>Afghanistan</td>\n",
       "      <td>2015</td>\n",
       "      <td>906133.433945</td>\n",
       "      <td>1</td>\n",
       "      <td>52.712071</td>\n",
       "    </tr>\n",
       "    <tr>\n",
       "      <th>2</th>\n",
       "      <td>26.0</td>\n",
       "      <td>Afghanistan</td>\n",
       "      <td>2016</td>\n",
       "      <td>932188.730746</td>\n",
       "      <td>1</td>\n",
       "      <td>54.197114</td>\n",
       "    </tr>\n",
       "    <tr>\n",
       "      <th>3</th>\n",
       "      <td>27.0</td>\n",
       "      <td>Afghanistan</td>\n",
       "      <td>2017</td>\n",
       "      <td>967281.203243</td>\n",
       "      <td>1</td>\n",
       "      <td>55.595993</td>\n",
       "    </tr>\n",
       "    <tr>\n",
       "      <th>4</th>\n",
       "      <td>52.0</td>\n",
       "      <td>Albania</td>\n",
       "      <td>2014</td>\n",
       "      <td>68970.473430</td>\n",
       "      <td>3</td>\n",
       "      <td>105.441752</td>\n",
       "    </tr>\n",
       "    <tr>\n",
       "      <th>...</th>\n",
       "      <td>...</td>\n",
       "      <td>...</td>\n",
       "      <td>...</td>\n",
       "      <td>...</td>\n",
       "      <td>...</td>\n",
       "      <td>...</td>\n",
       "    </tr>\n",
       "    <tr>\n",
       "      <th>711</th>\n",
       "      <td>NaN</td>\n",
       "      <td>Sub-Saharan Africa (excluding high income)</td>\n",
       "      <td>2017</td>\n",
       "      <td>NaN</td>\n",
       "      <td>213</td>\n",
       "      <td>43.973942</td>\n",
       "    </tr>\n",
       "    <tr>\n",
       "      <th>712</th>\n",
       "      <td>NaN</td>\n",
       "      <td>Timor-Leste</td>\n",
       "      <td>2017</td>\n",
       "      <td>NaN</td>\n",
       "      <td>235</td>\n",
       "      <td>83.608675</td>\n",
       "    </tr>\n",
       "    <tr>\n",
       "      <th>713</th>\n",
       "      <td>NaN</td>\n",
       "      <td>Tuvalu</td>\n",
       "      <td>2017</td>\n",
       "      <td>NaN</td>\n",
       "      <td>243</td>\n",
       "      <td>379.000000</td>\n",
       "    </tr>\n",
       "    <tr>\n",
       "      <th>714</th>\n",
       "      <td>NaN</td>\n",
       "      <td>Upper middle income</td>\n",
       "      <td>2017</td>\n",
       "      <td>NaN</td>\n",
       "      <td>247</td>\n",
       "      <td>48.874586</td>\n",
       "    </tr>\n",
       "    <tr>\n",
       "      <th>715</th>\n",
       "      <td>NaN</td>\n",
       "      <td>West Bank and Gaza</td>\n",
       "      <td>2017</td>\n",
       "      <td>NaN</td>\n",
       "      <td>194</td>\n",
       "      <td>740.000831</td>\n",
       "    </tr>\n",
       "  </tbody>\n",
       "</table>\n",
       "<p>716 rows × 6 columns</p>\n",
       "</div>"
      ],
      "text/plain": [
       "     Unnamed: 0_x                                Country Name  Year  \\\n",
       "0            24.0                                 Afghanistan  2014   \n",
       "1            25.0                                 Afghanistan  2015   \n",
       "2            26.0                                 Afghanistan  2016   \n",
       "3            27.0                                 Afghanistan  2017   \n",
       "4            52.0                                     Albania  2014   \n",
       "..            ...                                         ...   ...   \n",
       "711           NaN  Sub-Saharan Africa (excluding high income)  2017   \n",
       "712           NaN                                 Timor-Leste  2017   \n",
       "713           NaN                                      Tuvalu  2017   \n",
       "714           NaN                         Upper middle income  2017   \n",
       "715           NaN                          West Bank and Gaza  2017   \n",
       "\n",
       "     Depression Count  Unnamed: 0_y     Density  \n",
       "0       884404.683172             1   51.114778  \n",
       "1       906133.433945             1   52.712071  \n",
       "2       932188.730746             1   54.197114  \n",
       "3       967281.203243             1   55.595993  \n",
       "4        68970.473430             3  105.441752  \n",
       "..                ...           ...         ...  \n",
       "711               NaN           213   43.973942  \n",
       "712               NaN           235   83.608675  \n",
       "713               NaN           243  379.000000  \n",
       "714               NaN           247   48.874586  \n",
       "715               NaN           194  740.000831  \n",
       "\n",
       "[716 rows x 6 columns]"
      ]
     },
     "execution_count": 93,
     "metadata": {},
     "output_type": "execute_result"
    }
   ],
   "source": [
    "pop_dens_depression_below"
   ]
  },
  {
   "cell_type": "code",
   "execution_count": 94,
   "metadata": {},
   "outputs": [],
   "source": [
    "pop_dens_depression_below = pop_dens_depression_below.drop(['Unnamed: 0_x', 'Unnamed: 0_y'], axis=1)"
   ]
  },
  {
   "cell_type": "code",
   "execution_count": 95,
   "metadata": {},
   "outputs": [
    {
     "data": {
      "text/plain": [
       "Index(['Country Name', 'Year', 'Depression Count', 'Density'], dtype='object')"
      ]
     },
     "execution_count": 95,
     "metadata": {},
     "output_type": "execute_result"
    }
   ],
   "source": [
    "pop_dens_depression_below.columns"
   ]
  },
  {
   "cell_type": "code",
   "execution_count": 96,
   "metadata": {},
   "outputs": [],
   "source": [
    "pop_dens_depression_below_by_country = pop_dens_depression_below.groupby(['Country Name']).mean().reset_index()"
   ]
  },
  {
   "cell_type": "code",
   "execution_count": 97,
   "metadata": {
    "scrolled": true
   },
   "outputs": [
    {
     "data": {
      "text/plain": [
       "Index(['Country Name', 'Depression Count', 'Density'], dtype='object')"
      ]
     },
     "execution_count": 97,
     "metadata": {},
     "output_type": "execute_result"
    }
   ],
   "source": [
    "pop_dens_depression_below_by_country.columns"
   ]
  },
  {
   "cell_type": "code",
   "execution_count": 98,
   "metadata": {},
   "outputs": [],
   "source": [
    "pop_dens_depression_below_by_country.fillna(pop_dens_depression_below_by_country[\"Depression Count\"].mode()[0], inplace = True)"
   ]
  },
  {
   "cell_type": "code",
   "execution_count": 99,
   "metadata": {},
   "outputs": [
    {
     "data": {
      "text/html": [
       "<div>\n",
       "<style scoped>\n",
       "    .dataframe tbody tr th:only-of-type {\n",
       "        vertical-align: middle;\n",
       "    }\n",
       "\n",
       "    .dataframe tbody tr th {\n",
       "        vertical-align: top;\n",
       "    }\n",
       "\n",
       "    .dataframe thead th {\n",
       "        text-align: right;\n",
       "    }\n",
       "</style>\n",
       "<table border=\"1\" class=\"dataframe\">\n",
       "  <thead>\n",
       "    <tr style=\"text-align: right;\">\n",
       "      <th></th>\n",
       "      <th>Country Name</th>\n",
       "      <th>Depression Count</th>\n",
       "      <th>Density</th>\n",
       "    </tr>\n",
       "  </thead>\n",
       "  <tbody>\n",
       "    <tr>\n",
       "      <th>0</th>\n",
       "      <td>Afghanistan</td>\n",
       "      <td>9.225020e+05</td>\n",
       "      <td>53.404989</td>\n",
       "    </tr>\n",
       "    <tr>\n",
       "      <th>1</th>\n",
       "      <td>Albania</td>\n",
       "      <td>6.930178e+04</td>\n",
       "      <td>105.103695</td>\n",
       "    </tr>\n",
       "    <tr>\n",
       "      <th>2</th>\n",
       "      <td>Algeria</td>\n",
       "      <td>1.362142e+06</td>\n",
       "      <td>16.856611</td>\n",
       "    </tr>\n",
       "    <tr>\n",
       "      <th>3</th>\n",
       "      <td>American Samoa</td>\n",
       "      <td>1.463210e+03</td>\n",
       "      <td>278.705000</td>\n",
       "    </tr>\n",
       "    <tr>\n",
       "      <th>4</th>\n",
       "      <td>Angola</td>\n",
       "      <td>7.862751e+05</td>\n",
       "      <td>22.757157</td>\n",
       "    </tr>\n",
       "    <tr>\n",
       "      <th>...</th>\n",
       "      <td>...</td>\n",
       "      <td>...</td>\n",
       "      <td>...</td>\n",
       "    </tr>\n",
       "    <tr>\n",
       "      <th>174</th>\n",
       "      <td>West Bank and Gaza</td>\n",
       "      <td>1.463210e+03</td>\n",
       "      <td>717.000955</td>\n",
       "    </tr>\n",
       "    <tr>\n",
       "      <th>175</th>\n",
       "      <td>World</td>\n",
       "      <td>2.584092e+08</td>\n",
       "      <td>56.819162</td>\n",
       "    </tr>\n",
       "    <tr>\n",
       "      <th>176</th>\n",
       "      <td>Yemen, Rep.</td>\n",
       "      <td>9.131212e+05</td>\n",
       "      <td>50.819367</td>\n",
       "    </tr>\n",
       "    <tr>\n",
       "      <th>177</th>\n",
       "      <td>Zambia</td>\n",
       "      <td>4.082987e+05</td>\n",
       "      <td>21.689930</td>\n",
       "    </tr>\n",
       "    <tr>\n",
       "      <th>178</th>\n",
       "      <td>Zimbabwe</td>\n",
       "      <td>3.258312e+05</td>\n",
       "      <td>35.975472</td>\n",
       "    </tr>\n",
       "  </tbody>\n",
       "</table>\n",
       "<p>179 rows × 3 columns</p>\n",
       "</div>"
      ],
      "text/plain": [
       "           Country Name  Depression Count     Density\n",
       "0           Afghanistan      9.225020e+05   53.404989\n",
       "1               Albania      6.930178e+04  105.103695\n",
       "2               Algeria      1.362142e+06   16.856611\n",
       "3        American Samoa      1.463210e+03  278.705000\n",
       "4                Angola      7.862751e+05   22.757157\n",
       "..                  ...               ...         ...\n",
       "174  West Bank and Gaza      1.463210e+03  717.000955\n",
       "175               World      2.584092e+08   56.819162\n",
       "176         Yemen, Rep.      9.131212e+05   50.819367\n",
       "177              Zambia      4.082987e+05   21.689930\n",
       "178            Zimbabwe      3.258312e+05   35.975472\n",
       "\n",
       "[179 rows x 3 columns]"
      ]
     },
     "execution_count": 99,
     "metadata": {},
     "output_type": "execute_result"
    }
   ],
   "source": [
    "pop_dens_depression_below_by_country"
   ]
  },
  {
   "cell_type": "markdown",
   "metadata": {},
   "source": [
    "### Scatter plots"
   ]
  },
  {
   "cell_type": "code",
   "execution_count": 100,
   "metadata": {},
   "outputs": [
    {
     "data": {
      "image/png": "[encoded data removed]",
      "text/plain": [
       "<Figure size 432x288 with 1 Axes>"
      ]
     },
     "metadata": {
      "needs_background": "light"
     },
     "output_type": "display_data"
    }
   ],
   "source": [
    "import matplotlib.pyplot as plt\n",
    "import pandas as pd\n",
    "import numpy as np\n",
    "\n",
    "\n",
    "ax1 = pop_dens_depression_below_by_country.plot.scatter(x='Density', y='Depression Count', c='DarkBlue')"
   ]
  },
  {
   "cell_type": "markdown",
   "metadata": {},
   "source": [
    "### Correlation Coefficient"
   ]
  },
  {
   "cell_type": "code",
   "execution_count": 101,
   "metadata": {},
   "outputs": [
    {
     "data": {
      "text/plain": [
       "Depression Count    1.000000\n",
       "Density             0.022707\n",
       "Name: Depression Count, dtype: float64"
      ]
     },
     "execution_count": 101,
     "metadata": {},
     "output_type": "execute_result"
    }
   ],
   "source": [
    "# calculate the correlation matrix\n",
    "corr = pop_dens_depression_below_by_country.corr()\n",
    "corr.loc['Depression Count']"
   ]
  }
 ],
 "metadata": {
  "kernelspec": {
   "display_name": "Python 3",
   "language": "python",
   "name": "python3"
  },
  "language_info": {
   "codemirror_mode": {
    "name": "ipython",
    "version": 3
   },
   "file_extension": ".py",
   "mimetype": "text/x-python",
   "name": "python",
   "nbconvert_exporter": "python",
   "pygments_lexer": "ipython3",
   "version": "3.8.1"
  }
 },
 "nbformat": 4,
 "nbformat_minor": 4
}
