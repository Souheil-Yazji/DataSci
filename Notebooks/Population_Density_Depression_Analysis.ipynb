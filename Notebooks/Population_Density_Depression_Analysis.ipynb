{
 "cells": [
  {
   "cell_type": "code",
   "execution_count": 140,
   "metadata": {},
   "outputs": [],
   "source": [
    "import pandas as pd\n",
    "import numpy as np"
   ]
  },
  {
   "cell_type": "markdown",
   "metadata": {},
   "source": [
    "### Unify country names"
   ]
  },
  {
   "cell_type": "code",
   "execution_count": 141,
   "metadata": {},
   "outputs": [],
   "source": [
    "country_name_changes = {'Venezuela (Bolivarian Republic of)': 'Venezuela, RB',\n",
    "'Viet Nam': 'Vietnam',\n",
    " 'United States of America': 'United States',\n",
    " 'United Republic of Tanzania': 'Tanzania',\n",
    " 'United Kingdom of Great Britain and Northern Ireland': 'United Kingdom',\n",
    " 'Slovakia': 'Slovak Republic',\n",
    " 'Saint Lucia': 'St. Lucia',\n",
    " 'Republic of Moldova': 'Moldova',\n",
    " \"Democratic People's Republic of Korea\":'Korea, Dem. People’s Rep.', \n",
    " 'Republic of Korea':'Korea, Rep.',\n",
    " 'Kyrgyzstan': 'Kyrgyz Republic',\n",
    " 'Iran (Islamic Republic of)': 'Iran, Islamic Rep.',\n",
    " 'Gambia': 'Gambia, The',\n",
    " 'Egypt': 'Egypt, Arab Rep.',\n",
    "  \"Côte d'Ivoire\": \"Cote d'Ivoire\",\n",
    " 'China, Hong Kong SAR': 'Hong Kong SAR, China',\n",
    " 'China, Macao SAR':'Macao SAR, China',\n",
    " 'China, mainland': 'China',\n",
    " 'Bolivia (Plurinational State of)':'Bolivia',\n",
    " 'Bahamas':'Bahamas, The',\n",
    " 'Yemen': 'Yemen, Rep.'\n",
    "}\n",
    "def change_to_match_name(name):\n",
    "    if name in country_name_changes.keys():\n",
    "        return country_name_changes[name]\n",
    "    else:\n",
    "        return name"
   ]
  },
  {
   "cell_type": "markdown",
   "metadata": {},
   "source": [
    "### Get the country codes (from FAO_Consumption dataset)"
   ]
  },
  {
   "cell_type": "code",
   "execution_count": 142,
   "metadata": {},
   "outputs": [],
   "source": [
    "countries = pd.read_csv(\"FAO_Consumption.csv\")"
   ]
  },
  {
   "cell_type": "code",
   "execution_count": 143,
   "metadata": {},
   "outputs": [],
   "source": [
    "country_names = countries[[\"Country Name\"]].dropna().drop_duplicates()"
   ]
  },
  {
   "cell_type": "code",
   "execution_count": 144,
   "metadata": {
    "scrolled": true
   },
   "outputs": [
    {
     "data": {
      "text/html": [
       "<div>\n",
       "<style scoped>\n",
       "    .dataframe tbody tr th:only-of-type {\n",
       "        vertical-align: middle;\n",
       "    }\n",
       "\n",
       "    .dataframe tbody tr th {\n",
       "        vertical-align: top;\n",
       "    }\n",
       "\n",
       "    .dataframe thead th {\n",
       "        text-align: right;\n",
       "    }\n",
       "</style>\n",
       "<table border=\"1\" class=\"dataframe\">\n",
       "  <thead>\n",
       "    <tr style=\"text-align: right;\">\n",
       "      <th></th>\n",
       "      <th>Country Name</th>\n",
       "    </tr>\n",
       "  </thead>\n",
       "  <tbody>\n",
       "    <tr>\n",
       "      <th>0</th>\n",
       "      <td>Afghanistan</td>\n",
       "    </tr>\n",
       "    <tr>\n",
       "      <th>5</th>\n",
       "      <td>Albania</td>\n",
       "    </tr>\n",
       "    <tr>\n",
       "      <th>10</th>\n",
       "      <td>Algeria</td>\n",
       "    </tr>\n",
       "    <tr>\n",
       "      <th>15</th>\n",
       "      <td>Angola</td>\n",
       "    </tr>\n",
       "    <tr>\n",
       "      <th>20</th>\n",
       "      <td>Antigua and Barbuda</td>\n",
       "    </tr>\n",
       "    <tr>\n",
       "      <th>...</th>\n",
       "      <td>...</td>\n",
       "    </tr>\n",
       "    <tr>\n",
       "      <th>845</th>\n",
       "      <td>Venezuela (Bolivarian Republic of)</td>\n",
       "    </tr>\n",
       "    <tr>\n",
       "      <th>850</th>\n",
       "      <td>Viet Nam</td>\n",
       "    </tr>\n",
       "    <tr>\n",
       "      <th>855</th>\n",
       "      <td>Yemen</td>\n",
       "    </tr>\n",
       "    <tr>\n",
       "      <th>860</th>\n",
       "      <td>Zambia</td>\n",
       "    </tr>\n",
       "    <tr>\n",
       "      <th>865</th>\n",
       "      <td>Zimbabwe</td>\n",
       "    </tr>\n",
       "  </tbody>\n",
       "</table>\n",
       "<p>174 rows × 1 columns</p>\n",
       "</div>"
      ],
      "text/plain": [
       "                           Country Name\n",
       "0                           Afghanistan\n",
       "5                               Albania\n",
       "10                              Algeria\n",
       "15                               Angola\n",
       "20                  Antigua and Barbuda\n",
       "..                                  ...\n",
       "845  Venezuela (Bolivarian Republic of)\n",
       "850                            Viet Nam\n",
       "855                               Yemen\n",
       "860                              Zambia\n",
       "865                            Zimbabwe\n",
       "\n",
       "[174 rows x 1 columns]"
      ]
     },
     "execution_count": 144,
     "metadata": {},
     "output_type": "execute_result"
    }
   ],
   "source": [
    "country_names"
   ]
  },
  {
   "cell_type": "markdown",
   "metadata": {},
   "source": [
    "### Filter Country by GDP (Above average)"
   ]
  },
  {
   "cell_type": "code",
   "execution_count": 145,
   "metadata": {},
   "outputs": [],
   "source": [
    "gdp = pd.read_csv(\"gdp.csv\")\n",
    "average_gdp = 6520.64991860447"
   ]
  },
  {
   "cell_type": "code",
   "execution_count": 146,
   "metadata": {
    "scrolled": true
   },
   "outputs": [
    {
     "name": "stderr",
     "output_type": "stream",
     "text": [
      "<ipython-input-146-34f30bc2b31e>:13: SettingWithCopyWarning: \n",
      "A value is trying to be set on a copy of a slice from a DataFrame.\n",
      "Try using .loc[row_indexer,col_indexer] = value instead\n",
      "\n",
      "See the caveats in the documentation: https://pandas.pydata.org/pandas-docs/stable/user_guide/indexing.html#returning-a-view-versus-a-copy\n",
      "  gdp_filtered_above[\"Country Name\"] = gdp_filtered_above[\"Country Name\"].apply(change_to_match_name)\n",
      "<ipython-input-146-34f30bc2b31e>:14: SettingWithCopyWarning: \n",
      "A value is trying to be set on a copy of a slice from a DataFrame.\n",
      "Try using .loc[row_indexer,col_indexer] = value instead\n",
      "\n",
      "See the caveats in the documentation: https://pandas.pydata.org/pandas-docs/stable/user_guide/indexing.html#returning-a-view-versus-a-copy\n",
      "  gdp_filtered_below[\"Country Name\"] = gdp_filtered_below[\"Country Name\"].apply(change_to_match_name)\n"
     ]
    }
   ],
   "source": [
    "gdp_filtered = gdp.melt(id_vars=[\"Unnamed: 0\", \"Country Name\", \"Country Code\"], var_name=\"Year\", value_name=\"GDP\")\n",
    "gdp_filtered = gdp_filtered.loc[gdp_filtered['Year'].isin(['2014', '2015', '2016', '2017'])]\n",
    "gdp_filtered = gdp_filtered.loc[(gdp_filtered['GDP'] != \"..\")]\n",
    "gdp_filtered = gdp_filtered[gdp_filtered['GDP'].notnull()].copy()\n",
    "gdp_filtered[\"GDP\"] = gdp_filtered[\"GDP\"].astype(float)\n",
    "gdp_filtered = gdp_filtered.groupby(['Country Name']).mean().reset_index()\n",
    "gdp_filtered = pd.merge(country_names, gdp_filtered, left_on=['Country Name'], right_on=['Country Name'], how='left')\n",
    "\n",
    "gdp_filtered_above = gdp_filtered.loc[(gdp_filtered['GDP'] >= average_gdp)]\n",
    "gdp_filtered_below = gdp_filtered.loc[(gdp_filtered['GDP'] < average_gdp)]\n",
    "\n",
    "\n",
    "gdp_filtered_above[\"Country Name\"] = gdp_filtered_above[\"Country Name\"].apply(change_to_match_name)\n",
    "gdp_filtered_below[\"Country Name\"] = gdp_filtered_below[\"Country Name\"].apply(change_to_match_name)\n",
    "gdp_filtered_above = gdp_filtered_above.drop(['Unnamed: 0', 'GDP'], axis=1)\n",
    "gdp_filtered_below = gdp_filtered_below.drop(['Unnamed: 0', 'GDP'], axis=1)"
   ]
  },
  {
   "cell_type": "code",
   "execution_count": 177,
   "metadata": {},
   "outputs": [
    {
     "data": {
      "text/html": [
       "<div>\n",
       "<style scoped>\n",
       "    .dataframe tbody tr th:only-of-type {\n",
       "        vertical-align: middle;\n",
       "    }\n",
       "\n",
       "    .dataframe tbody tr th {\n",
       "        vertical-align: top;\n",
       "    }\n",
       "\n",
       "    .dataframe thead th {\n",
       "        text-align: right;\n",
       "    }\n",
       "</style>\n",
       "<table border=\"1\" class=\"dataframe\">\n",
       "  <thead>\n",
       "    <tr style=\"text-align: right;\">\n",
       "      <th></th>\n",
       "      <th>Country Name</th>\n",
       "    </tr>\n",
       "  </thead>\n",
       "  <tbody>\n",
       "    <tr>\n",
       "      <th>4</th>\n",
       "      <td>Antigua and Barbuda</td>\n",
       "    </tr>\n",
       "    <tr>\n",
       "      <th>5</th>\n",
       "      <td>Argentina</td>\n",
       "    </tr>\n",
       "    <tr>\n",
       "      <th>7</th>\n",
       "      <td>Australia</td>\n",
       "    </tr>\n",
       "    <tr>\n",
       "      <th>8</th>\n",
       "      <td>Austria</td>\n",
       "    </tr>\n",
       "    <tr>\n",
       "      <th>12</th>\n",
       "      <td>Barbados</td>\n",
       "    </tr>\n",
       "    <tr>\n",
       "      <th>...</th>\n",
       "      <td>...</td>\n",
       "    </tr>\n",
       "    <tr>\n",
       "      <th>156</th>\n",
       "      <td>Trinidad and Tobago</td>\n",
       "    </tr>\n",
       "    <tr>\n",
       "      <th>158</th>\n",
       "      <td>Turkey</td>\n",
       "    </tr>\n",
       "    <tr>\n",
       "      <th>159</th>\n",
       "      <td>Turkmenistan</td>\n",
       "    </tr>\n",
       "    <tr>\n",
       "      <th>162</th>\n",
       "      <td>United Arab Emirates</td>\n",
       "    </tr>\n",
       "    <tr>\n",
       "      <th>166</th>\n",
       "      <td>Uruguay</td>\n",
       "    </tr>\n",
       "  </tbody>\n",
       "</table>\n",
       "<p>65 rows × 1 columns</p>\n",
       "</div>"
      ],
      "text/plain": [
       "             Country Name\n",
       "4     Antigua and Barbuda\n",
       "5               Argentina\n",
       "7               Australia\n",
       "8                 Austria\n",
       "12               Barbados\n",
       "..                    ...\n",
       "156   Trinidad and Tobago\n",
       "158                Turkey\n",
       "159          Turkmenistan\n",
       "162  United Arab Emirates\n",
       "166               Uruguay\n",
       "\n",
       "[65 rows x 1 columns]"
      ]
     },
     "execution_count": 177,
     "metadata": {},
     "output_type": "execute_result"
    }
   ],
   "source": [
    "gdp_filtered_above"
   ]
  },
  {
   "cell_type": "code",
   "execution_count": null,
   "metadata": {},
   "outputs": [],
   "source": []
  },
  {
   "cell_type": "markdown",
   "metadata": {},
   "source": [
    "### Population density dataset"
   ]
  },
  {
   "cell_type": "code",
   "execution_count": 147,
   "metadata": {},
   "outputs": [
    {
     "data": {
      "text/html": [
       "<div>\n",
       "<style scoped>\n",
       "    .dataframe tbody tr th:only-of-type {\n",
       "        vertical-align: middle;\n",
       "    }\n",
       "\n",
       "    .dataframe tbody tr th {\n",
       "        vertical-align: top;\n",
       "    }\n",
       "\n",
       "    .dataframe thead th {\n",
       "        text-align: right;\n",
       "    }\n",
       "</style>\n",
       "<table border=\"1\" class=\"dataframe\">\n",
       "  <thead>\n",
       "    <tr style=\"text-align: right;\">\n",
       "      <th></th>\n",
       "      <th>Unnamed: 0</th>\n",
       "      <th>Country Name</th>\n",
       "      <th>2014</th>\n",
       "      <th>2015</th>\n",
       "      <th>2016</th>\n",
       "      <th>2017</th>\n",
       "    </tr>\n",
       "  </thead>\n",
       "  <tbody>\n",
       "    <tr>\n",
       "      <th>0</th>\n",
       "      <td>0</td>\n",
       "      <td>Aruba</td>\n",
       "      <td>576.522222</td>\n",
       "      <td>579.672222</td>\n",
       "      <td>582.622222</td>\n",
       "      <td>585.366667</td>\n",
       "    </tr>\n",
       "    <tr>\n",
       "      <th>1</th>\n",
       "      <td>1</td>\n",
       "      <td>Afghanistan</td>\n",
       "      <td>51.114778</td>\n",
       "      <td>52.712071</td>\n",
       "      <td>54.197114</td>\n",
       "      <td>55.595993</td>\n",
       "    </tr>\n",
       "    <tr>\n",
       "      <th>2</th>\n",
       "      <td>2</td>\n",
       "      <td>Angola</td>\n",
       "      <td>21.610475</td>\n",
       "      <td>22.366553</td>\n",
       "      <td>23.135064</td>\n",
       "      <td>23.916538</td>\n",
       "    </tr>\n",
       "    <tr>\n",
       "      <th>3</th>\n",
       "      <td>3</td>\n",
       "      <td>Albania</td>\n",
       "      <td>105.441752</td>\n",
       "      <td>105.135146</td>\n",
       "      <td>104.967190</td>\n",
       "      <td>104.870693</td>\n",
       "    </tr>\n",
       "    <tr>\n",
       "      <th>4</th>\n",
       "      <td>4</td>\n",
       "      <td>Andorra</td>\n",
       "      <td>168.538298</td>\n",
       "      <td>165.980851</td>\n",
       "      <td>164.461702</td>\n",
       "      <td>163.831915</td>\n",
       "    </tr>\n",
       "    <tr>\n",
       "      <th>...</th>\n",
       "      <td>...</td>\n",
       "      <td>...</td>\n",
       "      <td>...</td>\n",
       "      <td>...</td>\n",
       "      <td>...</td>\n",
       "      <td>...</td>\n",
       "    </tr>\n",
       "    <tr>\n",
       "      <th>258</th>\n",
       "      <td>259</td>\n",
       "      <td>Kosovo</td>\n",
       "      <td>166.507853</td>\n",
       "      <td>164.250574</td>\n",
       "      <td>163.273353</td>\n",
       "      <td>164.508404</td>\n",
       "    </tr>\n",
       "    <tr>\n",
       "      <th>259</th>\n",
       "      <td>260</td>\n",
       "      <td>Yemen, Rep.</td>\n",
       "      <td>48.910895</td>\n",
       "      <td>50.188247</td>\n",
       "      <td>51.457867</td>\n",
       "      <td>52.720459</td>\n",
       "    </tr>\n",
       "    <tr>\n",
       "      <th>260</th>\n",
       "      <td>261</td>\n",
       "      <td>South Africa</td>\n",
       "      <td>44.964505</td>\n",
       "      <td>45.657261</td>\n",
       "      <td>46.330985</td>\n",
       "      <td>46.987817</td>\n",
       "    </tr>\n",
       "    <tr>\n",
       "      <th>261</th>\n",
       "      <td>262</td>\n",
       "      <td>Zambia</td>\n",
       "      <td>20.715577</td>\n",
       "      <td>21.360741</td>\n",
       "      <td>22.012009</td>\n",
       "      <td>22.671395</td>\n",
       "    </tr>\n",
       "    <tr>\n",
       "      <th>262</th>\n",
       "      <td>263</td>\n",
       "      <td>Zimbabwe</td>\n",
       "      <td>35.121316</td>\n",
       "      <td>35.710557</td>\n",
       "      <td>36.268295</td>\n",
       "      <td>36.801719</td>\n",
       "    </tr>\n",
       "  </tbody>\n",
       "</table>\n",
       "<p>263 rows × 6 columns</p>\n",
       "</div>"
      ],
      "text/plain": [
       "     Unnamed: 0  Country Name        2014        2015        2016        2017\n",
       "0             0         Aruba  576.522222  579.672222  582.622222  585.366667\n",
       "1             1   Afghanistan   51.114778   52.712071   54.197114   55.595993\n",
       "2             2        Angola   21.610475   22.366553   23.135064   23.916538\n",
       "3             3       Albania  105.441752  105.135146  104.967190  104.870693\n",
       "4             4       Andorra  168.538298  165.980851  164.461702  163.831915\n",
       "..          ...           ...         ...         ...         ...         ...\n",
       "258         259        Kosovo  166.507853  164.250574  163.273353  164.508404\n",
       "259         260   Yemen, Rep.   48.910895   50.188247   51.457867   52.720459\n",
       "260         261  South Africa   44.964505   45.657261   46.330985   46.987817\n",
       "261         262        Zambia   20.715577   21.360741   22.012009   22.671395\n",
       "262         263      Zimbabwe   35.121316   35.710557   36.268295   36.801719\n",
       "\n",
       "[263 rows x 6 columns]"
      ]
     },
     "execution_count": 147,
     "metadata": {},
     "output_type": "execute_result"
    }
   ],
   "source": [
    "pop_dens = pd.read_csv(\"pop_dens_2014_2017.csv\")\n",
    "pop_dens"
   ]
  },
  {
   "cell_type": "markdown",
   "metadata": {},
   "source": [
    "Filter the countries"
   ]
  },
  {
   "cell_type": "markdown",
   "metadata": {},
   "source": [
    "### Depression dataset"
   ]
  },
  {
   "cell_type": "code",
   "execution_count": 148,
   "metadata": {},
   "outputs": [],
   "source": [
    "depression = pd.read_csv(\"depression.csv\")"
   ]
  },
  {
   "cell_type": "code",
   "execution_count": 149,
   "metadata": {},
   "outputs": [],
   "source": [
    "depression_filtered = depression.loc[depression['Year'].isin(['2014', '2015', '2016', '2017'])]\n",
    "depression_filtered = depression_filtered[depression_filtered['Year'].notnull()].copy()\n",
    "depression_filtered[\"Year\"] = depression_filtered[\"Year\"].astype(str)\n",
    "depression_filtered[\"Country Name\"] = depression_filtered[\"Country Name\"].apply(change_to_match_name)"
   ]
  },
  {
   "cell_type": "code",
   "execution_count": 150,
   "metadata": {},
   "outputs": [
    {
     "data": {
      "text/html": [
       "<div>\n",
       "<style scoped>\n",
       "    .dataframe tbody tr th:only-of-type {\n",
       "        vertical-align: middle;\n",
       "    }\n",
       "\n",
       "    .dataframe tbody tr th {\n",
       "        vertical-align: top;\n",
       "    }\n",
       "\n",
       "    .dataframe thead th {\n",
       "        text-align: right;\n",
       "    }\n",
       "</style>\n",
       "<table border=\"1\" class=\"dataframe\">\n",
       "  <thead>\n",
       "    <tr style=\"text-align: right;\">\n",
       "      <th></th>\n",
       "      <th>Unnamed: 0</th>\n",
       "      <th>Country Name</th>\n",
       "      <th>Year</th>\n",
       "      <th>Depression Count</th>\n",
       "    </tr>\n",
       "  </thead>\n",
       "  <tbody>\n",
       "    <tr>\n",
       "      <th>24</th>\n",
       "      <td>24</td>\n",
       "      <td>Afghanistan</td>\n",
       "      <td>2014</td>\n",
       "      <td>884404.683172</td>\n",
       "    </tr>\n",
       "    <tr>\n",
       "      <th>25</th>\n",
       "      <td>25</td>\n",
       "      <td>Afghanistan</td>\n",
       "      <td>2015</td>\n",
       "      <td>906133.433945</td>\n",
       "    </tr>\n",
       "    <tr>\n",
       "      <th>26</th>\n",
       "      <td>26</td>\n",
       "      <td>Afghanistan</td>\n",
       "      <td>2016</td>\n",
       "      <td>932188.730746</td>\n",
       "    </tr>\n",
       "    <tr>\n",
       "      <th>27</th>\n",
       "      <td>27</td>\n",
       "      <td>Afghanistan</td>\n",
       "      <td>2017</td>\n",
       "      <td>967281.203243</td>\n",
       "    </tr>\n",
       "    <tr>\n",
       "      <th>52</th>\n",
       "      <td>52</td>\n",
       "      <td>Albania</td>\n",
       "      <td>2014</td>\n",
       "      <td>68970.473430</td>\n",
       "    </tr>\n",
       "    <tr>\n",
       "      <th>...</th>\n",
       "      <td>...</td>\n",
       "      <td>...</td>\n",
       "      <td>...</td>\n",
       "      <td>...</td>\n",
       "    </tr>\n",
       "    <tr>\n",
       "      <th>6439</th>\n",
       "      <td>6439</td>\n",
       "      <td>Zambia</td>\n",
       "      <td>2017</td>\n",
       "      <td>438079.199268</td>\n",
       "    </tr>\n",
       "    <tr>\n",
       "      <th>6464</th>\n",
       "      <td>6464</td>\n",
       "      <td>Zimbabwe</td>\n",
       "      <td>2014</td>\n",
       "      <td>311665.769283</td>\n",
       "    </tr>\n",
       "    <tr>\n",
       "      <th>6465</th>\n",
       "      <td>6465</td>\n",
       "      <td>Zimbabwe</td>\n",
       "      <td>2015</td>\n",
       "      <td>320638.507158</td>\n",
       "    </tr>\n",
       "    <tr>\n",
       "      <th>6466</th>\n",
       "      <td>6466</td>\n",
       "      <td>Zimbabwe</td>\n",
       "      <td>2016</td>\n",
       "      <td>330437.353798</td>\n",
       "    </tr>\n",
       "    <tr>\n",
       "      <th>6467</th>\n",
       "      <td>6467</td>\n",
       "      <td>Zimbabwe</td>\n",
       "      <td>2017</td>\n",
       "      <td>340583.157405</td>\n",
       "    </tr>\n",
       "  </tbody>\n",
       "</table>\n",
       "<p>924 rows × 4 columns</p>\n",
       "</div>"
      ],
      "text/plain": [
       "      Unnamed: 0 Country Name  Year  Depression Count\n",
       "24            24  Afghanistan  2014     884404.683172\n",
       "25            25  Afghanistan  2015     906133.433945\n",
       "26            26  Afghanistan  2016     932188.730746\n",
       "27            27  Afghanistan  2017     967281.203243\n",
       "52            52      Albania  2014      68970.473430\n",
       "...          ...          ...   ...               ...\n",
       "6439        6439       Zambia  2017     438079.199268\n",
       "6464        6464     Zimbabwe  2014     311665.769283\n",
       "6465        6465     Zimbabwe  2015     320638.507158\n",
       "6466        6466     Zimbabwe  2016     330437.353798\n",
       "6467        6467     Zimbabwe  2017     340583.157405\n",
       "\n",
       "[924 rows x 4 columns]"
      ]
     },
     "execution_count": 150,
     "metadata": {},
     "output_type": "execute_result"
    }
   ],
   "source": [
    "depression_filtered"
   ]
  },
  {
   "cell_type": "markdown",
   "metadata": {},
   "source": [
    "## Correlation for depression and population density for countries above the average GDP"
   ]
  },
  {
   "cell_type": "code",
   "execution_count": 151,
   "metadata": {},
   "outputs": [],
   "source": [
    "pop_dens_filtered_above = pd.merge(gdp_filtered_above, pop_dens, left_on=['Country Name'], right_on=['Country Name'], how='left')"
   ]
  },
  {
   "cell_type": "code",
   "execution_count": 152,
   "metadata": {},
   "outputs": [],
   "source": [
    "pop_dens_filtered_above = pop_dens_filtered_above.melt(id_vars=[\"Unnamed: 0\", \"Country Name\"], var_name=\"Year\", value_name=\"Density\")"
   ]
  },
  {
   "cell_type": "code",
   "execution_count": 153,
   "metadata": {},
   "outputs": [
    {
     "data": {
      "text/html": [
       "<div>\n",
       "<style scoped>\n",
       "    .dataframe tbody tr th:only-of-type {\n",
       "        vertical-align: middle;\n",
       "    }\n",
       "\n",
       "    .dataframe tbody tr th {\n",
       "        vertical-align: top;\n",
       "    }\n",
       "\n",
       "    .dataframe thead th {\n",
       "        text-align: right;\n",
       "    }\n",
       "</style>\n",
       "<table border=\"1\" class=\"dataframe\">\n",
       "  <thead>\n",
       "    <tr style=\"text-align: right;\">\n",
       "      <th></th>\n",
       "      <th>Unnamed: 0</th>\n",
       "      <th>Country Name</th>\n",
       "      <th>Year</th>\n",
       "      <th>Density</th>\n",
       "    </tr>\n",
       "  </thead>\n",
       "  <tbody>\n",
       "    <tr>\n",
       "      <th>0</th>\n",
       "      <td>10</td>\n",
       "      <td>Antigua and Barbuda</td>\n",
       "      <td>2014</td>\n",
       "      <td>210.368182</td>\n",
       "    </tr>\n",
       "    <tr>\n",
       "      <th>1</th>\n",
       "      <td>7</td>\n",
       "      <td>Argentina</td>\n",
       "      <td>2014</td>\n",
       "      <td>15.591645</td>\n",
       "    </tr>\n",
       "    <tr>\n",
       "      <th>2</th>\n",
       "      <td>11</td>\n",
       "      <td>Australia</td>\n",
       "      <td>2014</td>\n",
       "      <td>3.055815</td>\n",
       "    </tr>\n",
       "    <tr>\n",
       "      <th>3</th>\n",
       "      <td>12</td>\n",
       "      <td>Austria</td>\n",
       "      <td>2014</td>\n",
       "      <td>103.563322</td>\n",
       "    </tr>\n",
       "    <tr>\n",
       "      <th>4</th>\n",
       "      <td>28</td>\n",
       "      <td>Barbados</td>\n",
       "      <td>2014</td>\n",
       "      <td>662.383721</td>\n",
       "    </tr>\n",
       "    <tr>\n",
       "      <th>...</th>\n",
       "      <td>...</td>\n",
       "      <td>...</td>\n",
       "      <td>...</td>\n",
       "      <td>...</td>\n",
       "    </tr>\n",
       "    <tr>\n",
       "      <th>255</th>\n",
       "      <td>240</td>\n",
       "      <td>Trinidad and Tobago</td>\n",
       "      <td>2017</td>\n",
       "      <td>269.799610</td>\n",
       "    </tr>\n",
       "    <tr>\n",
       "      <th>256</th>\n",
       "      <td>242</td>\n",
       "      <td>Turkey</td>\n",
       "      <td>2017</td>\n",
       "      <td>105.377769</td>\n",
       "    </tr>\n",
       "    <tr>\n",
       "      <th>257</th>\n",
       "      <td>233</td>\n",
       "      <td>Turkmenistan</td>\n",
       "      <td>2017</td>\n",
       "      <td>12.252184</td>\n",
       "    </tr>\n",
       "    <tr>\n",
       "      <th>258</th>\n",
       "      <td>6</td>\n",
       "      <td>United Arab Emirates</td>\n",
       "      <td>2017</td>\n",
       "      <td>133.584948</td>\n",
       "    </tr>\n",
       "    <tr>\n",
       "      <th>259</th>\n",
       "      <td>248</td>\n",
       "      <td>Uruguay</td>\n",
       "      <td>2017</td>\n",
       "      <td>19.635733</td>\n",
       "    </tr>\n",
       "  </tbody>\n",
       "</table>\n",
       "<p>260 rows × 4 columns</p>\n",
       "</div>"
      ],
      "text/plain": [
       "     Unnamed: 0          Country Name  Year     Density\n",
       "0            10   Antigua and Barbuda  2014  210.368182\n",
       "1             7             Argentina  2014   15.591645\n",
       "2            11             Australia  2014    3.055815\n",
       "3            12               Austria  2014  103.563322\n",
       "4            28              Barbados  2014  662.383721\n",
       "..          ...                   ...   ...         ...\n",
       "255         240   Trinidad and Tobago  2017  269.799610\n",
       "256         242                Turkey  2017  105.377769\n",
       "257         233          Turkmenistan  2017   12.252184\n",
       "258           6  United Arab Emirates  2017  133.584948\n",
       "259         248               Uruguay  2017   19.635733\n",
       "\n",
       "[260 rows x 4 columns]"
      ]
     },
     "execution_count": 153,
     "metadata": {},
     "output_type": "execute_result"
    }
   ],
   "source": [
    "pop_dens_filtered_above"
   ]
  },
  {
   "cell_type": "markdown",
   "metadata": {},
   "source": [
    "### Merge population density and depression datasets on Country and Year"
   ]
  },
  {
   "cell_type": "code",
   "execution_count": 154,
   "metadata": {},
   "outputs": [],
   "source": [
    "pop_dens_depression_above = depression_filtered.merge(pop_dens_filtered_above, left_on=['Country Name', 'Year'], right_on=['Country Name', 'Year'], how='right')"
   ]
  },
  {
   "cell_type": "code",
   "execution_count": 155,
   "metadata": {
    "scrolled": true
   },
   "outputs": [
    {
     "data": {
      "text/html": [
       "<div>\n",
       "<style scoped>\n",
       "    .dataframe tbody tr th:only-of-type {\n",
       "        vertical-align: middle;\n",
       "    }\n",
       "\n",
       "    .dataframe tbody tr th {\n",
       "        vertical-align: top;\n",
       "    }\n",
       "\n",
       "    .dataframe thead th {\n",
       "        text-align: right;\n",
       "    }\n",
       "</style>\n",
       "<table border=\"1\" class=\"dataframe\">\n",
       "  <thead>\n",
       "    <tr style=\"text-align: right;\">\n",
       "      <th></th>\n",
       "      <th>Unnamed: 0_x</th>\n",
       "      <th>Country Name</th>\n",
       "      <th>Year</th>\n",
       "      <th>Depression Count</th>\n",
       "      <th>Unnamed: 0_y</th>\n",
       "      <th>Density</th>\n",
       "    </tr>\n",
       "  </thead>\n",
       "  <tbody>\n",
       "    <tr>\n",
       "      <th>0</th>\n",
       "      <td>220.0</td>\n",
       "      <td>Antigua and Barbuda</td>\n",
       "      <td>2014</td>\n",
       "      <td>2.350947e+03</td>\n",
       "      <td>10</td>\n",
       "      <td>210.368182</td>\n",
       "    </tr>\n",
       "    <tr>\n",
       "      <th>1</th>\n",
       "      <td>221.0</td>\n",
       "      <td>Antigua and Barbuda</td>\n",
       "      <td>2015</td>\n",
       "      <td>2.381900e+03</td>\n",
       "      <td>10</td>\n",
       "      <td>212.650000</td>\n",
       "    </tr>\n",
       "    <tr>\n",
       "      <th>2</th>\n",
       "      <td>222.0</td>\n",
       "      <td>Antigua and Barbuda</td>\n",
       "      <td>2016</td>\n",
       "      <td>2.415520e+03</td>\n",
       "      <td>10</td>\n",
       "      <td>214.834091</td>\n",
       "    </tr>\n",
       "    <tr>\n",
       "      <th>3</th>\n",
       "      <td>223.0</td>\n",
       "      <td>Antigua and Barbuda</td>\n",
       "      <td>2017</td>\n",
       "      <td>2.448101e+03</td>\n",
       "      <td>10</td>\n",
       "      <td>216.877273</td>\n",
       "    </tr>\n",
       "    <tr>\n",
       "      <th>4</th>\n",
       "      <td>248.0</td>\n",
       "      <td>Argentina</td>\n",
       "      <td>2014</td>\n",
       "      <td>1.517814e+06</td>\n",
       "      <td>7</td>\n",
       "      <td>15.591645</td>\n",
       "    </tr>\n",
       "    <tr>\n",
       "      <th>...</th>\n",
       "      <td>...</td>\n",
       "      <td>...</td>\n",
       "      <td>...</td>\n",
       "      <td>...</td>\n",
       "      <td>...</td>\n",
       "      <td>...</td>\n",
       "    </tr>\n",
       "    <tr>\n",
       "      <th>255</th>\n",
       "      <td>6159.0</td>\n",
       "      <td>Uruguay</td>\n",
       "      <td>2017</td>\n",
       "      <td>1.248457e+05</td>\n",
       "      <td>248</td>\n",
       "      <td>19.635733</td>\n",
       "    </tr>\n",
       "    <tr>\n",
       "      <th>256</th>\n",
       "      <td>NaN</td>\n",
       "      <td>Russian Federation</td>\n",
       "      <td>2014</td>\n",
       "      <td>NaN</td>\n",
       "      <td>200</td>\n",
       "      <td>8.781877</td>\n",
       "    </tr>\n",
       "    <tr>\n",
       "      <th>257</th>\n",
       "      <td>NaN</td>\n",
       "      <td>Russian Federation</td>\n",
       "      <td>2015</td>\n",
       "      <td>NaN</td>\n",
       "      <td>200</td>\n",
       "      <td>8.798804</td>\n",
       "    </tr>\n",
       "    <tr>\n",
       "      <th>258</th>\n",
       "      <td>NaN</td>\n",
       "      <td>Russian Federation</td>\n",
       "      <td>2016</td>\n",
       "      <td>NaN</td>\n",
       "      <td>200</td>\n",
       "      <td>8.813796</td>\n",
       "    </tr>\n",
       "    <tr>\n",
       "      <th>259</th>\n",
       "      <td>NaN</td>\n",
       "      <td>Russian Federation</td>\n",
       "      <td>2017</td>\n",
       "      <td>NaN</td>\n",
       "      <td>200</td>\n",
       "      <td>8.823221</td>\n",
       "    </tr>\n",
       "  </tbody>\n",
       "</table>\n",
       "<p>260 rows × 6 columns</p>\n",
       "</div>"
      ],
      "text/plain": [
       "     Unnamed: 0_x         Country Name  Year  Depression Count  Unnamed: 0_y  \\\n",
       "0           220.0  Antigua and Barbuda  2014      2.350947e+03            10   \n",
       "1           221.0  Antigua and Barbuda  2015      2.381900e+03            10   \n",
       "2           222.0  Antigua and Barbuda  2016      2.415520e+03            10   \n",
       "3           223.0  Antigua and Barbuda  2017      2.448101e+03            10   \n",
       "4           248.0            Argentina  2014      1.517814e+06             7   \n",
       "..            ...                  ...   ...               ...           ...   \n",
       "255        6159.0              Uruguay  2017      1.248457e+05           248   \n",
       "256           NaN   Russian Federation  2014               NaN           200   \n",
       "257           NaN   Russian Federation  2015               NaN           200   \n",
       "258           NaN   Russian Federation  2016               NaN           200   \n",
       "259           NaN   Russian Federation  2017               NaN           200   \n",
       "\n",
       "        Density  \n",
       "0    210.368182  \n",
       "1    212.650000  \n",
       "2    214.834091  \n",
       "3    216.877273  \n",
       "4     15.591645  \n",
       "..          ...  \n",
       "255   19.635733  \n",
       "256    8.781877  \n",
       "257    8.798804  \n",
       "258    8.813796  \n",
       "259    8.823221  \n",
       "\n",
       "[260 rows x 6 columns]"
      ]
     },
     "execution_count": 155,
     "metadata": {},
     "output_type": "execute_result"
    }
   ],
   "source": [
    "pop_dens_depression_above"
   ]
  },
  {
   "cell_type": "code",
   "execution_count": 156,
   "metadata": {},
   "outputs": [],
   "source": [
    "pop_dens_depression_above = pop_dens_depression_above.drop(['Unnamed: 0_x', 'Unnamed: 0_y'], axis=1)"
   ]
  },
  {
   "cell_type": "code",
   "execution_count": 157,
   "metadata": {},
   "outputs": [
    {
     "data": {
      "text/plain": [
       "Index(['Country Name', 'Year', 'Depression Count', 'Density'], dtype='object')"
      ]
     },
     "execution_count": 157,
     "metadata": {},
     "output_type": "execute_result"
    }
   ],
   "source": [
    "pop_dens_depression_above.columns"
   ]
  },
  {
   "cell_type": "code",
   "execution_count": 158,
   "metadata": {},
   "outputs": [],
   "source": [
    "pop_dens_depression_above_by_country = pop_dens_depression_above.groupby(['Country Name']).mean().reset_index()"
   ]
  },
  {
   "cell_type": "code",
   "execution_count": 159,
   "metadata": {
    "scrolled": true
   },
   "outputs": [
    {
     "data": {
      "text/plain": [
       "Index(['Country Name', 'Depression Count', 'Density'], dtype='object')"
      ]
     },
     "execution_count": 159,
     "metadata": {},
     "output_type": "execute_result"
    }
   ],
   "source": [
    "pop_dens_depression_above_by_country.columns"
   ]
  },
  {
   "cell_type": "code",
   "execution_count": 160,
   "metadata": {},
   "outputs": [],
   "source": [
    "pop_dens_depression_above_by_country.fillna(pop_dens_depression_above_by_country[\"Depression Count\"].mode()[0], inplace = True)"
   ]
  },
  {
   "cell_type": "code",
   "execution_count": 161,
   "metadata": {},
   "outputs": [
    {
     "data": {
      "text/html": [
       "<div>\n",
       "<style scoped>\n",
       "    .dataframe tbody tr th:only-of-type {\n",
       "        vertical-align: middle;\n",
       "    }\n",
       "\n",
       "    .dataframe tbody tr th {\n",
       "        vertical-align: top;\n",
       "    }\n",
       "\n",
       "    .dataframe thead th {\n",
       "        text-align: right;\n",
       "    }\n",
       "</style>\n",
       "<table border=\"1\" class=\"dataframe\">\n",
       "  <thead>\n",
       "    <tr style=\"text-align: right;\">\n",
       "      <th></th>\n",
       "      <th>Country Name</th>\n",
       "      <th>Depression Count</th>\n",
       "      <th>Density</th>\n",
       "    </tr>\n",
       "  </thead>\n",
       "  <tbody>\n",
       "    <tr>\n",
       "      <th>0</th>\n",
       "      <td>Antigua and Barbuda</td>\n",
       "      <td>2.399117e+03</td>\n",
       "      <td>213.682386</td>\n",
       "    </tr>\n",
       "    <tr>\n",
       "      <th>1</th>\n",
       "      <td>Argentina</td>\n",
       "      <td>1.547117e+06</td>\n",
       "      <td>15.843651</td>\n",
       "    </tr>\n",
       "    <tr>\n",
       "      <th>2</th>\n",
       "      <td>Australia</td>\n",
       "      <td>1.066378e+06</td>\n",
       "      <td>3.124806</td>\n",
       "    </tr>\n",
       "    <tr>\n",
       "      <th>3</th>\n",
       "      <td>Austria</td>\n",
       "      <td>3.191915e+05</td>\n",
       "      <td>105.195644</td>\n",
       "    </tr>\n",
       "    <tr>\n",
       "      <th>4</th>\n",
       "      <td>Barbados</td>\n",
       "      <td>9.192396e+03</td>\n",
       "      <td>664.056977</td>\n",
       "    </tr>\n",
       "    <tr>\n",
       "      <th>...</th>\n",
       "      <td>...</td>\n",
       "      <td>...</td>\n",
       "      <td>...</td>\n",
       "    </tr>\n",
       "    <tr>\n",
       "      <th>60</th>\n",
       "      <td>Trinidad and Tobago</td>\n",
       "      <td>4.901097e+04</td>\n",
       "      <td>267.753704</td>\n",
       "    </tr>\n",
       "    <tr>\n",
       "      <th>61</th>\n",
       "      <td>Turkey</td>\n",
       "      <td>2.979087e+06</td>\n",
       "      <td>102.869214</td>\n",
       "    </tr>\n",
       "    <tr>\n",
       "      <th>62</th>\n",
       "      <td>Turkmenistan</td>\n",
       "      <td>1.246580e+05</td>\n",
       "      <td>11.944149</td>\n",
       "    </tr>\n",
       "    <tr>\n",
       "      <th>63</th>\n",
       "      <td>United Arab Emirates</td>\n",
       "      <td>3.190112e+05</td>\n",
       "      <td>131.389954</td>\n",
       "    </tr>\n",
       "    <tr>\n",
       "      <th>64</th>\n",
       "      <td>Uruguay</td>\n",
       "      <td>1.234121e+05</td>\n",
       "      <td>19.530941</td>\n",
       "    </tr>\n",
       "  </tbody>\n",
       "</table>\n",
       "<p>65 rows × 3 columns</p>\n",
       "</div>"
      ],
      "text/plain": [
       "            Country Name  Depression Count     Density\n",
       "0    Antigua and Barbuda      2.399117e+03  213.682386\n",
       "1              Argentina      1.547117e+06   15.843651\n",
       "2              Australia      1.066378e+06    3.124806\n",
       "3                Austria      3.191915e+05  105.195644\n",
       "4               Barbados      9.192396e+03  664.056977\n",
       "..                   ...               ...         ...\n",
       "60   Trinidad and Tobago      4.901097e+04  267.753704\n",
       "61                Turkey      2.979087e+06  102.869214\n",
       "62          Turkmenistan      1.246580e+05   11.944149\n",
       "63  United Arab Emirates      3.190112e+05  131.389954\n",
       "64               Uruguay      1.234121e+05   19.530941\n",
       "\n",
       "[65 rows x 3 columns]"
      ]
     },
     "execution_count": 161,
     "metadata": {},
     "output_type": "execute_result"
    }
   ],
   "source": [
    "pop_dens_depression_above_by_country"
   ]
  },
  {
   "cell_type": "markdown",
   "metadata": {},
   "source": [
    "### Scatter plots"
   ]
  },
  {
   "cell_type": "code",
   "execution_count": 162,
   "metadata": {},
   "outputs": [
    {
     "data": {
      "image/png": "[encoded data removed]",
      "text/plain": [
       "<Figure size 432x288 with 1 Axes>"
      ]
     },
     "metadata": {
      "needs_background": "light"
     },
     "output_type": "display_data"
    }
   ],
   "source": [
    "import matplotlib.pyplot as plt\n",
    "import pandas as pd\n",
    "import numpy as np\n",
    "\n",
    "\n",
    "ax1 = pop_dens_depression_above_by_country.plot.scatter(x='Density', y='Depression Count', c='DarkBlue')"
   ]
  },
  {
   "cell_type": "markdown",
   "metadata": {},
   "source": [
    "### Correlation Coefficient"
   ]
  },
  {
   "cell_type": "code",
   "execution_count": 163,
   "metadata": {},
   "outputs": [
    {
     "data": {
      "text/plain": [
       "Depression Count    1.00000\n",
       "Density            -0.03065\n",
       "Name: Depression Count, dtype: float64"
      ]
     },
     "execution_count": 163,
     "metadata": {},
     "output_type": "execute_result"
    }
   ],
   "source": [
    "# calculate the correlation matrix\n",
    "corr = pop_dens_depression_above_by_country.corr()\n",
    "corr.loc['Depression Count']"
   ]
  },
  {
   "cell_type": "markdown",
   "metadata": {},
   "source": [
    "## Correlation for depression and population density for countries below the average GDP"
   ]
  },
  {
   "cell_type": "code",
   "execution_count": 164,
   "metadata": {},
   "outputs": [],
   "source": [
    "pop_dens_filtered_below = pd.merge(gdp_filtered_below, pop_dens, left_on=['Country Name'], right_on=['Country Name'], how='left')"
   ]
  },
  {
   "cell_type": "code",
   "execution_count": 165,
   "metadata": {},
   "outputs": [],
   "source": [
    "pop_dens_filtered_below = pop_dens_filtered_below.melt(id_vars=[\"Unnamed: 0\", \"Country Name\"], var_name=\"Year\", value_name=\"Density\")"
   ]
  },
  {
   "cell_type": "code",
   "execution_count": 166,
   "metadata": {},
   "outputs": [
    {
     "data": {
      "text/html": [
       "<div>\n",
       "<style scoped>\n",
       "    .dataframe tbody tr th:only-of-type {\n",
       "        vertical-align: middle;\n",
       "    }\n",
       "\n",
       "    .dataframe tbody tr th {\n",
       "        vertical-align: top;\n",
       "    }\n",
       "\n",
       "    .dataframe thead th {\n",
       "        text-align: right;\n",
       "    }\n",
       "</style>\n",
       "<table border=\"1\" class=\"dataframe\">\n",
       "  <thead>\n",
       "    <tr style=\"text-align: right;\">\n",
       "      <th></th>\n",
       "      <th>Unnamed: 0</th>\n",
       "      <th>Country Name</th>\n",
       "      <th>Year</th>\n",
       "      <th>Density</th>\n",
       "    </tr>\n",
       "  </thead>\n",
       "  <tbody>\n",
       "    <tr>\n",
       "      <th>0</th>\n",
       "      <td>1</td>\n",
       "      <td>Afghanistan</td>\n",
       "      <td>2014</td>\n",
       "      <td>51.114778</td>\n",
       "    </tr>\n",
       "    <tr>\n",
       "      <th>1</th>\n",
       "      <td>3</td>\n",
       "      <td>Albania</td>\n",
       "      <td>2014</td>\n",
       "      <td>105.441752</td>\n",
       "    </tr>\n",
       "    <tr>\n",
       "      <th>2</th>\n",
       "      <td>58</td>\n",
       "      <td>Algeria</td>\n",
       "      <td>2014</td>\n",
       "      <td>16.342542</td>\n",
       "    </tr>\n",
       "    <tr>\n",
       "      <th>3</th>\n",
       "      <td>2</td>\n",
       "      <td>Angola</td>\n",
       "      <td>2014</td>\n",
       "      <td>21.610475</td>\n",
       "    </tr>\n",
       "    <tr>\n",
       "      <th>4</th>\n",
       "      <td>8</td>\n",
       "      <td>Armenia</td>\n",
       "      <td>2014</td>\n",
       "      <td>102.297260</td>\n",
       "    </tr>\n",
       "    <tr>\n",
       "      <th>...</th>\n",
       "      <td>...</td>\n",
       "      <td>...</td>\n",
       "      <td>...</td>\n",
       "      <td>...</td>\n",
       "    </tr>\n",
       "    <tr>\n",
       "      <th>315</th>\n",
       "      <td>246</td>\n",
       "      <td>Ukraine</td>\n",
       "      <td>2017</td>\n",
       "      <td>77.388460</td>\n",
       "    </tr>\n",
       "    <tr>\n",
       "      <th>316</th>\n",
       "      <td>250</td>\n",
       "      <td>Uzbekistan</td>\n",
       "      <td>2017</td>\n",
       "      <td>73.512382</td>\n",
       "    </tr>\n",
       "    <tr>\n",
       "      <th>317</th>\n",
       "      <td>256</td>\n",
       "      <td>Vanuatu</td>\n",
       "      <td>2017</td>\n",
       "      <td>23.421657</td>\n",
       "    </tr>\n",
       "    <tr>\n",
       "      <th>318</th>\n",
       "      <td>262</td>\n",
       "      <td>Zambia</td>\n",
       "      <td>2017</td>\n",
       "      <td>22.671395</td>\n",
       "    </tr>\n",
       "    <tr>\n",
       "      <th>319</th>\n",
       "      <td>263</td>\n",
       "      <td>Zimbabwe</td>\n",
       "      <td>2017</td>\n",
       "      <td>36.801719</td>\n",
       "    </tr>\n",
       "  </tbody>\n",
       "</table>\n",
       "<p>320 rows × 4 columns</p>\n",
       "</div>"
      ],
      "text/plain": [
       "     Unnamed: 0 Country Name  Year     Density\n",
       "0             1  Afghanistan  2014   51.114778\n",
       "1             3      Albania  2014  105.441752\n",
       "2            58      Algeria  2014   16.342542\n",
       "3             2       Angola  2014   21.610475\n",
       "4             8      Armenia  2014  102.297260\n",
       "..          ...          ...   ...         ...\n",
       "315         246      Ukraine  2017   77.388460\n",
       "316         250   Uzbekistan  2017   73.512382\n",
       "317         256      Vanuatu  2017   23.421657\n",
       "318         262       Zambia  2017   22.671395\n",
       "319         263     Zimbabwe  2017   36.801719\n",
       "\n",
       "[320 rows x 4 columns]"
      ]
     },
     "execution_count": 166,
     "metadata": {},
     "output_type": "execute_result"
    }
   ],
   "source": [
    "pop_dens_filtered_below"
   ]
  },
  {
   "cell_type": "markdown",
   "metadata": {},
   "source": [
    "### Merge population density and depression datasets on Country and Year"
   ]
  },
  {
   "cell_type": "code",
   "execution_count": 167,
   "metadata": {},
   "outputs": [],
   "source": [
    "pop_dens_depression_below = depression_filtered.merge(pop_dens_filtered_below, left_on=['Country Name', 'Year'], right_on=['Country Name', 'Year'], how='right')"
   ]
  },
  {
   "cell_type": "code",
   "execution_count": 168,
   "metadata": {
    "scrolled": true
   },
   "outputs": [
    {
     "data": {
      "text/html": [
       "<div>\n",
       "<style scoped>\n",
       "    .dataframe tbody tr th:only-of-type {\n",
       "        vertical-align: middle;\n",
       "    }\n",
       "\n",
       "    .dataframe tbody tr th {\n",
       "        vertical-align: top;\n",
       "    }\n",
       "\n",
       "    .dataframe thead th {\n",
       "        text-align: right;\n",
       "    }\n",
       "</style>\n",
       "<table border=\"1\" class=\"dataframe\">\n",
       "  <thead>\n",
       "    <tr style=\"text-align: right;\">\n",
       "      <th></th>\n",
       "      <th>Unnamed: 0_x</th>\n",
       "      <th>Country Name</th>\n",
       "      <th>Year</th>\n",
       "      <th>Depression Count</th>\n",
       "      <th>Unnamed: 0_y</th>\n",
       "      <th>Density</th>\n",
       "    </tr>\n",
       "  </thead>\n",
       "  <tbody>\n",
       "    <tr>\n",
       "      <th>0</th>\n",
       "      <td>24.0</td>\n",
       "      <td>Afghanistan</td>\n",
       "      <td>2014</td>\n",
       "      <td>884404.683172</td>\n",
       "      <td>1</td>\n",
       "      <td>51.114778</td>\n",
       "    </tr>\n",
       "    <tr>\n",
       "      <th>1</th>\n",
       "      <td>25.0</td>\n",
       "      <td>Afghanistan</td>\n",
       "      <td>2015</td>\n",
       "      <td>906133.433945</td>\n",
       "      <td>1</td>\n",
       "      <td>52.712071</td>\n",
       "    </tr>\n",
       "    <tr>\n",
       "      <th>2</th>\n",
       "      <td>26.0</td>\n",
       "      <td>Afghanistan</td>\n",
       "      <td>2016</td>\n",
       "      <td>932188.730746</td>\n",
       "      <td>1</td>\n",
       "      <td>54.197114</td>\n",
       "    </tr>\n",
       "    <tr>\n",
       "      <th>3</th>\n",
       "      <td>27.0</td>\n",
       "      <td>Afghanistan</td>\n",
       "      <td>2017</td>\n",
       "      <td>967281.203243</td>\n",
       "      <td>1</td>\n",
       "      <td>55.595993</td>\n",
       "    </tr>\n",
       "    <tr>\n",
       "      <th>4</th>\n",
       "      <td>52.0</td>\n",
       "      <td>Albania</td>\n",
       "      <td>2014</td>\n",
       "      <td>68970.473430</td>\n",
       "      <td>3</td>\n",
       "      <td>105.441752</td>\n",
       "    </tr>\n",
       "    <tr>\n",
       "      <th>...</th>\n",
       "      <td>...</td>\n",
       "      <td>...</td>\n",
       "      <td>...</td>\n",
       "      <td>...</td>\n",
       "      <td>...</td>\n",
       "      <td>...</td>\n",
       "    </tr>\n",
       "    <tr>\n",
       "      <th>315</th>\n",
       "      <td>NaN</td>\n",
       "      <td>Timor-Leste</td>\n",
       "      <td>2015</td>\n",
       "      <td>NaN</td>\n",
       "      <td>235</td>\n",
       "      <td>80.450706</td>\n",
       "    </tr>\n",
       "    <tr>\n",
       "      <th>316</th>\n",
       "      <td>NaN</td>\n",
       "      <td>Cabo Verde</td>\n",
       "      <td>2016</td>\n",
       "      <td>NaN</td>\n",
       "      <td>45</td>\n",
       "      <td>131.798015</td>\n",
       "    </tr>\n",
       "    <tr>\n",
       "      <th>317</th>\n",
       "      <td>NaN</td>\n",
       "      <td>Timor-Leste</td>\n",
       "      <td>2016</td>\n",
       "      <td>NaN</td>\n",
       "      <td>235</td>\n",
       "      <td>81.996503</td>\n",
       "    </tr>\n",
       "    <tr>\n",
       "      <th>318</th>\n",
       "      <td>NaN</td>\n",
       "      <td>Cabo Verde</td>\n",
       "      <td>2017</td>\n",
       "      <td>NaN</td>\n",
       "      <td>45</td>\n",
       "      <td>133.373945</td>\n",
       "    </tr>\n",
       "    <tr>\n",
       "      <th>319</th>\n",
       "      <td>NaN</td>\n",
       "      <td>Timor-Leste</td>\n",
       "      <td>2017</td>\n",
       "      <td>NaN</td>\n",
       "      <td>235</td>\n",
       "      <td>83.608675</td>\n",
       "    </tr>\n",
       "  </tbody>\n",
       "</table>\n",
       "<p>320 rows × 6 columns</p>\n",
       "</div>"
      ],
      "text/plain": [
       "     Unnamed: 0_x Country Name  Year  Depression Count  Unnamed: 0_y  \\\n",
       "0            24.0  Afghanistan  2014     884404.683172             1   \n",
       "1            25.0  Afghanistan  2015     906133.433945             1   \n",
       "2            26.0  Afghanistan  2016     932188.730746             1   \n",
       "3            27.0  Afghanistan  2017     967281.203243             1   \n",
       "4            52.0      Albania  2014      68970.473430             3   \n",
       "..            ...          ...   ...               ...           ...   \n",
       "315           NaN  Timor-Leste  2015               NaN           235   \n",
       "316           NaN   Cabo Verde  2016               NaN            45   \n",
       "317           NaN  Timor-Leste  2016               NaN           235   \n",
       "318           NaN   Cabo Verde  2017               NaN            45   \n",
       "319           NaN  Timor-Leste  2017               NaN           235   \n",
       "\n",
       "        Density  \n",
       "0     51.114778  \n",
       "1     52.712071  \n",
       "2     54.197114  \n",
       "3     55.595993  \n",
       "4    105.441752  \n",
       "..          ...  \n",
       "315   80.450706  \n",
       "316  131.798015  \n",
       "317   81.996503  \n",
       "318  133.373945  \n",
       "319   83.608675  \n",
       "\n",
       "[320 rows x 6 columns]"
      ]
     },
     "execution_count": 168,
     "metadata": {},
     "output_type": "execute_result"
    }
   ],
   "source": [
    "pop_dens_depression_below"
   ]
  },
  {
   "cell_type": "code",
   "execution_count": 169,
   "metadata": {},
   "outputs": [],
   "source": [
    "pop_dens_depression_below = pop_dens_depression_below.drop(['Unnamed: 0_x', 'Unnamed: 0_y'], axis=1)"
   ]
  },
  {
   "cell_type": "code",
   "execution_count": 170,
   "metadata": {},
   "outputs": [
    {
     "data": {
      "text/plain": [
       "Index(['Country Name', 'Year', 'Depression Count', 'Density'], dtype='object')"
      ]
     },
     "execution_count": 170,
     "metadata": {},
     "output_type": "execute_result"
    }
   ],
   "source": [
    "pop_dens_depression_below.columns"
   ]
  },
  {
   "cell_type": "code",
   "execution_count": 171,
   "metadata": {},
   "outputs": [],
   "source": [
    "pop_dens_depression_below_by_country = pop_dens_depression_below.groupby(['Country Name']).mean().reset_index()"
   ]
  },
  {
   "cell_type": "code",
   "execution_count": 172,
   "metadata": {
    "scrolled": true
   },
   "outputs": [
    {
     "data": {
      "text/plain": [
       "Index(['Country Name', 'Depression Count', 'Density'], dtype='object')"
      ]
     },
     "execution_count": 172,
     "metadata": {},
     "output_type": "execute_result"
    }
   ],
   "source": [
    "pop_dens_depression_below_by_country.columns"
   ]
  },
  {
   "cell_type": "code",
   "execution_count": 173,
   "metadata": {},
   "outputs": [],
   "source": [
    "pop_dens_depression_below_by_country.fillna(pop_dens_depression_below_by_country[\"Depression Count\"].mode()[0], inplace = True)"
   ]
  },
  {
   "cell_type": "code",
   "execution_count": 174,
   "metadata": {},
   "outputs": [
    {
     "data": {
      "text/html": [
       "<div>\n",
       "<style scoped>\n",
       "    .dataframe tbody tr th:only-of-type {\n",
       "        vertical-align: middle;\n",
       "    }\n",
       "\n",
       "    .dataframe tbody tr th {\n",
       "        vertical-align: top;\n",
       "    }\n",
       "\n",
       "    .dataframe thead th {\n",
       "        text-align: right;\n",
       "    }\n",
       "</style>\n",
       "<table border=\"1\" class=\"dataframe\">\n",
       "  <thead>\n",
       "    <tr style=\"text-align: right;\">\n",
       "      <th></th>\n",
       "      <th>Country Name</th>\n",
       "      <th>Depression Count</th>\n",
       "      <th>Density</th>\n",
       "    </tr>\n",
       "  </thead>\n",
       "  <tbody>\n",
       "    <tr>\n",
       "      <th>0</th>\n",
       "      <td>Afghanistan</td>\n",
       "      <td>9.225020e+05</td>\n",
       "      <td>53.404989</td>\n",
       "    </tr>\n",
       "    <tr>\n",
       "      <th>1</th>\n",
       "      <td>Albania</td>\n",
       "      <td>6.930178e+04</td>\n",
       "      <td>105.103695</td>\n",
       "    </tr>\n",
       "    <tr>\n",
       "      <th>2</th>\n",
       "      <td>Algeria</td>\n",
       "      <td>1.362142e+06</td>\n",
       "      <td>16.856611</td>\n",
       "    </tr>\n",
       "    <tr>\n",
       "      <th>3</th>\n",
       "      <td>Angola</td>\n",
       "      <td>7.862751e+05</td>\n",
       "      <td>22.757157</td>\n",
       "    </tr>\n",
       "    <tr>\n",
       "      <th>4</th>\n",
       "      <td>Armenia</td>\n",
       "      <td>9.273374e+04</td>\n",
       "      <td>102.905787</td>\n",
       "    </tr>\n",
       "    <tr>\n",
       "      <th>...</th>\n",
       "      <td>...</td>\n",
       "      <td>...</td>\n",
       "      <td>...</td>\n",
       "    </tr>\n",
       "    <tr>\n",
       "      <th>75</th>\n",
       "      <td>Ukraine</td>\n",
       "      <td>2.263159e+06</td>\n",
       "      <td>77.794035</td>\n",
       "    </tr>\n",
       "    <tr>\n",
       "      <th>76</th>\n",
       "      <td>Uzbekistan</td>\n",
       "      <td>8.177183e+05</td>\n",
       "      <td>72.284707</td>\n",
       "    </tr>\n",
       "    <tr>\n",
       "      <th>77</th>\n",
       "      <td>Vanuatu</td>\n",
       "      <td>7.010900e+03</td>\n",
       "      <td>22.536054</td>\n",
       "    </tr>\n",
       "    <tr>\n",
       "      <th>78</th>\n",
       "      <td>Zambia</td>\n",
       "      <td>4.082987e+05</td>\n",
       "      <td>21.689930</td>\n",
       "    </tr>\n",
       "    <tr>\n",
       "      <th>79</th>\n",
       "      <td>Zimbabwe</td>\n",
       "      <td>3.258312e+05</td>\n",
       "      <td>35.975472</td>\n",
       "    </tr>\n",
       "  </tbody>\n",
       "</table>\n",
       "<p>80 rows × 3 columns</p>\n",
       "</div>"
      ],
      "text/plain": [
       "   Country Name  Depression Count     Density\n",
       "0   Afghanistan      9.225020e+05   53.404989\n",
       "1       Albania      6.930178e+04  105.103695\n",
       "2       Algeria      1.362142e+06   16.856611\n",
       "3        Angola      7.862751e+05   22.757157\n",
       "4       Armenia      9.273374e+04  102.905787\n",
       "..          ...               ...         ...\n",
       "75      Ukraine      2.263159e+06   77.794035\n",
       "76   Uzbekistan      8.177183e+05   72.284707\n",
       "77      Vanuatu      7.010900e+03   22.536054\n",
       "78       Zambia      4.082987e+05   21.689930\n",
       "79     Zimbabwe      3.258312e+05   35.975472\n",
       "\n",
       "[80 rows x 3 columns]"
      ]
     },
     "execution_count": 174,
     "metadata": {},
     "output_type": "execute_result"
    }
   ],
   "source": [
    "pop_dens_depression_below_by_country"
   ]
  },
  {
   "cell_type": "markdown",
   "metadata": {},
   "source": [
    "### Scatter plots"
   ]
  },
  {
   "cell_type": "code",
   "execution_count": 175,
   "metadata": {},
   "outputs": [
    {
     "data": {
      "image/png": "[encoded data removed]",
      "text/plain": [
       "<Figure size 432x288 with 1 Axes>"
      ]
     },
     "metadata": {
      "needs_background": "light"
     },
     "output_type": "display_data"
    }
   ],
   "source": [
    "import matplotlib.pyplot as plt\n",
    "import pandas as pd\n",
    "import numpy as np\n",
    "\n",
    "\n",
    "ax1 = pop_dens_depression_below_by_country.plot.scatter(x='Density', y='Depression Count', c='DarkBlue')"
   ]
  },
  {
   "cell_type": "markdown",
   "metadata": {},
   "source": [
    "### Correlation Coefficient"
   ]
  },
  {
   "cell_type": "code",
   "execution_count": 176,
   "metadata": {},
   "outputs": [
    {
     "data": {
      "text/plain": [
       "Depression Count    1.000000\n",
       "Density             0.350122\n",
       "Name: Depression Count, dtype: float64"
      ]
     },
     "execution_count": 176,
     "metadata": {},
     "output_type": "execute_result"
    }
   ],
   "source": [
    "# calculate the correlation matrix\n",
    "corr = pop_dens_depression_below_by_country.corr()\n",
    "corr.loc['Depression Count']"
   ]
  }
 ],
 "metadata": {
  "kernelspec": {
   "display_name": "Python 3",
   "language": "python",
   "name": "python3"
  },
  "language_info": {
   "codemirror_mode": {
    "name": "ipython",
    "version": 3
   },
   "file_extension": ".py",
   "mimetype": "text/x-python",
   "name": "python",
   "nbconvert_exporter": "python",
   "pygments_lexer": "ipython3",
   "version": "3.8.1"
  }
 },
 "nbformat": 4,
 "nbformat_minor": 4
}
