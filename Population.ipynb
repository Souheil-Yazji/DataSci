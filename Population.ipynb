{
  "nbformat": 4,
  "nbformat_minor": 0,
  "metadata": {
    "colab": {
      "name": "Population.ipynb",
      "provenance": [],
      "collapsed_sections": [],
      "toc_visible": true,
      "mount_file_id": "1MiDFb8WM3Tx1Fzv9Cu9aC50DjynWX7LX",
      "authorship_tag": "ABX9TyNn+XF4oryGmSHc+r42b7ei",
      "include_colab_link": true
    },
    "kernelspec": {
      "name": "python3",
      "display_name": "Python 3"
    },
    "language_info": {
      "name": "python"
    }
  },
  "cells": [
    {
      "cell_type": "markdown",
      "metadata": {
        "id": "view-in-github",
        "colab_type": "text"
      },
      "source": [
        "<a href=\"https://colab.research.google.com/github/Souheil-Yazji/DataSci/blob/main/Population.ipynb\" target=\"_parent\"><img src=\"https://colab.research.google.com/assets/colab-badge.svg\" alt=\"Open In Colab\"/></a>"
      ]
    },
    {
      "cell_type": "code",
      "metadata": {
        "id": "qhVE1qJ-UGaQ"
      },
      "source": [
        "import pandas as pd"
      ],
      "execution_count": null,
      "outputs": []
    },
    {
      "cell_type": "markdown",
      "metadata": {
        "id": "wrwknEsbXFg9"
      },
      "source": [
        "Read CSV File"
      ]
    },
    {
      "cell_type": "code",
      "metadata": {
        "id": "HJn5eT_TUMjw"
      },
      "source": [
        "df = pd.read_csv('/content/(POPULATION DS)FAOSTAT_data_3-20-2021_population.csv')"
      ],
      "execution_count": null,
      "outputs": []
    },
    {
      "cell_type": "markdown",
      "metadata": {
        "id": "SNJcQdKYXs4l"
      },
      "source": [
        "Slice Data with Year >= 2014 & take only the total population"
      ]
    },
    {
      "cell_type": "code",
      "metadata": {
        "colab": {
          "base_uri": "https://localhost:8080/",
          "height": 306
        },
        "id": "fMvu9VnAXJ03",
        "outputId": "61c1e8e2-47da-434d-8a1b-cba63a658250"
      },
      "source": [
        "df = df[df.Year >= 2014]\n",
        "df = df.loc[df['Element'] == 'Total Population - Both sexes']\n",
        "df.head()"
      ],
      "execution_count": null,
      "outputs": [
        {
          "output_type": "execute_result",
          "data": {
            "text/html": [
              "<div>\n",
              "<style scoped>\n",
              "    .dataframe tbody tr th:only-of-type {\n",
              "        vertical-align: middle;\n",
              "    }\n",
              "\n",
              "    .dataframe tbody tr th {\n",
              "        vertical-align: top;\n",
              "    }\n",
              "\n",
              "    .dataframe thead th {\n",
              "        text-align: right;\n",
              "    }\n",
              "</style>\n",
              "<table border=\"1\" class=\"dataframe\">\n",
              "  <thead>\n",
              "    <tr style=\"text-align: right;\">\n",
              "      <th></th>\n",
              "      <th>Domain Code</th>\n",
              "      <th>Domain</th>\n",
              "      <th>Area Code</th>\n",
              "      <th>Area</th>\n",
              "      <th>Element Code</th>\n",
              "      <th>Element</th>\n",
              "      <th>Item Code</th>\n",
              "      <th>Item</th>\n",
              "      <th>Year Code</th>\n",
              "      <th>Year</th>\n",
              "      <th>Unit</th>\n",
              "      <th>Value</th>\n",
              "      <th>Flag</th>\n",
              "      <th>Flag Description</th>\n",
              "      <th>Note</th>\n",
              "    </tr>\n",
              "  </thead>\n",
              "  <tbody>\n",
              "    <tr>\n",
              "      <th>320</th>\n",
              "      <td>OA</td>\n",
              "      <td>Annual population</td>\n",
              "      <td>2</td>\n",
              "      <td>Afghanistan</td>\n",
              "      <td>511</td>\n",
              "      <td>Total Population - Both sexes</td>\n",
              "      <td>3010</td>\n",
              "      <td>Population - Est. &amp; Proj.</td>\n",
              "      <td>2014</td>\n",
              "      <td>2014</td>\n",
              "      <td>1000 persons</td>\n",
              "      <td>33370.794</td>\n",
              "      <td>X</td>\n",
              "      <td>International reliable sources</td>\n",
              "      <td>NaN</td>\n",
              "    </tr>\n",
              "    <tr>\n",
              "      <th>325</th>\n",
              "      <td>OA</td>\n",
              "      <td>Annual population</td>\n",
              "      <td>2</td>\n",
              "      <td>Afghanistan</td>\n",
              "      <td>511</td>\n",
              "      <td>Total Population - Both sexes</td>\n",
              "      <td>3010</td>\n",
              "      <td>Population - Est. &amp; Proj.</td>\n",
              "      <td>2015</td>\n",
              "      <td>2015</td>\n",
              "      <td>1000 persons</td>\n",
              "      <td>34413.603</td>\n",
              "      <td>X</td>\n",
              "      <td>International reliable sources</td>\n",
              "      <td>NaN</td>\n",
              "    </tr>\n",
              "    <tr>\n",
              "      <th>330</th>\n",
              "      <td>OA</td>\n",
              "      <td>Annual population</td>\n",
              "      <td>2</td>\n",
              "      <td>Afghanistan</td>\n",
              "      <td>511</td>\n",
              "      <td>Total Population - Both sexes</td>\n",
              "      <td>3010</td>\n",
              "      <td>Population - Est. &amp; Proj.</td>\n",
              "      <td>2016</td>\n",
              "      <td>2016</td>\n",
              "      <td>1000 persons</td>\n",
              "      <td>35383.032</td>\n",
              "      <td>X</td>\n",
              "      <td>International reliable sources</td>\n",
              "      <td>NaN</td>\n",
              "    </tr>\n",
              "    <tr>\n",
              "      <th>335</th>\n",
              "      <td>OA</td>\n",
              "      <td>Annual population</td>\n",
              "      <td>2</td>\n",
              "      <td>Afghanistan</td>\n",
              "      <td>511</td>\n",
              "      <td>Total Population - Both sexes</td>\n",
              "      <td>3010</td>\n",
              "      <td>Population - Est. &amp; Proj.</td>\n",
              "      <td>2017</td>\n",
              "      <td>2017</td>\n",
              "      <td>1000 persons</td>\n",
              "      <td>36296.113</td>\n",
              "      <td>X</td>\n",
              "      <td>International reliable sources</td>\n",
              "      <td>NaN</td>\n",
              "    </tr>\n",
              "    <tr>\n",
              "      <th>340</th>\n",
              "      <td>OA</td>\n",
              "      <td>Annual population</td>\n",
              "      <td>2</td>\n",
              "      <td>Afghanistan</td>\n",
              "      <td>511</td>\n",
              "      <td>Total Population - Both sexes</td>\n",
              "      <td>3010</td>\n",
              "      <td>Population - Est. &amp; Proj.</td>\n",
              "      <td>2018</td>\n",
              "      <td>2018</td>\n",
              "      <td>1000 persons</td>\n",
              "      <td>37171.921</td>\n",
              "      <td>X</td>\n",
              "      <td>International reliable sources</td>\n",
              "      <td>NaN</td>\n",
              "    </tr>\n",
              "  </tbody>\n",
              "</table>\n",
              "</div>"
            ],
            "text/plain": [
              "    Domain Code             Domain  ...                Flag Description Note\n",
              "320          OA  Annual population  ...  International reliable sources  NaN\n",
              "325          OA  Annual population  ...  International reliable sources  NaN\n",
              "330          OA  Annual population  ...  International reliable sources  NaN\n",
              "335          OA  Annual population  ...  International reliable sources  NaN\n",
              "340          OA  Annual population  ...  International reliable sources  NaN\n",
              "\n",
              "[5 rows x 15 columns]"
            ]
          },
          "metadata": {
            "tags": []
          },
          "execution_count": 43
        }
      ]
    },
    {
      "cell_type": "markdown",
      "metadata": {
        "id": "m3glvcuFg3Ld"
      },
      "source": [
        "Take only the needed columns and rename them for joins with other datasets"
      ]
    },
    {
      "cell_type": "code",
      "metadata": {
        "colab": {
          "base_uri": "https://localhost:8080/",
          "height": 204
        },
        "id": "98t90jnUgAGg",
        "outputId": "932a189f-3be2-4bc8-959c-b2f3344308fc"
      },
      "source": [
        "cleaned_data  = df.drop(df.columns.difference(['Area','Year','Value']),axis = 1)\n",
        "cleaned_data .rename(columns={\"Area\": \"Country Name\", \"Value\": \"Population\"})\n",
        "cleaned_data .head()"
      ],
      "execution_count": null,
      "outputs": [
        {
          "output_type": "execute_result",
          "data": {
            "text/html": [
              "<div>\n",
              "<style scoped>\n",
              "    .dataframe tbody tr th:only-of-type {\n",
              "        vertical-align: middle;\n",
              "    }\n",
              "\n",
              "    .dataframe tbody tr th {\n",
              "        vertical-align: top;\n",
              "    }\n",
              "\n",
              "    .dataframe thead th {\n",
              "        text-align: right;\n",
              "    }\n",
              "</style>\n",
              "<table border=\"1\" class=\"dataframe\">\n",
              "  <thead>\n",
              "    <tr style=\"text-align: right;\">\n",
              "      <th></th>\n",
              "      <th>Area</th>\n",
              "      <th>Year</th>\n",
              "      <th>Value</th>\n",
              "    </tr>\n",
              "  </thead>\n",
              "  <tbody>\n",
              "    <tr>\n",
              "      <th>320</th>\n",
              "      <td>Afghanistan</td>\n",
              "      <td>2014</td>\n",
              "      <td>33370.794</td>\n",
              "    </tr>\n",
              "    <tr>\n",
              "      <th>325</th>\n",
              "      <td>Afghanistan</td>\n",
              "      <td>2015</td>\n",
              "      <td>34413.603</td>\n",
              "    </tr>\n",
              "    <tr>\n",
              "      <th>330</th>\n",
              "      <td>Afghanistan</td>\n",
              "      <td>2016</td>\n",
              "      <td>35383.032</td>\n",
              "    </tr>\n",
              "    <tr>\n",
              "      <th>335</th>\n",
              "      <td>Afghanistan</td>\n",
              "      <td>2017</td>\n",
              "      <td>36296.113</td>\n",
              "    </tr>\n",
              "    <tr>\n",
              "      <th>340</th>\n",
              "      <td>Afghanistan</td>\n",
              "      <td>2018</td>\n",
              "      <td>37171.921</td>\n",
              "    </tr>\n",
              "  </tbody>\n",
              "</table>\n",
              "</div>"
            ],
            "text/plain": [
              "            Area  Year      Value\n",
              "320  Afghanistan  2014  33370.794\n",
              "325  Afghanistan  2015  34413.603\n",
              "330  Afghanistan  2016  35383.032\n",
              "335  Afghanistan  2017  36296.113\n",
              "340  Afghanistan  2018  37171.921"
            ]
          },
          "metadata": {
            "tags": []
          },
          "execution_count": 44
        }
      ]
    },
    {
      "cell_type": "markdown",
      "metadata": {
        "id": "knSkNhP4hIxJ"
      },
      "source": [
        "Convert to CSV"
      ]
    },
    {
      "cell_type": "code",
      "metadata": {
        "id": "KzBwASL9hKYm"
      },
      "source": [
        "cleaned_data.to_csv(\"cleaned_Pop_data_2014_2018.csv\")\n"
      ],
      "execution_count": null,
      "outputs": []
    }
  ]
}